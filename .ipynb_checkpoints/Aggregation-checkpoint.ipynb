{
 "cells": [
  {
   "cell_type": "code",
   "execution_count": 1,
   "id": "5000a2a5",
   "metadata": {
    "ExecuteTime": {
     "end_time": "2022-11-15T02:35:39.809323Z",
     "start_time": "2022-11-15T02:35:33.917936Z"
    }
   },
   "outputs": [
    {
     "name": "stdout",
     "output_type": "stream",
     "text": [
      "Requirement already satisfied: pandas in /opt/anaconda3/envs/ds/lib/python3.10/site-packages (1.4.4)\n",
      "Requirement already satisfied: python-dateutil>=2.8.1 in /opt/anaconda3/envs/ds/lib/python3.10/site-packages (from pandas) (2.8.2)\n",
      "Requirement already satisfied: pytz>=2020.1 in /opt/anaconda3/envs/ds/lib/python3.10/site-packages (from pandas) (2022.2.1)\n",
      "Requirement already satisfied: numpy>=1.21.0 in /opt/anaconda3/envs/ds/lib/python3.10/site-packages (from pandas) (1.23.2)\n",
      "Requirement already satisfied: six>=1.5 in /opt/anaconda3/envs/ds/lib/python3.10/site-packages (from python-dateutil>=2.8.1->pandas) (1.16.0)\n",
      "Collecting sodapy\n",
      "  Using cached sodapy-2.2.0-py2.py3-none-any.whl (15 kB)\n",
      "Requirement already satisfied: requests>=2.28.1 in /opt/anaconda3/envs/ds/lib/python3.10/site-packages (from sodapy) (2.28.1)\n",
      "Requirement already satisfied: urllib3<1.27,>=1.21.1 in /opt/anaconda3/envs/ds/lib/python3.10/site-packages (from requests>=2.28.1->sodapy) (1.26.11)\n",
      "Requirement already satisfied: idna<4,>=2.5 in /opt/anaconda3/envs/ds/lib/python3.10/site-packages (from requests>=2.28.1->sodapy) (3.3)\n",
      "Requirement already satisfied: charset-normalizer<3,>=2 in /opt/anaconda3/envs/ds/lib/python3.10/site-packages (from requests>=2.28.1->sodapy) (2.1.1)\n",
      "Requirement already satisfied: certifi>=2017.4.17 in /opt/anaconda3/envs/ds/lib/python3.10/site-packages (from requests>=2.28.1->sodapy) (2022.6.15)\n",
      "Installing collected packages: sodapy\n",
      "Successfully installed sodapy-2.2.0\n"
     ]
    }
   ],
   "source": [
    "# API key ID: otlwwfxero72fkms03hi49x2\n",
    "# API key secret: 5qbnpzqphl1y8bz6eggxraxlzlnbnhso49bro4925r1rpxj6sn\n",
    "# app token: 8y23ArYxg4pcvOMgWzMFSC0nB\n",
    "# secret app token: pZgwEL4lKm2r1s868Saz3EJ1ebpTKy-FzglU\n",
    "\n",
    "# crime data docs: https://dev.socrata.com/foundry/data.cityofchicago.org/9hwr-2zxp\n",
    "\n",
    "# make sure to install these packages before running:\n",
    "!pip install pandas\n",
    "!pip install sodapy"
   ]
  },
  {
   "cell_type": "code",
   "execution_count": 2,
   "id": "e46913bb",
   "metadata": {
    "ExecuteTime": {
     "end_time": "2022-11-15T02:35:40.507455Z",
     "start_time": "2022-11-15T02:35:39.833470Z"
    }
   },
   "outputs": [],
   "source": [
    "import pandas as pd\n",
    "import sodapy\n",
    "from sodapy import Socrata"
   ]
  },
  {
   "cell_type": "code",
   "execution_count": 3,
   "id": "ed501141",
   "metadata": {
    "ExecuteTime": {
     "end_time": "2022-11-15T02:36:05.458951Z",
     "start_time": "2022-11-15T02:35:40.522770Z"
    }
   },
   "outputs": [
    {
     "name": "stdout",
     "output_type": "stream",
     "text": [
      "(199469, 22)\n"
     ]
    }
   ],
   "source": [
    "# crime_url = \"https://data.cityofchicago.org/resource/9hwr-2zxp.json\"\n",
    "\n",
    "\n",
    "app_token = \"8y23ArYxg4pcvOMgWzMFSC0nB\"\n",
    "\n",
    "# Example authenticated client (needed for non-public datasets):\n",
    "client = Socrata(\"data.cityofchicago.org\",\n",
    "                 app_token, \n",
    "                 username=\"ch35@illinois.edu\",\n",
    "                 password=\"68M8rz3vF!StBjD\")\n",
    "\n",
    "\n",
    "# First 2000 results, returned as JSON from API / converted to Python list of\n",
    "# dictionaries by sodapy.\n",
    "results = client.get(\"9hwr-2zxp\", limit = 200000)\n",
    "\n",
    "# Convert to pandas DataFrame\n",
    "crime_df = pd.DataFrame.from_records(results)\n",
    "\n",
    "print(crime_df.shape)"
   ]
  },
  {
   "cell_type": "code",
   "execution_count": 4,
   "id": "594935a1",
   "metadata": {
    "ExecuteTime": {
     "end_time": "2022-11-15T02:36:09.309659Z",
     "start_time": "2022-11-15T02:36:09.268877Z"
    }
   },
   "outputs": [
    {
     "data": {
      "text/html": [
       "<div>\n",
       "<style scoped>\n",
       "    .dataframe tbody tr th:only-of-type {\n",
       "        vertical-align: middle;\n",
       "    }\n",
       "\n",
       "    .dataframe tbody tr th {\n",
       "        vertical-align: top;\n",
       "    }\n",
       "\n",
       "    .dataframe thead th {\n",
       "        text-align: right;\n",
       "    }\n",
       "</style>\n",
       "<table border=\"1\" class=\"dataframe\">\n",
       "  <thead>\n",
       "    <tr style=\"text-align: right;\">\n",
       "      <th></th>\n",
       "      <th>date</th>\n",
       "      <th>location</th>\n",
       "      <th>district</th>\n",
       "      <th>block</th>\n",
       "      <th>y_coordinate</th>\n",
       "      <th>latitude</th>\n",
       "      <th>description</th>\n",
       "      <th>location_description</th>\n",
       "      <th>updated_on</th>\n",
       "      <th>community_area</th>\n",
       "      <th>...</th>\n",
       "      <th>ward</th>\n",
       "      <th>case_number</th>\n",
       "      <th>year</th>\n",
       "      <th>domestic</th>\n",
       "      <th>fbi_code</th>\n",
       "      <th>longitude</th>\n",
       "      <th>beat</th>\n",
       "      <th>primary_type</th>\n",
       "      <th>arrest</th>\n",
       "      <th>id</th>\n",
       "    </tr>\n",
       "  </thead>\n",
       "  <tbody>\n",
       "    <tr>\n",
       "      <th>0</th>\n",
       "      <td>2022-11-06T23:50:00.000</td>\n",
       "      <td>{'latitude': '41.771617449', 'human_address': ...</td>\n",
       "      <td>007</td>\n",
       "      <td>067XX S MAY ST</td>\n",
       "      <td>1860102</td>\n",
       "      <td>41.771617449</td>\n",
       "      <td>SIMPLE</td>\n",
       "      <td>APARTMENT</td>\n",
       "      <td>2022-11-13T15:50:21.000</td>\n",
       "      <td>68</td>\n",
       "      <td>...</td>\n",
       "      <td>16</td>\n",
       "      <td>JF465139</td>\n",
       "      <td>2022</td>\n",
       "      <td>True</td>\n",
       "      <td>08A</td>\n",
       "      <td>-87.653078914</td>\n",
       "      <td>0724</td>\n",
       "      <td>ASSAULT</td>\n",
       "      <td>True</td>\n",
       "      <td>12884832</td>\n",
       "    </tr>\n",
       "    <tr>\n",
       "      <th>1</th>\n",
       "      <td>2022-11-06T23:49:00.000</td>\n",
       "      <td>{'latitude': '41.841270708', 'human_address': ...</td>\n",
       "      <td>009</td>\n",
       "      <td>027XX S ASHLAND AVE</td>\n",
       "      <td>1885456</td>\n",
       "      <td>41.841270708</td>\n",
       "      <td>OTHER VEHICLE OFFENSE</td>\n",
       "      <td>STREET</td>\n",
       "      <td>2022-11-13T15:50:21.000</td>\n",
       "      <td>31</td>\n",
       "      <td>...</td>\n",
       "      <td>25</td>\n",
       "      <td>JF465156</td>\n",
       "      <td>2022</td>\n",
       "      <td>False</td>\n",
       "      <td>26</td>\n",
       "      <td>-87.665828442</td>\n",
       "      <td>0913</td>\n",
       "      <td>OTHER OFFENSE</td>\n",
       "      <td>True</td>\n",
       "      <td>12884814</td>\n",
       "    </tr>\n",
       "    <tr>\n",
       "      <th>2</th>\n",
       "      <td>2022-11-06T23:47:00.000</td>\n",
       "      <td>{'latitude': '41.936082277', 'human_address': ...</td>\n",
       "      <td>025</td>\n",
       "      <td>030XX N KNOX AVE</td>\n",
       "      <td>1919851</td>\n",
       "      <td>41.936082277</td>\n",
       "      <td>TO PROPERTY</td>\n",
       "      <td>RESIDENCE</td>\n",
       "      <td>2022-11-13T15:50:21.000</td>\n",
       "      <td>19</td>\n",
       "      <td>...</td>\n",
       "      <td>31</td>\n",
       "      <td>JF465153</td>\n",
       "      <td>2022</td>\n",
       "      <td>False</td>\n",
       "      <td>14</td>\n",
       "      <td>-87.743131987</td>\n",
       "      <td>2521</td>\n",
       "      <td>CRIMINAL DAMAGE</td>\n",
       "      <td>False</td>\n",
       "      <td>12884885</td>\n",
       "    </tr>\n",
       "    <tr>\n",
       "      <th>3</th>\n",
       "      <td>2022-11-06T23:45:00.000</td>\n",
       "      <td>{'latitude': '41.752764973', 'human_address': ...</td>\n",
       "      <td>004</td>\n",
       "      <td>078XX S JEFFERY BLVD</td>\n",
       "      <td>1853408</td>\n",
       "      <td>41.752764973</td>\n",
       "      <td>TO VEHICLE</td>\n",
       "      <td>STREET</td>\n",
       "      <td>2022-11-13T15:50:21.000</td>\n",
       "      <td>43</td>\n",
       "      <td>...</td>\n",
       "      <td>8</td>\n",
       "      <td>JF465179</td>\n",
       "      <td>2022</td>\n",
       "      <td>False</td>\n",
       "      <td>14</td>\n",
       "      <td>-87.576012647</td>\n",
       "      <td>0414</td>\n",
       "      <td>CRIMINAL DAMAGE</td>\n",
       "      <td>False</td>\n",
       "      <td>12884862</td>\n",
       "    </tr>\n",
       "    <tr>\n",
       "      <th>4</th>\n",
       "      <td>2022-11-06T23:43:00.000</td>\n",
       "      <td>{'latitude': '41.711829011', 'human_address': ...</td>\n",
       "      <td>022</td>\n",
       "      <td>100XX S GREEN ST</td>\n",
       "      <td>1838335</td>\n",
       "      <td>41.711829011</td>\n",
       "      <td>DOMESTIC BATTERY SIMPLE</td>\n",
       "      <td>RESIDENCE</td>\n",
       "      <td>2022-11-13T15:50:21.000</td>\n",
       "      <td>73</td>\n",
       "      <td>...</td>\n",
       "      <td>34</td>\n",
       "      <td>JF466483</td>\n",
       "      <td>2022</td>\n",
       "      <td>True</td>\n",
       "      <td>08B</td>\n",
       "      <td>-87.64417619</td>\n",
       "      <td>2232</td>\n",
       "      <td>BATTERY</td>\n",
       "      <td>False</td>\n",
       "      <td>12885946</td>\n",
       "    </tr>\n",
       "  </tbody>\n",
       "</table>\n",
       "<p>5 rows × 22 columns</p>\n",
       "</div>"
      ],
      "text/plain": [
       "                      date                                           location  \\\n",
       "0  2022-11-06T23:50:00.000  {'latitude': '41.771617449', 'human_address': ...   \n",
       "1  2022-11-06T23:49:00.000  {'latitude': '41.841270708', 'human_address': ...   \n",
       "2  2022-11-06T23:47:00.000  {'latitude': '41.936082277', 'human_address': ...   \n",
       "3  2022-11-06T23:45:00.000  {'latitude': '41.752764973', 'human_address': ...   \n",
       "4  2022-11-06T23:43:00.000  {'latitude': '41.711829011', 'human_address': ...   \n",
       "\n",
       "  district                 block y_coordinate      latitude  \\\n",
       "0      007        067XX S MAY ST      1860102  41.771617449   \n",
       "1      009   027XX S ASHLAND AVE      1885456  41.841270708   \n",
       "2      025      030XX N KNOX AVE      1919851  41.936082277   \n",
       "3      004  078XX S JEFFERY BLVD      1853408  41.752764973   \n",
       "4      022      100XX S GREEN ST      1838335  41.711829011   \n",
       "\n",
       "               description location_description               updated_on  \\\n",
       "0                   SIMPLE            APARTMENT  2022-11-13T15:50:21.000   \n",
       "1    OTHER VEHICLE OFFENSE               STREET  2022-11-13T15:50:21.000   \n",
       "2              TO PROPERTY            RESIDENCE  2022-11-13T15:50:21.000   \n",
       "3               TO VEHICLE               STREET  2022-11-13T15:50:21.000   \n",
       "4  DOMESTIC BATTERY SIMPLE            RESIDENCE  2022-11-13T15:50:21.000   \n",
       "\n",
       "  community_area  ... ward case_number  year domestic fbi_code      longitude  \\\n",
       "0             68  ...   16    JF465139  2022     True      08A  -87.653078914   \n",
       "1             31  ...   25    JF465156  2022    False       26  -87.665828442   \n",
       "2             19  ...   31    JF465153  2022    False       14  -87.743131987   \n",
       "3             43  ...    8    JF465179  2022    False       14  -87.576012647   \n",
       "4             73  ...   34    JF466483  2022     True      08B   -87.64417619   \n",
       "\n",
       "   beat     primary_type arrest        id  \n",
       "0  0724          ASSAULT   True  12884832  \n",
       "1  0913    OTHER OFFENSE   True  12884814  \n",
       "2  2521  CRIMINAL DAMAGE  False  12884885  \n",
       "3  0414  CRIMINAL DAMAGE  False  12884862  \n",
       "4  2232          BATTERY  False  12885946  \n",
       "\n",
       "[5 rows x 22 columns]"
      ]
     },
     "execution_count": 4,
     "metadata": {},
     "output_type": "execute_result"
    }
   ],
   "source": [
    "crime_df.head()"
   ]
  },
  {
   "cell_type": "code",
   "execution_count": 5,
   "id": "3767d6c0",
   "metadata": {
    "ExecuteTime": {
     "end_time": "2022-11-15T02:36:13.379171Z",
     "start_time": "2022-11-15T02:36:13.321622Z"
    }
   },
   "outputs": [],
   "source": [
    "month = [i[0:7] for i in crime_df.date]"
   ]
  },
  {
   "cell_type": "code",
   "execution_count": 6,
   "id": "af0517b2",
   "metadata": {
    "ExecuteTime": {
     "end_time": "2022-11-15T02:36:17.061345Z",
     "start_time": "2022-11-15T02:36:17.037221Z"
    }
   },
   "outputs": [],
   "source": [
    "crime_df[\"month\"] = month"
   ]
  },
  {
   "cell_type": "code",
   "execution_count": 7,
   "id": "1ffc6cc7",
   "metadata": {
    "ExecuteTime": {
     "end_time": "2022-11-15T02:36:21.039245Z",
     "start_time": "2022-11-15T02:36:20.644986Z"
    }
   },
   "outputs": [],
   "source": [
    "crime_agg = crime_df.groupby(by=month).size()\n",
    "crime_sum = crime_df.groupby(by=month).sum()"
   ]
  },
  {
   "cell_type": "code",
   "execution_count": 8,
   "id": "7a193f28",
   "metadata": {
    "ExecuteTime": {
     "end_time": "2022-11-15T02:36:24.586676Z",
     "start_time": "2022-11-15T02:36:24.577665Z"
    }
   },
   "outputs": [
    {
     "data": {
      "text/plain": [
       "2022-01    15449\n",
       "2022-02    15121\n",
       "2022-03    18201\n",
       "2022-04    17803\n",
       "2022-05    19956\n",
       "2022-06    20493\n",
       "2022-07    21993\n",
       "2022-08    21937\n",
       "2022-09    21879\n",
       "2022-10    22362\n",
       "2022-11     4275\n",
       "dtype: int64"
      ]
     },
     "execution_count": 8,
     "metadata": {},
     "output_type": "execute_result"
    }
   ],
   "source": [
    "crime_agg"
   ]
  },
  {
   "cell_type": "code",
   "execution_count": 9,
   "id": "1acd7048",
   "metadata": {
    "ExecuteTime": {
     "end_time": "2022-11-15T02:36:28.177181Z",
     "start_time": "2022-11-15T02:36:28.164201Z"
    }
   },
   "outputs": [
    {
     "data": {
      "text/html": [
       "<div>\n",
       "<style scoped>\n",
       "    .dataframe tbody tr th:only-of-type {\n",
       "        vertical-align: middle;\n",
       "    }\n",
       "\n",
       "    .dataframe tbody tr th {\n",
       "        vertical-align: top;\n",
       "    }\n",
       "\n",
       "    .dataframe thead th {\n",
       "        text-align: right;\n",
       "    }\n",
       "</style>\n",
       "<table border=\"1\" class=\"dataframe\">\n",
       "  <thead>\n",
       "    <tr style=\"text-align: right;\">\n",
       "      <th></th>\n",
       "      <th>domestic</th>\n",
       "      <th>arrest</th>\n",
       "    </tr>\n",
       "  </thead>\n",
       "  <tbody>\n",
       "    <tr>\n",
       "      <th>2022-01</th>\n",
       "      <td>3169</td>\n",
       "      <td>1721</td>\n",
       "    </tr>\n",
       "    <tr>\n",
       "      <th>2022-02</th>\n",
       "      <td>2922</td>\n",
       "      <td>2082</td>\n",
       "    </tr>\n",
       "    <tr>\n",
       "      <th>2022-03</th>\n",
       "      <td>3517</td>\n",
       "      <td>2204</td>\n",
       "    </tr>\n",
       "    <tr>\n",
       "      <th>2022-04</th>\n",
       "      <td>3601</td>\n",
       "      <td>2306</td>\n",
       "    </tr>\n",
       "    <tr>\n",
       "      <th>2022-05</th>\n",
       "      <td>3927</td>\n",
       "      <td>2745</td>\n",
       "    </tr>\n",
       "    <tr>\n",
       "      <th>2022-06</th>\n",
       "      <td>3950</td>\n",
       "      <td>2414</td>\n",
       "    </tr>\n",
       "    <tr>\n",
       "      <th>2022-07</th>\n",
       "      <td>3897</td>\n",
       "      <td>2280</td>\n",
       "    </tr>\n",
       "    <tr>\n",
       "      <th>2022-08</th>\n",
       "      <td>3860</td>\n",
       "      <td>2297</td>\n",
       "    </tr>\n",
       "    <tr>\n",
       "      <th>2022-09</th>\n",
       "      <td>3519</td>\n",
       "      <td>2198</td>\n",
       "    </tr>\n",
       "    <tr>\n",
       "      <th>2022-10</th>\n",
       "      <td>3455</td>\n",
       "      <td>1976</td>\n",
       "    </tr>\n",
       "    <tr>\n",
       "      <th>2022-11</th>\n",
       "      <td>651</td>\n",
       "      <td>371</td>\n",
       "    </tr>\n",
       "  </tbody>\n",
       "</table>\n",
       "</div>"
      ],
      "text/plain": [
       "         domestic  arrest\n",
       "2022-01      3169    1721\n",
       "2022-02      2922    2082\n",
       "2022-03      3517    2204\n",
       "2022-04      3601    2306\n",
       "2022-05      3927    2745\n",
       "2022-06      3950    2414\n",
       "2022-07      3897    2280\n",
       "2022-08      3860    2297\n",
       "2022-09      3519    2198\n",
       "2022-10      3455    1976\n",
       "2022-11       651     371"
      ]
     },
     "execution_count": 9,
     "metadata": {},
     "output_type": "execute_result"
    }
   ],
   "source": [
    "crime_sum"
   ]
  },
  {
   "cell_type": "code",
   "execution_count": 11,
   "id": "46102db4",
   "metadata": {
    "ExecuteTime": {
     "end_time": "2022-11-15T02:36:51.564860Z",
     "start_time": "2022-11-15T02:36:51.555849Z"
    }
   },
   "outputs": [
    {
     "data": {
      "text/plain": [
       "Index(['date', 'location', 'district', 'block', 'y_coordinate', 'latitude',\n",
       "       'description', 'location_description', 'updated_on', 'community_area',\n",
       "       'iucr', 'x_coordinate', 'ward', 'case_number', 'year', 'domestic',\n",
       "       'fbi_code', 'longitude', 'beat', 'primary_type', 'arrest', 'id',\n",
       "       'month'],\n",
       "      dtype='object')"
      ]
     },
     "execution_count": 11,
     "metadata": {},
     "output_type": "execute_result"
    }
   ],
   "source": [
    "# temp\n",
    "crime_df.columns"
   ]
  },
  {
   "cell_type": "code",
   "execution_count": null,
   "id": "39f7a8f3",
   "metadata": {},
   "outputs": [],
   "source": []
  }
 ],
 "metadata": {
  "kernelspec": {
   "display_name": "Python 3 (ipykernel)",
   "language": "python",
   "name": "python3"
  },
  "language_info": {
   "codemirror_mode": {
    "name": "ipython",
    "version": 3
   },
   "file_extension": ".py",
   "mimetype": "text/x-python",
   "name": "python",
   "nbconvert_exporter": "python",
   "pygments_lexer": "ipython3",
   "version": "3.10.6"
  },
  "toc": {
   "base_numbering": 1,
   "nav_menu": {},
   "number_sections": true,
   "sideBar": true,
   "skip_h1_title": false,
   "title_cell": "Table of Contents",
   "title_sidebar": "Contents",
   "toc_cell": false,
   "toc_position": {},
   "toc_section_display": true,
   "toc_window_display": false
  },
  "varInspector": {
   "cols": {
    "lenName": 16,
    "lenType": 16,
    "lenVar": 40
   },
   "kernels_config": {
    "python": {
     "delete_cmd_postfix": "",
     "delete_cmd_prefix": "del ",
     "library": "var_list.py",
     "varRefreshCmd": "print(var_dic_list())"
    },
    "r": {
     "delete_cmd_postfix": ") ",
     "delete_cmd_prefix": "rm(",
     "library": "var_list.r",
     "varRefreshCmd": "cat(var_dic_list()) "
    }
   },
   "types_to_exclude": [
    "module",
    "function",
    "builtin_function_or_method",
    "instance",
    "_Feature"
   ],
   "window_display": false
  }
 },
 "nbformat": 4,
 "nbformat_minor": 5
}
