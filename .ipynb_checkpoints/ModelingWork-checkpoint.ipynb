{
 "cells": [
  {
   "cell_type": "code",
   "execution_count": 2,
   "id": "5000a2a5",
   "metadata": {
    "ExecuteTime": {
     "end_time": "2022-11-18T05:58:59.504307Z",
     "start_time": "2022-11-18T05:58:52.786826Z"
    }
   },
   "outputs": [
    {
     "name": "stdout",
     "output_type": "stream",
     "text": [
      "Requirement already satisfied: pandas in /opt/anaconda3/envs/ds/lib/python3.10/site-packages (1.4.4)\n",
      "Requirement already satisfied: python-dateutil>=2.8.1 in /opt/anaconda3/envs/ds/lib/python3.10/site-packages (from pandas) (2.8.2)\n",
      "Requirement already satisfied: pytz>=2020.1 in /opt/anaconda3/envs/ds/lib/python3.10/site-packages (from pandas) (2022.2.1)\n",
      "Requirement already satisfied: numpy>=1.21.0 in /opt/anaconda3/envs/ds/lib/python3.10/site-packages (from pandas) (1.23.2)\n",
      "Requirement already satisfied: six>=1.5 in /opt/anaconda3/envs/ds/lib/python3.10/site-packages (from python-dateutil>=2.8.1->pandas) (1.16.0)\n",
      "Requirement already satisfied: sodapy in /opt/anaconda3/envs/ds/lib/python3.10/site-packages (2.2.0)\n",
      "Requirement already satisfied: requests>=2.28.1 in /opt/anaconda3/envs/ds/lib/python3.10/site-packages (from sodapy) (2.28.1)\n",
      "Requirement already satisfied: idna<4,>=2.5 in /opt/anaconda3/envs/ds/lib/python3.10/site-packages (from requests>=2.28.1->sodapy) (3.3)\n",
      "Requirement already satisfied: certifi>=2017.4.17 in /opt/anaconda3/envs/ds/lib/python3.10/site-packages (from requests>=2.28.1->sodapy) (2022.6.15)\n",
      "Requirement already satisfied: charset-normalizer<3,>=2 in /opt/anaconda3/envs/ds/lib/python3.10/site-packages (from requests>=2.28.1->sodapy) (2.1.1)\n",
      "Requirement already satisfied: urllib3<1.27,>=1.21.1 in /opt/anaconda3/envs/ds/lib/python3.10/site-packages (from requests>=2.28.1->sodapy) (1.26.11)\n",
      "Requirement already satisfied: category_encoders in /opt/anaconda3/envs/ds/lib/python3.10/site-packages (2.5.1.post0)\n",
      "Requirement already satisfied: pandas>=1.0.5 in /opt/anaconda3/envs/ds/lib/python3.10/site-packages (from category_encoders) (1.4.4)\n",
      "Requirement already satisfied: patsy>=0.5.1 in /opt/anaconda3/envs/ds/lib/python3.10/site-packages (from category_encoders) (0.5.2)\n",
      "Requirement already satisfied: numpy>=1.14.0 in /opt/anaconda3/envs/ds/lib/python3.10/site-packages (from category_encoders) (1.23.2)\n",
      "Requirement already satisfied: scikit-learn>=0.20.0 in /opt/anaconda3/envs/ds/lib/python3.10/site-packages (from category_encoders) (1.1.2)\n",
      "Requirement already satisfied: scipy>=1.0.0 in /opt/anaconda3/envs/ds/lib/python3.10/site-packages (from category_encoders) (1.9.1)\n",
      "Requirement already satisfied: statsmodels>=0.9.0 in /opt/anaconda3/envs/ds/lib/python3.10/site-packages (from category_encoders) (0.13.2)\n",
      "Requirement already satisfied: python-dateutil>=2.8.1 in /opt/anaconda3/envs/ds/lib/python3.10/site-packages (from pandas>=1.0.5->category_encoders) (2.8.2)\n",
      "Requirement already satisfied: pytz>=2020.1 in /opt/anaconda3/envs/ds/lib/python3.10/site-packages (from pandas>=1.0.5->category_encoders) (2022.2.1)\n",
      "Requirement already satisfied: six in /opt/anaconda3/envs/ds/lib/python3.10/site-packages (from patsy>=0.5.1->category_encoders) (1.16.0)\n",
      "Requirement already satisfied: threadpoolctl>=2.0.0 in /opt/anaconda3/envs/ds/lib/python3.10/site-packages (from scikit-learn>=0.20.0->category_encoders) (3.1.0)\n",
      "Requirement already satisfied: joblib>=1.0.0 in /opt/anaconda3/envs/ds/lib/python3.10/site-packages (from scikit-learn>=0.20.0->category_encoders) (1.1.0)\n",
      "Requirement already satisfied: packaging>=21.3 in /opt/anaconda3/envs/ds/lib/python3.10/site-packages (from statsmodels>=0.9.0->category_encoders) (21.3)\n",
      "Requirement already satisfied: pyparsing!=3.0.5,>=2.0.2 in /opt/anaconda3/envs/ds/lib/python3.10/site-packages (from packaging>=21.3->statsmodels>=0.9.0->category_encoders) (3.0.9)\n"
     ]
    }
   ],
   "source": [
    "# API key ID: otlwwfxero72fkms03hi49x2\n",
    "# API key secret: 5qbnpzqphl1y8bz6eggxraxlzlnbnhso49bro4925r1rpxj6sn\n",
    "# app token: 8y23ArYxg4pcvOMgWzMFSC0nB\n",
    "# secret app token: pZgwEL4lKm2r1s868Saz3EJ1ebpTKy-FzglU\n",
    "\n",
    "# crime data docs: https://dev.socrata.com/foundry/data.cityofchicago.org/9hwr-2zxp\n",
    "\n",
    "# make sure to install these packages before running:\n",
    "!pip install pandas\n",
    "!pip install sodapy\n",
    "!pip install category_encoders"
   ]
  },
  {
   "cell_type": "code",
   "execution_count": 3,
   "id": "e46913bb",
   "metadata": {
    "ExecuteTime": {
     "end_time": "2022-11-18T05:59:00.025655Z",
     "start_time": "2022-11-18T05:58:59.507964Z"
    }
   },
   "outputs": [],
   "source": [
    "import pandas as pd\n",
    "import sodapy\n",
    "from sodapy import Socrata\n",
    "import statistics\n",
    "pd.set_option('display.max_columns', 500)"
   ]
  },
  {
   "cell_type": "code",
   "execution_count": 4,
   "id": "ed501141",
   "metadata": {
    "ExecuteTime": {
     "end_time": "2022-11-18T05:59:23.082280Z",
     "start_time": "2022-11-18T05:59:00.027841Z"
    }
   },
   "outputs": [
    {
     "name": "stdout",
     "output_type": "stream",
     "text": [
      "(201432, 22)\n"
     ]
    }
   ],
   "source": [
    "# crime_url = \"https://data.cityofchicago.org/resource/9hwr-2zxp.json\"\n",
    "\n",
    "\n",
    "app_token = \"8y23ArYxg4pcvOMgWzMFSC0nB\"\n",
    "\n",
    "# Example authenticated client (needed for non-public datasets):\n",
    "client = Socrata(\"data.cityofchicago.org\",\n",
    "                 app_token, \n",
    "                 username=\"ch35@illinois.edu\",\n",
    "                 password=\"68M8rz3vF!StBjD\")\n",
    "\n",
    "\n",
    "# First 2000 results, returned as JSON from API / converted to Python list of\n",
    "# dictionaries by sodapy.\n",
    "results = client.get(\"9hwr-2zxp\", limit = 250000)\n",
    "\n",
    "# Convert to pandas DataFrame\n",
    "crime_df = pd.DataFrame.from_records(results)\n",
    "\n",
    "print(crime_df.shape)"
   ]
  },
  {
   "cell_type": "markdown",
   "id": "3fc10b24",
   "metadata": {},
   "source": [
    "# Logistic Regression"
   ]
  },
  {
   "cell_type": "code",
   "execution_count": 5,
   "id": "ec8eda8d",
   "metadata": {
    "ExecuteTime": {
     "end_time": "2022-11-18T05:59:23.118437Z",
     "start_time": "2022-11-18T05:59:23.086143Z"
    }
   },
   "outputs": [
    {
     "data": {
      "text/html": [
       "<div>\n",
       "<style scoped>\n",
       "    .dataframe tbody tr th:only-of-type {\n",
       "        vertical-align: middle;\n",
       "    }\n",
       "\n",
       "    .dataframe tbody tr th {\n",
       "        vertical-align: top;\n",
       "    }\n",
       "\n",
       "    .dataframe thead th {\n",
       "        text-align: right;\n",
       "    }\n",
       "</style>\n",
       "<table border=\"1\" class=\"dataframe\">\n",
       "  <thead>\n",
       "    <tr style=\"text-align: right;\">\n",
       "      <th></th>\n",
       "      <th>date</th>\n",
       "      <th>location</th>\n",
       "      <th>district</th>\n",
       "      <th>block</th>\n",
       "      <th>y_coordinate</th>\n",
       "      <th>latitude</th>\n",
       "      <th>description</th>\n",
       "      <th>location_description</th>\n",
       "      <th>updated_on</th>\n",
       "      <th>community_area</th>\n",
       "      <th>iucr</th>\n",
       "      <th>x_coordinate</th>\n",
       "      <th>ward</th>\n",
       "      <th>case_number</th>\n",
       "      <th>year</th>\n",
       "      <th>domestic</th>\n",
       "      <th>fbi_code</th>\n",
       "      <th>longitude</th>\n",
       "      <th>beat</th>\n",
       "      <th>primary_type</th>\n",
       "      <th>arrest</th>\n",
       "      <th>id</th>\n",
       "    </tr>\n",
       "  </thead>\n",
       "  <tbody>\n",
       "    <tr>\n",
       "      <th>0</th>\n",
       "      <td>2022-11-09T23:45:00.000</td>\n",
       "      <td>{'latitude': '41.853718318', 'human_address': ...</td>\n",
       "      <td>012</td>\n",
       "      <td>021XX S WOOD ST</td>\n",
       "      <td>1889981</td>\n",
       "      <td>41.853718318</td>\n",
       "      <td>AGGRAVATED - HANDGUN</td>\n",
       "      <td>APARTMENT</td>\n",
       "      <td>2022-11-16T15:51:52.000</td>\n",
       "      <td>31</td>\n",
       "      <td>041A</td>\n",
       "      <td>1164698</td>\n",
       "      <td>25</td>\n",
       "      <td>JF468923</td>\n",
       "      <td>2022</td>\n",
       "      <td>False</td>\n",
       "      <td>04B</td>\n",
       "      <td>-87.670980997</td>\n",
       "      <td>1234</td>\n",
       "      <td>BATTERY</td>\n",
       "      <td>False</td>\n",
       "      <td>12888055</td>\n",
       "    </tr>\n",
       "    <tr>\n",
       "      <th>1</th>\n",
       "      <td>2022-11-09T23:45:00.000</td>\n",
       "      <td>{'latitude': '41.965248711', 'human_address': ...</td>\n",
       "      <td>017</td>\n",
       "      <td>046XX N FRANCISCO AVE</td>\n",
       "      <td>1930561</td>\n",
       "      <td>41.965248711</td>\n",
       "      <td>OVER $500</td>\n",
       "      <td>STREET</td>\n",
       "      <td>2022-11-16T15:51:52.000</td>\n",
       "      <td>14</td>\n",
       "      <td>0810</td>\n",
       "      <td>1156210</td>\n",
       "      <td>33</td>\n",
       "      <td>JF469910</td>\n",
       "      <td>2022</td>\n",
       "      <td>False</td>\n",
       "      <td>06</td>\n",
       "      <td>-87.701037211</td>\n",
       "      <td>1713</td>\n",
       "      <td>THEFT</td>\n",
       "      <td>False</td>\n",
       "      <td>12888758</td>\n",
       "    </tr>\n",
       "    <tr>\n",
       "      <th>2</th>\n",
       "      <td>2022-11-09T23:30:00.000</td>\n",
       "      <td>{'latitude': '41.885325435', 'human_address': ...</td>\n",
       "      <td>001</td>\n",
       "      <td>001XX N STATE ST</td>\n",
       "      <td>1901592</td>\n",
       "      <td>41.885325435</td>\n",
       "      <td>SIMPLE</td>\n",
       "      <td>SIDEWALK</td>\n",
       "      <td>2022-11-16T15:51:52.000</td>\n",
       "      <td>32</td>\n",
       "      <td>0460</td>\n",
       "      <td>1176332</td>\n",
       "      <td>42</td>\n",
       "      <td>JF468948</td>\n",
       "      <td>2022</td>\n",
       "      <td>False</td>\n",
       "      <td>08B</td>\n",
       "      <td>-87.627930066</td>\n",
       "      <td>0111</td>\n",
       "      <td>BATTERY</td>\n",
       "      <td>False</td>\n",
       "      <td>12888071</td>\n",
       "    </tr>\n",
       "    <tr>\n",
       "      <th>3</th>\n",
       "      <td>2022-11-09T23:30:00.000</td>\n",
       "      <td>{'latitude': '41.772532392', 'human_address': ...</td>\n",
       "      <td>003</td>\n",
       "      <td>067XX S JEFFERY BLVD</td>\n",
       "      <td>1860610</td>\n",
       "      <td>41.772532392</td>\n",
       "      <td>AUTOMOBILE</td>\n",
       "      <td>STREET</td>\n",
       "      <td>2022-11-16T15:51:52.000</td>\n",
       "      <td>43</td>\n",
       "      <td>0910</td>\n",
       "      <td>1190707</td>\n",
       "      <td>5</td>\n",
       "      <td>JF469056</td>\n",
       "      <td>2022</td>\n",
       "      <td>False</td>\n",
       "      <td>07</td>\n",
       "      <td>-87.57646936</td>\n",
       "      <td>0331</td>\n",
       "      <td>MOTOR VEHICLE THEFT</td>\n",
       "      <td>False</td>\n",
       "      <td>12888163</td>\n",
       "    </tr>\n",
       "    <tr>\n",
       "      <th>4</th>\n",
       "      <td>2022-11-09T23:26:00.000</td>\n",
       "      <td>{'latitude': '41.93939819', 'human_address': '...</td>\n",
       "      <td>017</td>\n",
       "      <td>027XX W BELMONT AVE</td>\n",
       "      <td>1921150</td>\n",
       "      <td>41.93939819</td>\n",
       "      <td>DOMESTIC BATTERY SIMPLE</td>\n",
       "      <td>APARTMENT</td>\n",
       "      <td>2022-11-16T15:51:52.000</td>\n",
       "      <td>21</td>\n",
       "      <td>0486</td>\n",
       "      <td>1157497</td>\n",
       "      <td>33</td>\n",
       "      <td>JF468940</td>\n",
       "      <td>2022</td>\n",
       "      <td>True</td>\n",
       "      <td>08B</td>\n",
       "      <td>-87.696562292</td>\n",
       "      <td>1733</td>\n",
       "      <td>BATTERY</td>\n",
       "      <td>True</td>\n",
       "      <td>12888129</td>\n",
       "    </tr>\n",
       "  </tbody>\n",
       "</table>\n",
       "</div>"
      ],
      "text/plain": [
       "                      date                                           location  \\\n",
       "0  2022-11-09T23:45:00.000  {'latitude': '41.853718318', 'human_address': ...   \n",
       "1  2022-11-09T23:45:00.000  {'latitude': '41.965248711', 'human_address': ...   \n",
       "2  2022-11-09T23:30:00.000  {'latitude': '41.885325435', 'human_address': ...   \n",
       "3  2022-11-09T23:30:00.000  {'latitude': '41.772532392', 'human_address': ...   \n",
       "4  2022-11-09T23:26:00.000  {'latitude': '41.93939819', 'human_address': '...   \n",
       "\n",
       "  district                  block y_coordinate      latitude  \\\n",
       "0      012        021XX S WOOD ST      1889981  41.853718318   \n",
       "1      017  046XX N FRANCISCO AVE      1930561  41.965248711   \n",
       "2      001       001XX N STATE ST      1901592  41.885325435   \n",
       "3      003   067XX S JEFFERY BLVD      1860610  41.772532392   \n",
       "4      017    027XX W BELMONT AVE      1921150   41.93939819   \n",
       "\n",
       "               description location_description               updated_on  \\\n",
       "0     AGGRAVATED - HANDGUN            APARTMENT  2022-11-16T15:51:52.000   \n",
       "1                OVER $500               STREET  2022-11-16T15:51:52.000   \n",
       "2                   SIMPLE             SIDEWALK  2022-11-16T15:51:52.000   \n",
       "3               AUTOMOBILE               STREET  2022-11-16T15:51:52.000   \n",
       "4  DOMESTIC BATTERY SIMPLE            APARTMENT  2022-11-16T15:51:52.000   \n",
       "\n",
       "  community_area  iucr x_coordinate ward case_number  year  domestic fbi_code  \\\n",
       "0             31  041A      1164698   25    JF468923  2022     False      04B   \n",
       "1             14  0810      1156210   33    JF469910  2022     False       06   \n",
       "2             32  0460      1176332   42    JF468948  2022     False      08B   \n",
       "3             43  0910      1190707    5    JF469056  2022     False       07   \n",
       "4             21  0486      1157497   33    JF468940  2022      True      08B   \n",
       "\n",
       "       longitude  beat         primary_type  arrest        id  \n",
       "0  -87.670980997  1234              BATTERY   False  12888055  \n",
       "1  -87.701037211  1713                THEFT   False  12888758  \n",
       "2  -87.627930066  0111              BATTERY   False  12888071  \n",
       "3   -87.57646936  0331  MOTOR VEHICLE THEFT   False  12888163  \n",
       "4  -87.696562292  1733              BATTERY    True  12888129  "
      ]
     },
     "execution_count": 5,
     "metadata": {},
     "output_type": "execute_result"
    }
   ],
   "source": [
    "crime_df.head()"
   ]
  },
  {
   "cell_type": "code",
   "execution_count": 6,
   "id": "6623cfc2",
   "metadata": {
    "ExecuteTime": {
     "end_time": "2022-11-18T05:59:23.176660Z",
     "start_time": "2022-11-18T05:59:23.120647Z"
    }
   },
   "outputs": [],
   "source": [
    "#creating variable for month\n",
    "month = [i[0:7] for i in crime_df.date]"
   ]
  },
  {
   "cell_type": "code",
   "execution_count": 7,
   "id": "f000e670",
   "metadata": {
    "ExecuteTime": {
     "end_time": "2022-11-18T05:59:23.192720Z",
     "start_time": "2022-11-18T05:59:23.179182Z"
    }
   },
   "outputs": [],
   "source": [
    "#adding to data frame\n",
    "crime_df[\"month\"] = month"
   ]
  },
  {
   "cell_type": "code",
   "execution_count": 8,
   "id": "15b8b1a9",
   "metadata": {
    "ExecuteTime": {
     "end_time": "2022-11-18T05:59:23.261134Z",
     "start_time": "2022-11-18T05:59:23.195523Z"
    }
   },
   "outputs": [
    {
     "data": {
      "text/html": [
       "<div>\n",
       "<style scoped>\n",
       "    .dataframe tbody tr th:only-of-type {\n",
       "        vertical-align: middle;\n",
       "    }\n",
       "\n",
       "    .dataframe tbody tr th {\n",
       "        vertical-align: top;\n",
       "    }\n",
       "\n",
       "    .dataframe thead th {\n",
       "        text-align: right;\n",
       "    }\n",
       "</style>\n",
       "<table border=\"1\" class=\"dataframe\">\n",
       "  <thead>\n",
       "    <tr style=\"text-align: right;\">\n",
       "      <th></th>\n",
       "      <th>district</th>\n",
       "      <th>y_coordinate</th>\n",
       "      <th>latitude</th>\n",
       "      <th>description</th>\n",
       "      <th>location_description</th>\n",
       "      <th>community_area</th>\n",
       "      <th>iucr</th>\n",
       "      <th>x_coordinate</th>\n",
       "      <th>ward</th>\n",
       "      <th>domestic</th>\n",
       "      <th>fbi_code</th>\n",
       "      <th>longitude</th>\n",
       "      <th>beat</th>\n",
       "      <th>primary_type</th>\n",
       "      <th>arrest</th>\n",
       "      <th>month</th>\n",
       "    </tr>\n",
       "  </thead>\n",
       "  <tbody>\n",
       "    <tr>\n",
       "      <th>0</th>\n",
       "      <td>012</td>\n",
       "      <td>1889981</td>\n",
       "      <td>41.853718318</td>\n",
       "      <td>AGGRAVATED - HANDGUN</td>\n",
       "      <td>APARTMENT</td>\n",
       "      <td>31</td>\n",
       "      <td>041A</td>\n",
       "      <td>1164698</td>\n",
       "      <td>25</td>\n",
       "      <td>False</td>\n",
       "      <td>04B</td>\n",
       "      <td>-87.670980997</td>\n",
       "      <td>1234</td>\n",
       "      <td>BATTERY</td>\n",
       "      <td>False</td>\n",
       "      <td>2022-11</td>\n",
       "    </tr>\n",
       "    <tr>\n",
       "      <th>1</th>\n",
       "      <td>017</td>\n",
       "      <td>1930561</td>\n",
       "      <td>41.965248711</td>\n",
       "      <td>OVER $500</td>\n",
       "      <td>STREET</td>\n",
       "      <td>14</td>\n",
       "      <td>0810</td>\n",
       "      <td>1156210</td>\n",
       "      <td>33</td>\n",
       "      <td>False</td>\n",
       "      <td>06</td>\n",
       "      <td>-87.701037211</td>\n",
       "      <td>1713</td>\n",
       "      <td>THEFT</td>\n",
       "      <td>False</td>\n",
       "      <td>2022-11</td>\n",
       "    </tr>\n",
       "    <tr>\n",
       "      <th>2</th>\n",
       "      <td>001</td>\n",
       "      <td>1901592</td>\n",
       "      <td>41.885325435</td>\n",
       "      <td>SIMPLE</td>\n",
       "      <td>SIDEWALK</td>\n",
       "      <td>32</td>\n",
       "      <td>0460</td>\n",
       "      <td>1176332</td>\n",
       "      <td>42</td>\n",
       "      <td>False</td>\n",
       "      <td>08B</td>\n",
       "      <td>-87.627930066</td>\n",
       "      <td>0111</td>\n",
       "      <td>BATTERY</td>\n",
       "      <td>False</td>\n",
       "      <td>2022-11</td>\n",
       "    </tr>\n",
       "    <tr>\n",
       "      <th>3</th>\n",
       "      <td>003</td>\n",
       "      <td>1860610</td>\n",
       "      <td>41.772532392</td>\n",
       "      <td>AUTOMOBILE</td>\n",
       "      <td>STREET</td>\n",
       "      <td>43</td>\n",
       "      <td>0910</td>\n",
       "      <td>1190707</td>\n",
       "      <td>5</td>\n",
       "      <td>False</td>\n",
       "      <td>07</td>\n",
       "      <td>-87.57646936</td>\n",
       "      <td>0331</td>\n",
       "      <td>MOTOR VEHICLE THEFT</td>\n",
       "      <td>False</td>\n",
       "      <td>2022-11</td>\n",
       "    </tr>\n",
       "    <tr>\n",
       "      <th>4</th>\n",
       "      <td>017</td>\n",
       "      <td>1921150</td>\n",
       "      <td>41.93939819</td>\n",
       "      <td>DOMESTIC BATTERY SIMPLE</td>\n",
       "      <td>APARTMENT</td>\n",
       "      <td>21</td>\n",
       "      <td>0486</td>\n",
       "      <td>1157497</td>\n",
       "      <td>33</td>\n",
       "      <td>True</td>\n",
       "      <td>08B</td>\n",
       "      <td>-87.696562292</td>\n",
       "      <td>1733</td>\n",
       "      <td>BATTERY</td>\n",
       "      <td>True</td>\n",
       "      <td>2022-11</td>\n",
       "    </tr>\n",
       "  </tbody>\n",
       "</table>\n",
       "</div>"
      ],
      "text/plain": [
       "  district y_coordinate      latitude              description  \\\n",
       "0      012      1889981  41.853718318     AGGRAVATED - HANDGUN   \n",
       "1      017      1930561  41.965248711                OVER $500   \n",
       "2      001      1901592  41.885325435                   SIMPLE   \n",
       "3      003      1860610  41.772532392               AUTOMOBILE   \n",
       "4      017      1921150   41.93939819  DOMESTIC BATTERY SIMPLE   \n",
       "\n",
       "  location_description community_area  iucr x_coordinate ward  domestic  \\\n",
       "0            APARTMENT             31  041A      1164698   25     False   \n",
       "1               STREET             14  0810      1156210   33     False   \n",
       "2             SIDEWALK             32  0460      1176332   42     False   \n",
       "3               STREET             43  0910      1190707    5     False   \n",
       "4            APARTMENT             21  0486      1157497   33      True   \n",
       "\n",
       "  fbi_code      longitude  beat         primary_type  arrest    month  \n",
       "0      04B  -87.670980997  1234              BATTERY   False  2022-11  \n",
       "1       06  -87.701037211  1713                THEFT   False  2022-11  \n",
       "2      08B  -87.627930066  0111              BATTERY   False  2022-11  \n",
       "3       07   -87.57646936  0331  MOTOR VEHICLE THEFT   False  2022-11  \n",
       "4      08B  -87.696562292  1733              BATTERY    True  2022-11  "
      ]
     },
     "execution_count": 8,
     "metadata": {},
     "output_type": "execute_result"
    }
   ],
   "source": [
    "#dropping irrelevant variables\n",
    "crime_df_clean = crime_df.drop([\"date\", \"location\", \"block\", \"updated_on\", \"case_number\", \"year\", \"id\"], axis = 1)\n",
    "crime_df_clean.head()"
   ]
  },
  {
   "cell_type": "markdown",
   "id": "90da1e53",
   "metadata": {},
   "source": [
    "## Removing Categorical Variables with High Cardinality (50+ Levels)"
   ]
  },
  {
   "cell_type": "code",
   "execution_count": 9,
   "id": "2cb347bc",
   "metadata": {
    "ExecuteTime": {
     "end_time": "2022-11-18T05:59:23.269075Z",
     "start_time": "2022-11-18T05:59:23.263539Z"
    }
   },
   "outputs": [
    {
     "data": {
      "text/plain": [
       "district                object\n",
       "y_coordinate            object\n",
       "latitude                object\n",
       "description             object\n",
       "location_description    object\n",
       "community_area          object\n",
       "iucr                    object\n",
       "x_coordinate            object\n",
       "ward                    object\n",
       "domestic                  bool\n",
       "fbi_code                object\n",
       "longitude               object\n",
       "beat                    object\n",
       "primary_type            object\n",
       "arrest                    bool\n",
       "month                   object\n",
       "dtype: object"
      ]
     },
     "execution_count": 9,
     "metadata": {},
     "output_type": "execute_result"
    }
   ],
   "source": [
    "crime_df_clean.dtypes"
   ]
  },
  {
   "cell_type": "code",
   "execution_count": 10,
   "id": "d7eac971",
   "metadata": {
    "ExecuteTime": {
     "end_time": "2022-11-18T05:59:23.720058Z",
     "start_time": "2022-11-18T05:59:23.271197Z"
    }
   },
   "outputs": [
    {
     "data": {
      "text/plain": [
       "district                 object\n",
       "y_coordinate            float64\n",
       "latitude                float64\n",
       "description              object\n",
       "location_description     object\n",
       "community_area           object\n",
       "iucr                     object\n",
       "x_coordinate            float64\n",
       "ward                     object\n",
       "domestic                   bool\n",
       "fbi_code                 object\n",
       "longitude               float64\n",
       "beat                     object\n",
       "primary_type             object\n",
       "arrest                     bool\n",
       "month                    object\n",
       "dtype: object"
      ]
     },
     "execution_count": 10,
     "metadata": {},
     "output_type": "execute_result"
    }
   ],
   "source": [
    "#converting variables to numeric\n",
    "num_vars = [\"y_coordinate\", \"x_coordinate\", \"latitude\", \"longitude\"]\n",
    "for i in num_vars:\n",
    "    crime_df_clean[i] = crime_df_clean[i].astype(\"float\")\n",
    "crime_df_clean.dtypes"
   ]
  },
  {
   "cell_type": "code",
   "execution_count": 11,
   "id": "f1763ab1",
   "metadata": {
    "ExecuteTime": {
     "end_time": "2022-11-18T05:59:23.740268Z",
     "start_time": "2022-11-18T05:59:23.730519Z"
    }
   },
   "outputs": [
    {
     "data": {
      "text/plain": [
       "district                 object\n",
       "y_coordinate            float64\n",
       "latitude                float64\n",
       "description              object\n",
       "location_description     object\n",
       "community_area           object\n",
       "iucr                     object\n",
       "x_coordinate            float64\n",
       "ward                     object\n",
       "domestic                  int64\n",
       "fbi_code                 object\n",
       "longitude               float64\n",
       "beat                     object\n",
       "primary_type             object\n",
       "arrest                    int64\n",
       "month                    object\n",
       "dtype: object"
      ]
     },
     "execution_count": 11,
     "metadata": {},
     "output_type": "execute_result"
    }
   ],
   "source": [
    "#converting boolean variables to binary categorical variables\n",
    "crime_df_clean[\"domestic\"] = crime_df_clean[\"domestic\"].astype(int)\n",
    "crime_df_clean[\"arrest\"] = crime_df_clean[\"arrest\"].astype(int)\n",
    "crime_df_clean.dtypes"
   ]
  },
  {
   "cell_type": "code",
   "execution_count": 12,
   "id": "6a4101e5",
   "metadata": {
    "ExecuteTime": {
     "end_time": "2022-11-18T05:59:23.747242Z",
     "start_time": "2022-11-18T05:59:23.742620Z"
    }
   },
   "outputs": [
    {
     "data": {
      "text/plain": [
       "False"
      ]
     },
     "execution_count": 12,
     "metadata": {},
     "output_type": "execute_result"
    }
   ],
   "source": [
    "crime_df_clean[\"arrest\"].dtypes == \"O\""
   ]
  },
  {
   "cell_type": "code",
   "execution_count": 13,
   "id": "1c46efaf",
   "metadata": {
    "ExecuteTime": {
     "end_time": "2022-11-18T05:59:24.137418Z",
     "start_time": "2022-11-18T05:59:23.749713Z"
    }
   },
   "outputs": [
    {
     "data": {
      "text/plain": [
       "['description',\n",
       " 'location_description',\n",
       " 'community_area',\n",
       " 'iucr',\n",
       " 'ward',\n",
       " 'beat']"
      ]
     },
     "execution_count": 13,
     "metadata": {},
     "output_type": "execute_result"
    }
   ],
   "source": [
    "#storing list of cateogorical variables with high cardinality\n",
    "high_card = [var for var in crime_df_clean.columns if len(crime_df_clean[var].value_counts()) >= 50 and crime_df_clean[var].dtypes == \"O\"]\n",
    "high_card"
   ]
  },
  {
   "cell_type": "code",
   "execution_count": 14,
   "id": "5eca91d8",
   "metadata": {
    "ExecuteTime": {
     "end_time": "2022-11-18T05:59:24.200667Z",
     "start_time": "2022-11-18T05:59:24.139770Z"
    }
   },
   "outputs": [
    {
     "data": {
      "text/html": [
       "<div>\n",
       "<style scoped>\n",
       "    .dataframe tbody tr th:only-of-type {\n",
       "        vertical-align: middle;\n",
       "    }\n",
       "\n",
       "    .dataframe tbody tr th {\n",
       "        vertical-align: top;\n",
       "    }\n",
       "\n",
       "    .dataframe thead th {\n",
       "        text-align: right;\n",
       "    }\n",
       "</style>\n",
       "<table border=\"1\" class=\"dataframe\">\n",
       "  <thead>\n",
       "    <tr style=\"text-align: right;\">\n",
       "      <th></th>\n",
       "      <th>district</th>\n",
       "      <th>y_coordinate</th>\n",
       "      <th>latitude</th>\n",
       "      <th>x_coordinate</th>\n",
       "      <th>domestic</th>\n",
       "      <th>fbi_code</th>\n",
       "      <th>longitude</th>\n",
       "      <th>primary_type</th>\n",
       "      <th>arrest</th>\n",
       "      <th>month</th>\n",
       "    </tr>\n",
       "  </thead>\n",
       "  <tbody>\n",
       "    <tr>\n",
       "      <th>0</th>\n",
       "      <td>012</td>\n",
       "      <td>1889981.0</td>\n",
       "      <td>41.853718</td>\n",
       "      <td>1164698.0</td>\n",
       "      <td>0</td>\n",
       "      <td>04B</td>\n",
       "      <td>-87.670981</td>\n",
       "      <td>BATTERY</td>\n",
       "      <td>0</td>\n",
       "      <td>2022-11</td>\n",
       "    </tr>\n",
       "    <tr>\n",
       "      <th>1</th>\n",
       "      <td>017</td>\n",
       "      <td>1930561.0</td>\n",
       "      <td>41.965249</td>\n",
       "      <td>1156210.0</td>\n",
       "      <td>0</td>\n",
       "      <td>06</td>\n",
       "      <td>-87.701037</td>\n",
       "      <td>THEFT</td>\n",
       "      <td>0</td>\n",
       "      <td>2022-11</td>\n",
       "    </tr>\n",
       "    <tr>\n",
       "      <th>2</th>\n",
       "      <td>001</td>\n",
       "      <td>1901592.0</td>\n",
       "      <td>41.885325</td>\n",
       "      <td>1176332.0</td>\n",
       "      <td>0</td>\n",
       "      <td>08B</td>\n",
       "      <td>-87.627930</td>\n",
       "      <td>BATTERY</td>\n",
       "      <td>0</td>\n",
       "      <td>2022-11</td>\n",
       "    </tr>\n",
       "    <tr>\n",
       "      <th>3</th>\n",
       "      <td>003</td>\n",
       "      <td>1860610.0</td>\n",
       "      <td>41.772532</td>\n",
       "      <td>1190707.0</td>\n",
       "      <td>0</td>\n",
       "      <td>07</td>\n",
       "      <td>-87.576469</td>\n",
       "      <td>MOTOR VEHICLE THEFT</td>\n",
       "      <td>0</td>\n",
       "      <td>2022-11</td>\n",
       "    </tr>\n",
       "    <tr>\n",
       "      <th>4</th>\n",
       "      <td>017</td>\n",
       "      <td>1921150.0</td>\n",
       "      <td>41.939398</td>\n",
       "      <td>1157497.0</td>\n",
       "      <td>1</td>\n",
       "      <td>08B</td>\n",
       "      <td>-87.696562</td>\n",
       "      <td>BATTERY</td>\n",
       "      <td>1</td>\n",
       "      <td>2022-11</td>\n",
       "    </tr>\n",
       "  </tbody>\n",
       "</table>\n",
       "</div>"
      ],
      "text/plain": [
       "  district  y_coordinate   latitude  x_coordinate  domestic fbi_code  \\\n",
       "0      012     1889981.0  41.853718     1164698.0         0      04B   \n",
       "1      017     1930561.0  41.965249     1156210.0         0       06   \n",
       "2      001     1901592.0  41.885325     1176332.0         0      08B   \n",
       "3      003     1860610.0  41.772532     1190707.0         0       07   \n",
       "4      017     1921150.0  41.939398     1157497.0         1      08B   \n",
       "\n",
       "   longitude         primary_type  arrest    month  \n",
       "0 -87.670981              BATTERY       0  2022-11  \n",
       "1 -87.701037                THEFT       0  2022-11  \n",
       "2 -87.627930              BATTERY       0  2022-11  \n",
       "3 -87.576469  MOTOR VEHICLE THEFT       0  2022-11  \n",
       "4 -87.696562              BATTERY       1  2022-11  "
      ]
     },
     "execution_count": 14,
     "metadata": {},
     "output_type": "execute_result"
    }
   ],
   "source": [
    "#dropping from set\n",
    "crime_df_new = crime_df_clean.drop(high_card, axis = 1)\n",
    "crime_df_new.head()"
   ]
  },
  {
   "cell_type": "markdown",
   "id": "3b7d079d",
   "metadata": {},
   "source": [
    "## Binning Categorical Variables\n",
    "#### Goal is to group levels together if they share a similar target rate to establish bin credibility (at least 1% of observations in each bin)"
   ]
  },
  {
   "cell_type": "code",
   "execution_count": 15,
   "id": "5bd3fed9",
   "metadata": {
    "ExecuteTime": {
     "end_time": "2022-11-18T05:59:24.242812Z",
     "start_time": "2022-11-18T05:59:24.212277Z"
    }
   },
   "outputs": [
    {
     "data": {
      "text/plain": [
       "['district', 'fbi_code', 'primary_type', 'month']"
      ]
     },
     "execution_count": 15,
     "metadata": {},
     "output_type": "execute_result"
    }
   ],
   "source": [
    "cat_vars = [var for var in crime_df_new.columns if crime_df_new[var].dtypes == \"O\"]\n",
    "cat_vars"
   ]
  },
  {
   "cell_type": "code",
   "execution_count": 16,
   "id": "a9496e03",
   "metadata": {
    "ExecuteTime": {
     "end_time": "2022-11-18T05:59:25.854837Z",
     "start_time": "2022-11-18T05:59:24.247294Z"
    }
   },
   "outputs": [
    {
     "data": {
      "text/html": [
       "<div>\n",
       "<style scoped>\n",
       "    .dataframe tbody tr th:only-of-type {\n",
       "        vertical-align: middle;\n",
       "    }\n",
       "\n",
       "    .dataframe tbody tr th {\n",
       "        vertical-align: top;\n",
       "    }\n",
       "\n",
       "    .dataframe thead th {\n",
       "        text-align: right;\n",
       "    }\n",
       "</style>\n",
       "<table border=\"1\" class=\"dataframe\">\n",
       "  <thead>\n",
       "    <tr style=\"text-align: right;\">\n",
       "      <th></th>\n",
       "      <th>District</th>\n",
       "      <th>Target Rate</th>\n",
       "      <th>Proportion</th>\n",
       "    </tr>\n",
       "  </thead>\n",
       "  <tbody>\n",
       "    <tr>\n",
       "      <th>22</th>\n",
       "      <td>16</td>\n",
       "      <td>0.000</td>\n",
       "      <td>0.000</td>\n",
       "    </tr>\n",
       "    <tr>\n",
       "      <th>7</th>\n",
       "      <td>019</td>\n",
       "      <td>0.072</td>\n",
       "      <td>0.051</td>\n",
       "    </tr>\n",
       "    <tr>\n",
       "      <th>2</th>\n",
       "      <td>012</td>\n",
       "      <td>0.082</td>\n",
       "      <td>0.059</td>\n",
       "    </tr>\n",
       "    <tr>\n",
       "      <th>10</th>\n",
       "      <td>002</td>\n",
       "      <td>0.086</td>\n",
       "      <td>0.049</td>\n",
       "    </tr>\n",
       "    <tr>\n",
       "      <th>21</th>\n",
       "      <td>020</td>\n",
       "      <td>0.087</td>\n",
       "      <td>0.021</td>\n",
       "    </tr>\n",
       "    <tr>\n",
       "      <th>1</th>\n",
       "      <td>008</td>\n",
       "      <td>0.092</td>\n",
       "      <td>0.062</td>\n",
       "    </tr>\n",
       "    <tr>\n",
       "      <th>8</th>\n",
       "      <td>003</td>\n",
       "      <td>0.092</td>\n",
       "      <td>0.050</td>\n",
       "    </tr>\n",
       "    <tr>\n",
       "      <th>3</th>\n",
       "      <td>004</td>\n",
       "      <td>0.093</td>\n",
       "      <td>0.059</td>\n",
       "    </tr>\n",
       "    <tr>\n",
       "      <th>17</th>\n",
       "      <td>024</td>\n",
       "      <td>0.098</td>\n",
       "      <td>0.036</td>\n",
       "    </tr>\n",
       "    <tr>\n",
       "      <th>19</th>\n",
       "      <td>022</td>\n",
       "      <td>0.099</td>\n",
       "      <td>0.032</td>\n",
       "    </tr>\n",
       "    <tr>\n",
       "      <th>0</th>\n",
       "      <td>006</td>\n",
       "      <td>0.104</td>\n",
       "      <td>0.062</td>\n",
       "    </tr>\n",
       "    <tr>\n",
       "      <th>18</th>\n",
       "      <td>014</td>\n",
       "      <td>0.105</td>\n",
       "      <td>0.034</td>\n",
       "    </tr>\n",
       "    <tr>\n",
       "      <th>12</th>\n",
       "      <td>009</td>\n",
       "      <td>0.106</td>\n",
       "      <td>0.044</td>\n",
       "    </tr>\n",
       "    <tr>\n",
       "      <th>20</th>\n",
       "      <td>017</td>\n",
       "      <td>0.108</td>\n",
       "      <td>0.029</td>\n",
       "    </tr>\n",
       "    <tr>\n",
       "      <th>6</th>\n",
       "      <td>018</td>\n",
       "      <td>0.113</td>\n",
       "      <td>0.053</td>\n",
       "    </tr>\n",
       "    <tr>\n",
       "      <th>11</th>\n",
       "      <td>007</td>\n",
       "      <td>0.117</td>\n",
       "      <td>0.044</td>\n",
       "    </tr>\n",
       "    <tr>\n",
       "      <th>4</th>\n",
       "      <td>001</td>\n",
       "      <td>0.118</td>\n",
       "      <td>0.055</td>\n",
       "    </tr>\n",
       "    <tr>\n",
       "      <th>15</th>\n",
       "      <td>016</td>\n",
       "      <td>0.121</td>\n",
       "      <td>0.037</td>\n",
       "    </tr>\n",
       "    <tr>\n",
       "      <th>14</th>\n",
       "      <td>005</td>\n",
       "      <td>0.131</td>\n",
       "      <td>0.041</td>\n",
       "    </tr>\n",
       "    <tr>\n",
       "      <th>9</th>\n",
       "      <td>025</td>\n",
       "      <td>0.136</td>\n",
       "      <td>0.050</td>\n",
       "    </tr>\n",
       "    <tr>\n",
       "      <th>16</th>\n",
       "      <td>015</td>\n",
       "      <td>0.151</td>\n",
       "      <td>0.036</td>\n",
       "    </tr>\n",
       "    <tr>\n",
       "      <th>13</th>\n",
       "      <td>010</td>\n",
       "      <td>0.170</td>\n",
       "      <td>0.042</td>\n",
       "    </tr>\n",
       "    <tr>\n",
       "      <th>5</th>\n",
       "      <td>011</td>\n",
       "      <td>0.207</td>\n",
       "      <td>0.055</td>\n",
       "    </tr>\n",
       "    <tr>\n",
       "      <th>23</th>\n",
       "      <td>031</td>\n",
       "      <td>0.250</td>\n",
       "      <td>0.000</td>\n",
       "    </tr>\n",
       "  </tbody>\n",
       "</table>\n",
       "</div>"
      ],
      "text/plain": [
       "   District  Target Rate  Proportion\n",
       "22       16        0.000       0.000\n",
       "7       019        0.072       0.051\n",
       "2       012        0.082       0.059\n",
       "10      002        0.086       0.049\n",
       "21      020        0.087       0.021\n",
       "1       008        0.092       0.062\n",
       "8       003        0.092       0.050\n",
       "3       004        0.093       0.059\n",
       "17      024        0.098       0.036\n",
       "19      022        0.099       0.032\n",
       "0       006        0.104       0.062\n",
       "18      014        0.105       0.034\n",
       "12      009        0.106       0.044\n",
       "20      017        0.108       0.029\n",
       "6       018        0.113       0.053\n",
       "11      007        0.117       0.044\n",
       "4       001        0.118       0.055\n",
       "15      016        0.121       0.037\n",
       "14      005        0.131       0.041\n",
       "9       025        0.136       0.050\n",
       "16      015        0.151       0.036\n",
       "13      010        0.170       0.042\n",
       "5       011        0.207       0.055\n",
       "23      031        0.250       0.000"
      ]
     },
     "execution_count": 16,
     "metadata": {},
     "output_type": "execute_result"
    }
   ],
   "source": [
    "#district\n",
    "pd.DataFrame({\"District\": crime_df_new[\"district\"].value_counts().index, \"Target Rate\": [round(statistics.mean(crime_df_new[\"arrest\"].loc[crime_df_new[\"district\"] == i]), 3) for i in crime_df_new[\"district\"].value_counts().index], \"Proportion\": [round(crime_df_new.loc[crime_df_new[\"district\"] == i].shape[0] / crime_df_new.shape[0], 3) for i in crime_df_new[\"district\"].value_counts().index]}).sort_values(by = \"Target Rate\")\n",
    "                                                                                                                                                                                                                               "
   ]
  },
  {
   "cell_type": "markdown",
   "id": "87ab0faf",
   "metadata": {},
   "source": [
    "##### Decision: 16 + 019, 011 + 031, all others can remain on their own"
   ]
  },
  {
   "cell_type": "code",
   "execution_count": 17,
   "id": "a2d36bf3",
   "metadata": {
    "ExecuteTime": {
     "end_time": "2022-11-18T05:59:27.488117Z",
     "start_time": "2022-11-18T05:59:25.856922Z"
    }
   },
   "outputs": [
    {
     "data": {
      "text/html": [
       "<div>\n",
       "<style scoped>\n",
       "    .dataframe tbody tr th:only-of-type {\n",
       "        vertical-align: middle;\n",
       "    }\n",
       "\n",
       "    .dataframe tbody tr th {\n",
       "        vertical-align: top;\n",
       "    }\n",
       "\n",
       "    .dataframe thead th {\n",
       "        text-align: right;\n",
       "    }\n",
       "</style>\n",
       "<table border=\"1\" class=\"dataframe\">\n",
       "  <thead>\n",
       "    <tr style=\"text-align: right;\">\n",
       "      <th></th>\n",
       "      <th>FBI Code</th>\n",
       "      <th>Target Rate</th>\n",
       "      <th>Proportion</th>\n",
       "    </tr>\n",
       "  </thead>\n",
       "  <tbody>\n",
       "    <tr>\n",
       "      <th>23</th>\n",
       "      <td>12</td>\n",
       "      <td>0.000</td>\n",
       "      <td>0.000</td>\n",
       "    </tr>\n",
       "    <tr>\n",
       "      <th>13</th>\n",
       "      <td>10</td>\n",
       "      <td>0.007</td>\n",
       "      <td>0.009</td>\n",
       "    </tr>\n",
       "    <tr>\n",
       "      <th>6</th>\n",
       "      <td>11</td>\n",
       "      <td>0.013</td>\n",
       "      <td>0.053</td>\n",
       "    </tr>\n",
       "    <tr>\n",
       "      <th>14</th>\n",
       "      <td>02</td>\n",
       "      <td>0.021</td>\n",
       "      <td>0.007</td>\n",
       "    </tr>\n",
       "    <tr>\n",
       "      <th>3</th>\n",
       "      <td>07</td>\n",
       "      <td>0.024</td>\n",
       "      <td>0.083</td>\n",
       "    </tr>\n",
       "    <tr>\n",
       "      <th>2</th>\n",
       "      <td>14</td>\n",
       "      <td>0.032</td>\n",
       "      <td>0.115</td>\n",
       "    </tr>\n",
       "    <tr>\n",
       "      <th>0</th>\n",
       "      <td>06</td>\n",
       "      <td>0.035</td>\n",
       "      <td>0.232</td>\n",
       "    </tr>\n",
       "    <tr>\n",
       "      <th>10</th>\n",
       "      <td>05</td>\n",
       "      <td>0.038</td>\n",
       "      <td>0.032</td>\n",
       "    </tr>\n",
       "    <tr>\n",
       "      <th>8</th>\n",
       "      <td>03</td>\n",
       "      <td>0.048</td>\n",
       "      <td>0.037</td>\n",
       "    </tr>\n",
       "    <tr>\n",
       "      <th>15</th>\n",
       "      <td>17</td>\n",
       "      <td>0.053</td>\n",
       "      <td>0.007</td>\n",
       "    </tr>\n",
       "    <tr>\n",
       "      <th>4</th>\n",
       "      <td>08A</td>\n",
       "      <td>0.055</td>\n",
       "      <td>0.076</td>\n",
       "    </tr>\n",
       "    <tr>\n",
       "      <th>19</th>\n",
       "      <td>09</td>\n",
       "      <td>0.062</td>\n",
       "      <td>0.002</td>\n",
       "    </tr>\n",
       "    <tr>\n",
       "      <th>18</th>\n",
       "      <td>20</td>\n",
       "      <td>0.080</td>\n",
       "      <td>0.003</td>\n",
       "    </tr>\n",
       "    <tr>\n",
       "      <th>9</th>\n",
       "      <td>04B</td>\n",
       "      <td>0.113</td>\n",
       "      <td>0.033</td>\n",
       "    </tr>\n",
       "    <tr>\n",
       "      <th>1</th>\n",
       "      <td>08B</td>\n",
       "      <td>0.141</td>\n",
       "      <td>0.147</td>\n",
       "    </tr>\n",
       "    <tr>\n",
       "      <th>11</th>\n",
       "      <td>04A</td>\n",
       "      <td>0.142</td>\n",
       "      <td>0.031</td>\n",
       "    </tr>\n",
       "    <tr>\n",
       "      <th>5</th>\n",
       "      <td>26</td>\n",
       "      <td>0.218</td>\n",
       "      <td>0.066</td>\n",
       "    </tr>\n",
       "    <tr>\n",
       "      <th>17</th>\n",
       "      <td>01A</td>\n",
       "      <td>0.266</td>\n",
       "      <td>0.003</td>\n",
       "    </tr>\n",
       "    <tr>\n",
       "      <th>22</th>\n",
       "      <td>13</td>\n",
       "      <td>0.516</td>\n",
       "      <td>0.000</td>\n",
       "    </tr>\n",
       "    <tr>\n",
       "      <th>16</th>\n",
       "      <td>24</td>\n",
       "      <td>0.611</td>\n",
       "      <td>0.005</td>\n",
       "    </tr>\n",
       "    <tr>\n",
       "      <th>7</th>\n",
       "      <td>15</td>\n",
       "      <td>0.633</td>\n",
       "      <td>0.039</td>\n",
       "    </tr>\n",
       "    <tr>\n",
       "      <th>25</th>\n",
       "      <td>01B</td>\n",
       "      <td>0.750</td>\n",
       "      <td>0.000</td>\n",
       "    </tr>\n",
       "    <tr>\n",
       "      <th>24</th>\n",
       "      <td>19</td>\n",
       "      <td>0.800</td>\n",
       "      <td>0.000</td>\n",
       "    </tr>\n",
       "    <tr>\n",
       "      <th>12</th>\n",
       "      <td>18</td>\n",
       "      <td>0.951</td>\n",
       "      <td>0.017</td>\n",
       "    </tr>\n",
       "    <tr>\n",
       "      <th>21</th>\n",
       "      <td>22</td>\n",
       "      <td>0.983</td>\n",
       "      <td>0.001</td>\n",
       "    </tr>\n",
       "    <tr>\n",
       "      <th>20</th>\n",
       "      <td>16</td>\n",
       "      <td>0.989</td>\n",
       "      <td>0.001</td>\n",
       "    </tr>\n",
       "  </tbody>\n",
       "</table>\n",
       "</div>"
      ],
      "text/plain": [
       "   FBI Code  Target Rate  Proportion\n",
       "23       12        0.000       0.000\n",
       "13       10        0.007       0.009\n",
       "6        11        0.013       0.053\n",
       "14       02        0.021       0.007\n",
       "3        07        0.024       0.083\n",
       "2        14        0.032       0.115\n",
       "0        06        0.035       0.232\n",
       "10       05        0.038       0.032\n",
       "8        03        0.048       0.037\n",
       "15       17        0.053       0.007\n",
       "4       08A        0.055       0.076\n",
       "19       09        0.062       0.002\n",
       "18       20        0.080       0.003\n",
       "9       04B        0.113       0.033\n",
       "1       08B        0.141       0.147\n",
       "11      04A        0.142       0.031\n",
       "5        26        0.218       0.066\n",
       "17      01A        0.266       0.003\n",
       "22       13        0.516       0.000\n",
       "16       24        0.611       0.005\n",
       "7        15        0.633       0.039\n",
       "25      01B        0.750       0.000\n",
       "24       19        0.800       0.000\n",
       "12       18        0.951       0.017\n",
       "21       22        0.983       0.001\n",
       "20       16        0.989       0.001"
      ]
     },
     "execution_count": 17,
     "metadata": {},
     "output_type": "execute_result"
    }
   ],
   "source": [
    "#FBI Code\n",
    "pd.DataFrame({\"FBI Code\": crime_df_new[\"fbi_code\"].value_counts().index, \"Target Rate\": [round(statistics.mean(crime_df_new[\"arrest\"].loc[crime_df_new[\"fbi_code\"] == i]), 3) for i in crime_df_new[\"fbi_code\"].value_counts().index], \"Proportion\": [round(crime_df_new.loc[crime_df_new[\"fbi_code\"] == i].shape[0] / crime_df_new.shape[0], 3) for i in crime_df_new[\"fbi_code\"].value_counts().index]}).sort_values(by = \"Target Rate\")\n",
    "                                                                                                                                                                                                                               "
   ]
  },
  {
   "cell_type": "markdown",
   "id": "ef892082",
   "metadata": {},
   "source": [
    "##### Decision: Variable incredibly similar to the variable below, we'll drop this one"
   ]
  },
  {
   "cell_type": "code",
   "execution_count": 18,
   "id": "af12ab35",
   "metadata": {
    "ExecuteTime": {
     "end_time": "2022-11-18T05:59:27.546467Z",
     "start_time": "2022-11-18T05:59:27.490458Z"
    }
   },
   "outputs": [
    {
     "data": {
      "text/html": [
       "<div>\n",
       "<style scoped>\n",
       "    .dataframe tbody tr th:only-of-type {\n",
       "        vertical-align: middle;\n",
       "    }\n",
       "\n",
       "    .dataframe tbody tr th {\n",
       "        vertical-align: top;\n",
       "    }\n",
       "\n",
       "    .dataframe thead th {\n",
       "        text-align: right;\n",
       "    }\n",
       "</style>\n",
       "<table border=\"1\" class=\"dataframe\">\n",
       "  <thead>\n",
       "    <tr style=\"text-align: right;\">\n",
       "      <th></th>\n",
       "      <th>district</th>\n",
       "      <th>y_coordinate</th>\n",
       "      <th>latitude</th>\n",
       "      <th>x_coordinate</th>\n",
       "      <th>domestic</th>\n",
       "      <th>longitude</th>\n",
       "      <th>primary_type</th>\n",
       "      <th>arrest</th>\n",
       "      <th>month</th>\n",
       "    </tr>\n",
       "  </thead>\n",
       "  <tbody>\n",
       "    <tr>\n",
       "      <th>0</th>\n",
       "      <td>012</td>\n",
       "      <td>1889981.0</td>\n",
       "      <td>41.853718</td>\n",
       "      <td>1164698.0</td>\n",
       "      <td>0</td>\n",
       "      <td>-87.670981</td>\n",
       "      <td>BATTERY</td>\n",
       "      <td>0</td>\n",
       "      <td>2022-11</td>\n",
       "    </tr>\n",
       "    <tr>\n",
       "      <th>1</th>\n",
       "      <td>017</td>\n",
       "      <td>1930561.0</td>\n",
       "      <td>41.965249</td>\n",
       "      <td>1156210.0</td>\n",
       "      <td>0</td>\n",
       "      <td>-87.701037</td>\n",
       "      <td>THEFT</td>\n",
       "      <td>0</td>\n",
       "      <td>2022-11</td>\n",
       "    </tr>\n",
       "    <tr>\n",
       "      <th>2</th>\n",
       "      <td>001</td>\n",
       "      <td>1901592.0</td>\n",
       "      <td>41.885325</td>\n",
       "      <td>1176332.0</td>\n",
       "      <td>0</td>\n",
       "      <td>-87.627930</td>\n",
       "      <td>BATTERY</td>\n",
       "      <td>0</td>\n",
       "      <td>2022-11</td>\n",
       "    </tr>\n",
       "    <tr>\n",
       "      <th>3</th>\n",
       "      <td>003</td>\n",
       "      <td>1860610.0</td>\n",
       "      <td>41.772532</td>\n",
       "      <td>1190707.0</td>\n",
       "      <td>0</td>\n",
       "      <td>-87.576469</td>\n",
       "      <td>MOTOR VEHICLE THEFT</td>\n",
       "      <td>0</td>\n",
       "      <td>2022-11</td>\n",
       "    </tr>\n",
       "    <tr>\n",
       "      <th>4</th>\n",
       "      <td>017</td>\n",
       "      <td>1921150.0</td>\n",
       "      <td>41.939398</td>\n",
       "      <td>1157497.0</td>\n",
       "      <td>1</td>\n",
       "      <td>-87.696562</td>\n",
       "      <td>BATTERY</td>\n",
       "      <td>1</td>\n",
       "      <td>2022-11</td>\n",
       "    </tr>\n",
       "  </tbody>\n",
       "</table>\n",
       "</div>"
      ],
      "text/plain": [
       "  district  y_coordinate   latitude  x_coordinate  domestic  longitude  \\\n",
       "0      012     1889981.0  41.853718     1164698.0         0 -87.670981   \n",
       "1      017     1930561.0  41.965249     1156210.0         0 -87.701037   \n",
       "2      001     1901592.0  41.885325     1176332.0         0 -87.627930   \n",
       "3      003     1860610.0  41.772532     1190707.0         0 -87.576469   \n",
       "4      017     1921150.0  41.939398     1157497.0         1 -87.696562   \n",
       "\n",
       "          primary_type  arrest    month  \n",
       "0              BATTERY       0  2022-11  \n",
       "1                THEFT       0  2022-11  \n",
       "2              BATTERY       0  2022-11  \n",
       "3  MOTOR VEHICLE THEFT       0  2022-11  \n",
       "4              BATTERY       1  2022-11  "
      ]
     },
     "execution_count": 18,
     "metadata": {},
     "output_type": "execute_result"
    }
   ],
   "source": [
    "crime_df_new = crime_df_new.drop([\"fbi_code\"], axis = 1)\n",
    "crime_df_new.head()"
   ]
  },
  {
   "cell_type": "code",
   "execution_count": 19,
   "id": "7e22c5bf",
   "metadata": {
    "ExecuteTime": {
     "end_time": "2022-11-18T05:59:29.351289Z",
     "start_time": "2022-11-18T05:59:27.549095Z"
    }
   },
   "outputs": [
    {
     "data": {
      "text/html": [
       "<div>\n",
       "<style scoped>\n",
       "    .dataframe tbody tr th:only-of-type {\n",
       "        vertical-align: middle;\n",
       "    }\n",
       "\n",
       "    .dataframe tbody tr th {\n",
       "        vertical-align: top;\n",
       "    }\n",
       "\n",
       "    .dataframe thead th {\n",
       "        text-align: right;\n",
       "    }\n",
       "</style>\n",
       "<table border=\"1\" class=\"dataframe\">\n",
       "  <thead>\n",
       "    <tr style=\"text-align: right;\">\n",
       "      <th></th>\n",
       "      <th>Primary Type</th>\n",
       "      <th>Target Rate</th>\n",
       "      <th>Proportion</th>\n",
       "    </tr>\n",
       "  </thead>\n",
       "  <tbody>\n",
       "    <tr>\n",
       "      <th>26</th>\n",
       "      <td>HUMAN TRAFFICKING</td>\n",
       "      <td>0.000</td>\n",
       "      <td>0.000</td>\n",
       "    </tr>\n",
       "    <tr>\n",
       "      <th>23</th>\n",
       "      <td>INTIMIDATION</td>\n",
       "      <td>0.007</td>\n",
       "      <td>0.001</td>\n",
       "    </tr>\n",
       "    <tr>\n",
       "      <th>5</th>\n",
       "      <td>DECEPTIVE PRACTICE</td>\n",
       "      <td>0.015</td>\n",
       "      <td>0.063</td>\n",
       "    </tr>\n",
       "    <tr>\n",
       "      <th>13</th>\n",
       "      <td>CRIMINAL SEXUAL ASSAULT</td>\n",
       "      <td>0.020</td>\n",
       "      <td>0.007</td>\n",
       "    </tr>\n",
       "    <tr>\n",
       "      <th>4</th>\n",
       "      <td>MOTOR VEHICLE THEFT</td>\n",
       "      <td>0.024</td>\n",
       "      <td>0.083</td>\n",
       "    </tr>\n",
       "    <tr>\n",
       "      <th>2</th>\n",
       "      <td>CRIMINAL DAMAGE</td>\n",
       "      <td>0.032</td>\n",
       "      <td>0.115</td>\n",
       "    </tr>\n",
       "    <tr>\n",
       "      <th>0</th>\n",
       "      <td>THEFT</td>\n",
       "      <td>0.035</td>\n",
       "      <td>0.232</td>\n",
       "    </tr>\n",
       "    <tr>\n",
       "      <th>9</th>\n",
       "      <td>BURGLARY</td>\n",
       "      <td>0.038</td>\n",
       "      <td>0.032</td>\n",
       "    </tr>\n",
       "    <tr>\n",
       "      <th>18</th>\n",
       "      <td>STALKING</td>\n",
       "      <td>0.044</td>\n",
       "      <td>0.002</td>\n",
       "    </tr>\n",
       "    <tr>\n",
       "      <th>8</th>\n",
       "      <td>ROBBERY</td>\n",
       "      <td>0.048</td>\n",
       "      <td>0.037</td>\n",
       "    </tr>\n",
       "    <tr>\n",
       "      <th>12</th>\n",
       "      <td>OFFENSE INVOLVING CHILDREN</td>\n",
       "      <td>0.052</td>\n",
       "      <td>0.008</td>\n",
       "    </tr>\n",
       "    <tr>\n",
       "      <th>14</th>\n",
       "      <td>SEX OFFENSE</td>\n",
       "      <td>0.057</td>\n",
       "      <td>0.005</td>\n",
       "    </tr>\n",
       "    <tr>\n",
       "      <th>17</th>\n",
       "      <td>ARSON</td>\n",
       "      <td>0.062</td>\n",
       "      <td>0.002</td>\n",
       "    </tr>\n",
       "    <tr>\n",
       "      <th>24</th>\n",
       "      <td>KIDNAPPING</td>\n",
       "      <td>0.069</td>\n",
       "      <td>0.001</td>\n",
       "    </tr>\n",
       "    <tr>\n",
       "      <th>3</th>\n",
       "      <td>ASSAULT</td>\n",
       "      <td>0.095</td>\n",
       "      <td>0.090</td>\n",
       "    </tr>\n",
       "    <tr>\n",
       "      <th>1</th>\n",
       "      <td>BATTERY</td>\n",
       "      <td>0.138</td>\n",
       "      <td>0.177</td>\n",
       "    </tr>\n",
       "    <tr>\n",
       "      <th>6</th>\n",
       "      <td>OTHER OFFENSE</td>\n",
       "      <td>0.145</td>\n",
       "      <td>0.062</td>\n",
       "    </tr>\n",
       "    <tr>\n",
       "      <th>16</th>\n",
       "      <td>HOMICIDE</td>\n",
       "      <td>0.270</td>\n",
       "      <td>0.003</td>\n",
       "    </tr>\n",
       "    <tr>\n",
       "      <th>10</th>\n",
       "      <td>CRIMINAL TRESPASS</td>\n",
       "      <td>0.292</td>\n",
       "      <td>0.018</td>\n",
       "    </tr>\n",
       "    <tr>\n",
       "      <th>29</th>\n",
       "      <td>OTHER NARCOTIC VIOLATION</td>\n",
       "      <td>0.400</td>\n",
       "      <td>0.000</td>\n",
       "    </tr>\n",
       "    <tr>\n",
       "      <th>15</th>\n",
       "      <td>PUBLIC PEACE VIOLATION</td>\n",
       "      <td>0.445</td>\n",
       "      <td>0.003</td>\n",
       "    </tr>\n",
       "    <tr>\n",
       "      <th>30</th>\n",
       "      <td>NON-CRIMINAL</td>\n",
       "      <td>0.500</td>\n",
       "      <td>0.000</td>\n",
       "    </tr>\n",
       "    <tr>\n",
       "      <th>7</th>\n",
       "      <td>WEAPONS VIOLATION</td>\n",
       "      <td>0.626</td>\n",
       "      <td>0.038</td>\n",
       "    </tr>\n",
       "    <tr>\n",
       "      <th>25</th>\n",
       "      <td>OBSCENITY</td>\n",
       "      <td>0.649</td>\n",
       "      <td>0.000</td>\n",
       "    </tr>\n",
       "    <tr>\n",
       "      <th>28</th>\n",
       "      <td>PUBLIC INDECENCY</td>\n",
       "      <td>0.800</td>\n",
       "      <td>0.000</td>\n",
       "    </tr>\n",
       "    <tr>\n",
       "      <th>27</th>\n",
       "      <td>GAMBLING</td>\n",
       "      <td>0.889</td>\n",
       "      <td>0.000</td>\n",
       "    </tr>\n",
       "    <tr>\n",
       "      <th>19</th>\n",
       "      <td>INTERFERENCE WITH PUBLIC OFFICER</td>\n",
       "      <td>0.892</td>\n",
       "      <td>0.002</td>\n",
       "    </tr>\n",
       "    <tr>\n",
       "      <th>11</th>\n",
       "      <td>NARCOTICS</td>\n",
       "      <td>0.952</td>\n",
       "      <td>0.017</td>\n",
       "    </tr>\n",
       "    <tr>\n",
       "      <th>22</th>\n",
       "      <td>CONCEALED CARRY LICENSE VIOLATION</td>\n",
       "      <td>0.961</td>\n",
       "      <td>0.001</td>\n",
       "    </tr>\n",
       "    <tr>\n",
       "      <th>21</th>\n",
       "      <td>LIQUOR LAW VIOLATION</td>\n",
       "      <td>0.983</td>\n",
       "      <td>0.001</td>\n",
       "    </tr>\n",
       "    <tr>\n",
       "      <th>20</th>\n",
       "      <td>PROSTITUTION</td>\n",
       "      <td>0.989</td>\n",
       "      <td>0.001</td>\n",
       "    </tr>\n",
       "  </tbody>\n",
       "</table>\n",
       "</div>"
      ],
      "text/plain": [
       "                         Primary Type  Target Rate  Proportion\n",
       "26                  HUMAN TRAFFICKING        0.000       0.000\n",
       "23                       INTIMIDATION        0.007       0.001\n",
       "5                  DECEPTIVE PRACTICE        0.015       0.063\n",
       "13            CRIMINAL SEXUAL ASSAULT        0.020       0.007\n",
       "4                 MOTOR VEHICLE THEFT        0.024       0.083\n",
       "2                     CRIMINAL DAMAGE        0.032       0.115\n",
       "0                               THEFT        0.035       0.232\n",
       "9                            BURGLARY        0.038       0.032\n",
       "18                           STALKING        0.044       0.002\n",
       "8                             ROBBERY        0.048       0.037\n",
       "12         OFFENSE INVOLVING CHILDREN        0.052       0.008\n",
       "14                        SEX OFFENSE        0.057       0.005\n",
       "17                              ARSON        0.062       0.002\n",
       "24                         KIDNAPPING        0.069       0.001\n",
       "3                             ASSAULT        0.095       0.090\n",
       "1                             BATTERY        0.138       0.177\n",
       "6                       OTHER OFFENSE        0.145       0.062\n",
       "16                           HOMICIDE        0.270       0.003\n",
       "10                  CRIMINAL TRESPASS        0.292       0.018\n",
       "29           OTHER NARCOTIC VIOLATION        0.400       0.000\n",
       "15             PUBLIC PEACE VIOLATION        0.445       0.003\n",
       "30                       NON-CRIMINAL        0.500       0.000\n",
       "7                   WEAPONS VIOLATION        0.626       0.038\n",
       "25                          OBSCENITY        0.649       0.000\n",
       "28                   PUBLIC INDECENCY        0.800       0.000\n",
       "27                           GAMBLING        0.889       0.000\n",
       "19   INTERFERENCE WITH PUBLIC OFFICER        0.892       0.002\n",
       "11                          NARCOTICS        0.952       0.017\n",
       "22  CONCEALED CARRY LICENSE VIOLATION        0.961       0.001\n",
       "21               LIQUOR LAW VIOLATION        0.983       0.001\n",
       "20                       PROSTITUTION        0.989       0.001"
      ]
     },
     "execution_count": 19,
     "metadata": {},
     "output_type": "execute_result"
    }
   ],
   "source": [
    "#Primary Type\n",
    "pd.DataFrame({\"Primary Type\": crime_df_new[\"primary_type\"].value_counts().index, \"Target Rate\": [round(statistics.mean(crime_df_new[\"arrest\"].loc[crime_df_new[\"primary_type\"] == i]), 3) for i in crime_df_new[\"primary_type\"].value_counts().index], \"Proportion\": [round(crime_df_new.loc[crime_df_new[\"primary_type\"] == i].shape[0] / crime_df_new.shape[0], 3) for i in crime_df_new[\"primary_type\"].value_counts().index]}).sort_values(by = \"Target Rate\")\n",
    "                                                                                                                                                                                                                               "
   ]
  },
  {
   "cell_type": "markdown",
   "id": "f1843b85",
   "metadata": {},
   "source": [
    "##### Decision: Bottom 5, Next 5, Next 7, Next 2, Next 5, Last 7"
   ]
  },
  {
   "cell_type": "code",
   "execution_count": 20,
   "id": "4654d0fb",
   "metadata": {
    "ExecuteTime": {
     "end_time": "2022-11-18T05:59:29.836804Z",
     "start_time": "2022-11-18T05:59:29.353508Z"
    }
   },
   "outputs": [
    {
     "data": {
      "text/html": [
       "<div>\n",
       "<style scoped>\n",
       "    .dataframe tbody tr th:only-of-type {\n",
       "        vertical-align: middle;\n",
       "    }\n",
       "\n",
       "    .dataframe tbody tr th {\n",
       "        vertical-align: top;\n",
       "    }\n",
       "\n",
       "    .dataframe thead th {\n",
       "        text-align: right;\n",
       "    }\n",
       "</style>\n",
       "<table border=\"1\" class=\"dataframe\">\n",
       "  <thead>\n",
       "    <tr style=\"text-align: right;\">\n",
       "      <th></th>\n",
       "      <th>Month</th>\n",
       "      <th>Target Rate</th>\n",
       "      <th>Proportion</th>\n",
       "    </tr>\n",
       "  </thead>\n",
       "  <tbody>\n",
       "    <tr>\n",
       "      <th>10</th>\n",
       "      <td>2022-11</td>\n",
       "      <td>0.081</td>\n",
       "      <td>0.031</td>\n",
       "    </tr>\n",
       "    <tr>\n",
       "      <th>0</th>\n",
       "      <td>2022-10</td>\n",
       "      <td>0.089</td>\n",
       "      <td>0.111</td>\n",
       "    </tr>\n",
       "    <tr>\n",
       "      <th>3</th>\n",
       "      <td>2022-09</td>\n",
       "      <td>0.101</td>\n",
       "      <td>0.109</td>\n",
       "    </tr>\n",
       "    <tr>\n",
       "      <th>1</th>\n",
       "      <td>2022-07</td>\n",
       "      <td>0.104</td>\n",
       "      <td>0.109</td>\n",
       "    </tr>\n",
       "    <tr>\n",
       "      <th>2</th>\n",
       "      <td>2022-08</td>\n",
       "      <td>0.105</td>\n",
       "      <td>0.109</td>\n",
       "    </tr>\n",
       "    <tr>\n",
       "      <th>8</th>\n",
       "      <td>2022-01</td>\n",
       "      <td>0.111</td>\n",
       "      <td>0.077</td>\n",
       "    </tr>\n",
       "    <tr>\n",
       "      <th>4</th>\n",
       "      <td>2022-06</td>\n",
       "      <td>0.118</td>\n",
       "      <td>0.102</td>\n",
       "    </tr>\n",
       "    <tr>\n",
       "      <th>6</th>\n",
       "      <td>2022-03</td>\n",
       "      <td>0.121</td>\n",
       "      <td>0.090</td>\n",
       "    </tr>\n",
       "    <tr>\n",
       "      <th>7</th>\n",
       "      <td>2022-04</td>\n",
       "      <td>0.130</td>\n",
       "      <td>0.088</td>\n",
       "    </tr>\n",
       "    <tr>\n",
       "      <th>5</th>\n",
       "      <td>2022-05</td>\n",
       "      <td>0.138</td>\n",
       "      <td>0.099</td>\n",
       "    </tr>\n",
       "    <tr>\n",
       "      <th>9</th>\n",
       "      <td>2022-02</td>\n",
       "      <td>0.138</td>\n",
       "      <td>0.075</td>\n",
       "    </tr>\n",
       "  </tbody>\n",
       "</table>\n",
       "</div>"
      ],
      "text/plain": [
       "      Month  Target Rate  Proportion\n",
       "10  2022-11        0.081       0.031\n",
       "0   2022-10        0.089       0.111\n",
       "3   2022-09        0.101       0.109\n",
       "1   2022-07        0.104       0.109\n",
       "2   2022-08        0.105       0.109\n",
       "8   2022-01        0.111       0.077\n",
       "4   2022-06        0.118       0.102\n",
       "6   2022-03        0.121       0.090\n",
       "7   2022-04        0.130       0.088\n",
       "5   2022-05        0.138       0.099\n",
       "9   2022-02        0.138       0.075"
      ]
     },
     "execution_count": 20,
     "metadata": {},
     "output_type": "execute_result"
    }
   ],
   "source": [
    "#Month\n",
    "pd.DataFrame({\"Month\": crime_df_new[\"month\"].value_counts().index, \"Target Rate\": [round(statistics.mean(crime_df_new[\"arrest\"].loc[crime_df_new[\"month\"] == i]), 3) for i in crime_df_new[\"month\"].value_counts().index], \"Proportion\": [round(crime_df_new.loc[crime_df_new[\"month\"] == i].shape[0] / crime_df_new.shape[0], 3) for i in crime_df_new[\"month\"].value_counts().index]}).sort_values(by = \"Target Rate\")\n",
    "                                                                                                                                                                                                                               "
   ]
  },
  {
   "cell_type": "markdown",
   "id": "d9ffac32",
   "metadata": {},
   "source": [
    "##### Decision: Bins good to remain on their own, may consider seasonal binning later"
   ]
  },
  {
   "cell_type": "markdown",
   "id": "1d5c9505",
   "metadata": {},
   "source": [
    "### Implementing Bins"
   ]
  },
  {
   "cell_type": "code",
   "execution_count": 21,
   "id": "865504da",
   "metadata": {
    "ExecuteTime": {
     "end_time": "2022-11-18T05:59:29.884897Z",
     "start_time": "2022-11-18T05:59:29.839132Z"
    }
   },
   "outputs": [],
   "source": [
    "#district\n",
    "crime_df_new.loc[crime_df_new[\"district\"].isin([\"16\", \"019\"]), \"district\"] = \"16/019\"\n",
    "crime_df_new.loc[crime_df_new[\"district\"].isin([\"011\", \"031\"]), \"district\"] = \"011/031\""
   ]
  },
  {
   "cell_type": "code",
   "execution_count": 22,
   "id": "bf58331b",
   "metadata": {
    "ExecuteTime": {
     "end_time": "2022-11-18T05:59:31.264232Z",
     "start_time": "2022-11-18T05:59:29.887428Z"
    }
   },
   "outputs": [
    {
     "data": {
      "text/html": [
       "<div>\n",
       "<style scoped>\n",
       "    .dataframe tbody tr th:only-of-type {\n",
       "        vertical-align: middle;\n",
       "    }\n",
       "\n",
       "    .dataframe tbody tr th {\n",
       "        vertical-align: top;\n",
       "    }\n",
       "\n",
       "    .dataframe thead th {\n",
       "        text-align: right;\n",
       "    }\n",
       "</style>\n",
       "<table border=\"1\" class=\"dataframe\">\n",
       "  <thead>\n",
       "    <tr style=\"text-align: right;\">\n",
       "      <th></th>\n",
       "      <th>District</th>\n",
       "      <th>Target Rate</th>\n",
       "      <th>Proportion</th>\n",
       "    </tr>\n",
       "  </thead>\n",
       "  <tbody>\n",
       "    <tr>\n",
       "      <th>7</th>\n",
       "      <td>16/019</td>\n",
       "      <td>0.071</td>\n",
       "      <td>0.051</td>\n",
       "    </tr>\n",
       "    <tr>\n",
       "      <th>2</th>\n",
       "      <td>012</td>\n",
       "      <td>0.082</td>\n",
       "      <td>0.059</td>\n",
       "    </tr>\n",
       "    <tr>\n",
       "      <th>10</th>\n",
       "      <td>002</td>\n",
       "      <td>0.086</td>\n",
       "      <td>0.049</td>\n",
       "    </tr>\n",
       "    <tr>\n",
       "      <th>21</th>\n",
       "      <td>020</td>\n",
       "      <td>0.087</td>\n",
       "      <td>0.021</td>\n",
       "    </tr>\n",
       "    <tr>\n",
       "      <th>1</th>\n",
       "      <td>008</td>\n",
       "      <td>0.092</td>\n",
       "      <td>0.062</td>\n",
       "    </tr>\n",
       "    <tr>\n",
       "      <th>8</th>\n",
       "      <td>003</td>\n",
       "      <td>0.092</td>\n",
       "      <td>0.050</td>\n",
       "    </tr>\n",
       "    <tr>\n",
       "      <th>3</th>\n",
       "      <td>004</td>\n",
       "      <td>0.093</td>\n",
       "      <td>0.059</td>\n",
       "    </tr>\n",
       "    <tr>\n",
       "      <th>17</th>\n",
       "      <td>024</td>\n",
       "      <td>0.098</td>\n",
       "      <td>0.036</td>\n",
       "    </tr>\n",
       "    <tr>\n",
       "      <th>19</th>\n",
       "      <td>022</td>\n",
       "      <td>0.099</td>\n",
       "      <td>0.032</td>\n",
       "    </tr>\n",
       "    <tr>\n",
       "      <th>0</th>\n",
       "      <td>006</td>\n",
       "      <td>0.104</td>\n",
       "      <td>0.062</td>\n",
       "    </tr>\n",
       "    <tr>\n",
       "      <th>18</th>\n",
       "      <td>014</td>\n",
       "      <td>0.105</td>\n",
       "      <td>0.034</td>\n",
       "    </tr>\n",
       "    <tr>\n",
       "      <th>12</th>\n",
       "      <td>009</td>\n",
       "      <td>0.106</td>\n",
       "      <td>0.044</td>\n",
       "    </tr>\n",
       "    <tr>\n",
       "      <th>20</th>\n",
       "      <td>017</td>\n",
       "      <td>0.108</td>\n",
       "      <td>0.029</td>\n",
       "    </tr>\n",
       "    <tr>\n",
       "      <th>6</th>\n",
       "      <td>018</td>\n",
       "      <td>0.113</td>\n",
       "      <td>0.053</td>\n",
       "    </tr>\n",
       "    <tr>\n",
       "      <th>11</th>\n",
       "      <td>007</td>\n",
       "      <td>0.117</td>\n",
       "      <td>0.044</td>\n",
       "    </tr>\n",
       "    <tr>\n",
       "      <th>4</th>\n",
       "      <td>001</td>\n",
       "      <td>0.118</td>\n",
       "      <td>0.055</td>\n",
       "    </tr>\n",
       "    <tr>\n",
       "      <th>15</th>\n",
       "      <td>016</td>\n",
       "      <td>0.121</td>\n",
       "      <td>0.037</td>\n",
       "    </tr>\n",
       "    <tr>\n",
       "      <th>14</th>\n",
       "      <td>005</td>\n",
       "      <td>0.131</td>\n",
       "      <td>0.041</td>\n",
       "    </tr>\n",
       "    <tr>\n",
       "      <th>9</th>\n",
       "      <td>025</td>\n",
       "      <td>0.136</td>\n",
       "      <td>0.050</td>\n",
       "    </tr>\n",
       "    <tr>\n",
       "      <th>16</th>\n",
       "      <td>015</td>\n",
       "      <td>0.151</td>\n",
       "      <td>0.036</td>\n",
       "    </tr>\n",
       "    <tr>\n",
       "      <th>13</th>\n",
       "      <td>010</td>\n",
       "      <td>0.170</td>\n",
       "      <td>0.042</td>\n",
       "    </tr>\n",
       "    <tr>\n",
       "      <th>5</th>\n",
       "      <td>011/031</td>\n",
       "      <td>0.207</td>\n",
       "      <td>0.055</td>\n",
       "    </tr>\n",
       "  </tbody>\n",
       "</table>\n",
       "</div>"
      ],
      "text/plain": [
       "   District  Target Rate  Proportion\n",
       "7    16/019        0.071       0.051\n",
       "2       012        0.082       0.059\n",
       "10      002        0.086       0.049\n",
       "21      020        0.087       0.021\n",
       "1       008        0.092       0.062\n",
       "8       003        0.092       0.050\n",
       "3       004        0.093       0.059\n",
       "17      024        0.098       0.036\n",
       "19      022        0.099       0.032\n",
       "0       006        0.104       0.062\n",
       "18      014        0.105       0.034\n",
       "12      009        0.106       0.044\n",
       "20      017        0.108       0.029\n",
       "6       018        0.113       0.053\n",
       "11      007        0.117       0.044\n",
       "4       001        0.118       0.055\n",
       "15      016        0.121       0.037\n",
       "14      005        0.131       0.041\n",
       "9       025        0.136       0.050\n",
       "16      015        0.151       0.036\n",
       "13      010        0.170       0.042\n",
       "5   011/031        0.207       0.055"
      ]
     },
     "execution_count": 22,
     "metadata": {},
     "output_type": "execute_result"
    }
   ],
   "source": [
    "#checking new values\n",
    "pd.DataFrame({\"District\": crime_df_new[\"district\"].value_counts().index, \"Target Rate\": [round(statistics.mean(crime_df_new[\"arrest\"].loc[crime_df_new[\"district\"] == i]), 3) for i in crime_df_new[\"district\"].value_counts().index], \"Proportion\": [round(crime_df_new.loc[crime_df_new[\"district\"] == i].shape[0] / crime_df_new.shape[0], 3) for i in crime_df_new[\"district\"].value_counts().index]}).sort_values(by = \"Target Rate\")\n",
    "                                                                                                                                                                                                                               "
   ]
  },
  {
   "cell_type": "code",
   "execution_count": 23,
   "id": "a452143a",
   "metadata": {
    "ExecuteTime": {
     "end_time": "2022-11-18T05:59:31.385352Z",
     "start_time": "2022-11-18T05:59:31.267191Z"
    }
   },
   "outputs": [],
   "source": [
    "#Primary Type\n",
    "crime_df_new.loc[crime_df_new[\"primary_type\"].isin([\"HUMAN TRAFFICKING\", \"INTIMIDATION\", \"DECEPTIVE PRACTICE\", \"CRIMINAL SEXUAL ASSAULT\", \"MOTOR VEHICLE THEFT\"]), \"primary_type\"] = \"bin1\"\n",
    "crime_df_new.loc[crime_df_new[\"primary_type\"].isin([\"CRIMINAL DAMAGE\", \"THEFT\", \"BURGLARY\", \"STALKING\", \"ROBBERY\"]), \"primary_type\"] = \"bin2\"\n",
    "crime_df_new.loc[crime_df_new[\"primary_type\"].isin([\"OFFENSE INVOLVING CHILDREN\", \"SEX OFFENSE\", \"ARSON\", \"KIDNAPPING\", \"ASSAULT\", \"BATTERY\", \"OTHER OFFENSE\"]), \"primary_type\"] = \"bin3\"\n",
    "crime_df_new.loc[crime_df_new[\"primary_type\"].isin([\"HOMICIDE\", \"CRIMINAL TRESPASS\"]), \"primary_type\"] = \"bin4\"\n",
    "crime_df_new.loc[crime_df_new[\"primary_type\"].isin([\"OTHER NARCOTIC VIOLATION\", \"PUBLIC PEACE VIOLATION\", \"NON-CRIMINAL\", \"WEAPONS VIOLATION\", \"OBSCENITY\"]), \"primary_type\"] = \"bin5\"\n",
    "crime_df_new.loc[crime_df_new[\"primary_type\"].isin([\"PUBLIC INDECENCY\", \"GAMBLING\", \"INTERFERENCE WITH PUBLIC OFFICER\", \"NARCOTICS\", \"CONCEALED CARRY LICENSE VIOLATION\", \"LIQUOR LAW VIOLATION\", \"PROSTITUTION\"]), \"primary_type\"] = \"bin6\"\n"
   ]
  },
  {
   "cell_type": "code",
   "execution_count": 24,
   "id": "4f4341ce",
   "metadata": {
    "ExecuteTime": {
     "end_time": "2022-11-18T05:59:31.714847Z",
     "start_time": "2022-11-18T05:59:31.387826Z"
    }
   },
   "outputs": [
    {
     "data": {
      "text/html": [
       "<div>\n",
       "<style scoped>\n",
       "    .dataframe tbody tr th:only-of-type {\n",
       "        vertical-align: middle;\n",
       "    }\n",
       "\n",
       "    .dataframe tbody tr th {\n",
       "        vertical-align: top;\n",
       "    }\n",
       "\n",
       "    .dataframe thead th {\n",
       "        text-align: right;\n",
       "    }\n",
       "</style>\n",
       "<table border=\"1\" class=\"dataframe\">\n",
       "  <thead>\n",
       "    <tr style=\"text-align: right;\">\n",
       "      <th></th>\n",
       "      <th>Primary Type</th>\n",
       "      <th>Target Rate</th>\n",
       "      <th>Proportion</th>\n",
       "    </tr>\n",
       "  </thead>\n",
       "  <tbody>\n",
       "    <tr>\n",
       "      <th>2</th>\n",
       "      <td>bin1</td>\n",
       "      <td>0.020</td>\n",
       "      <td>0.153</td>\n",
       "    </tr>\n",
       "    <tr>\n",
       "      <th>0</th>\n",
       "      <td>bin2</td>\n",
       "      <td>0.036</td>\n",
       "      <td>0.418</td>\n",
       "    </tr>\n",
       "    <tr>\n",
       "      <th>1</th>\n",
       "      <td>bin3</td>\n",
       "      <td>0.124</td>\n",
       "      <td>0.345</td>\n",
       "    </tr>\n",
       "    <tr>\n",
       "      <th>5</th>\n",
       "      <td>bin4</td>\n",
       "      <td>0.289</td>\n",
       "      <td>0.021</td>\n",
       "    </tr>\n",
       "    <tr>\n",
       "      <th>3</th>\n",
       "      <td>bin5</td>\n",
       "      <td>0.613</td>\n",
       "      <td>0.042</td>\n",
       "    </tr>\n",
       "    <tr>\n",
       "      <th>4</th>\n",
       "      <td>bin6</td>\n",
       "      <td>0.950</td>\n",
       "      <td>0.022</td>\n",
       "    </tr>\n",
       "  </tbody>\n",
       "</table>\n",
       "</div>"
      ],
      "text/plain": [
       "  Primary Type  Target Rate  Proportion\n",
       "2         bin1        0.020       0.153\n",
       "0         bin2        0.036       0.418\n",
       "1         bin3        0.124       0.345\n",
       "5         bin4        0.289       0.021\n",
       "3         bin5        0.613       0.042\n",
       "4         bin6        0.950       0.022"
      ]
     },
     "execution_count": 24,
     "metadata": {},
     "output_type": "execute_result"
    }
   ],
   "source": [
    "#checking new values\n",
    "pd.DataFrame({\"Primary Type\": crime_df_new[\"primary_type\"].value_counts().index, \"Target Rate\": [round(statistics.mean(crime_df_new[\"arrest\"].loc[crime_df_new[\"primary_type\"] == i]), 3) for i in crime_df_new[\"primary_type\"].value_counts().index], \"Proportion\": [round(crime_df_new.loc[crime_df_new[\"primary_type\"] == i].shape[0] / crime_df_new.shape[0], 3) for i in crime_df_new[\"primary_type\"].value_counts().index]}).sort_values(by = \"Target Rate\")\n",
    "                                                                                                                                                                                                                               "
   ]
  },
  {
   "cell_type": "markdown",
   "id": "7456bdd7",
   "metadata": {},
   "source": [
    "# WoE (Weight of Evidence) Coding Categorical Variables\n",
    "### Converts categoricals to numerics to allow their use in the model"
   ]
  },
  {
   "cell_type": "code",
   "execution_count": 25,
   "id": "21b40917",
   "metadata": {
    "ExecuteTime": {
     "end_time": "2022-11-18T05:59:31.844981Z",
     "start_time": "2022-11-18T05:59:31.717425Z"
    }
   },
   "outputs": [],
   "source": [
    "#dropping na values\n",
    "crime_df_new = crime_df_new.dropna()"
   ]
  },
  {
   "cell_type": "code",
   "execution_count": 26,
   "id": "45a5d3e1",
   "metadata": {
    "ExecuteTime": {
     "end_time": "2022-11-18T05:59:32.818684Z",
     "start_time": "2022-11-18T05:59:31.847366Z"
    }
   },
   "outputs": [],
   "source": [
    "#train / test split\n",
    "from sklearn.model_selection import train_test_split\n",
    "X_train, X_test, y_train, y_test = train_test_split(crime_df_new.drop([\"arrest\"], axis = 1), crime_df_new[\"arrest\"], shuffle=True)"
   ]
  },
  {
   "cell_type": "code",
   "execution_count": 27,
   "id": "aa178dce",
   "metadata": {
    "ExecuteTime": {
     "end_time": "2022-11-18T05:59:32.825250Z",
     "start_time": "2022-11-18T05:59:32.821174Z"
    }
   },
   "outputs": [
    {
     "name": "stdout",
     "output_type": "stream",
     "text": [
      "(150025, 8)\n",
      "(50009, 8)\n",
      "(150025,)\n",
      "(50009,)\n"
     ]
    }
   ],
   "source": [
    "print(X_train.shape)\n",
    "print(X_test.shape)\n",
    "print(y_train.shape)\n",
    "print(y_test.shape)"
   ]
  },
  {
   "cell_type": "code",
   "execution_count": 28,
   "id": "eb2404c2",
   "metadata": {
    "ExecuteTime": {
     "end_time": "2022-11-18T05:59:32.918646Z",
     "start_time": "2022-11-18T05:59:32.827956Z"
    }
   },
   "outputs": [
    {
     "name": "stdout",
     "output_type": "stream",
     "text": [
      "0.11329445092484586\n",
      "0.11473934691755484\n"
     ]
    }
   ],
   "source": [
    "#making sure overall target rates are the same\n",
    "print(statistics.mean(y_train.astype(int)))\n",
    "print(statistics.mean(y_test.astype(int)))"
   ]
  },
  {
   "cell_type": "code",
   "execution_count": 29,
   "id": "f9b4c2b9",
   "metadata": {
    "ExecuteTime": {
     "end_time": "2022-11-18T05:59:32.935663Z",
     "start_time": "2022-11-18T05:59:32.930432Z"
    }
   },
   "outputs": [
    {
     "data": {
      "text/plain": [
       "['district', 'domestic', 'primary_type', 'month']"
      ]
     },
     "execution_count": 29,
     "metadata": {},
     "output_type": "execute_result"
    }
   ],
   "source": [
    "#variables to be woe coded\n",
    "cat_vars_new = [var for var in crime_df_new if crime_df_new[var].dtypes == \"O\" or var == \"domestic\"]\n",
    "cat_vars_new"
   ]
  },
  {
   "cell_type": "code",
   "execution_count": 30,
   "id": "956f3a2f",
   "metadata": {
    "ExecuteTime": {
     "end_time": "2022-11-18T05:59:33.330215Z",
     "start_time": "2022-11-18T05:59:32.937931Z"
    }
   },
   "outputs": [],
   "source": [
    "import category_encoders as ce"
   ]
  },
  {
   "cell_type": "code",
   "execution_count": 31,
   "id": "d22c5d8e",
   "metadata": {
    "ExecuteTime": {
     "end_time": "2022-11-18T05:59:34.909167Z",
     "start_time": "2022-11-18T05:59:33.333327Z"
    }
   },
   "outputs": [],
   "source": [
    "#implementing woe coding\n",
    "woe = ce.WOEEncoder(cols = cat_vars_new)\n",
    "woe.fit(X_train, y_train)\n",
    "train_woe = woe.transform(X_train, y_train)\n",
    "test_woe = woe.transform(X_test)"
   ]
  },
  {
   "cell_type": "code",
   "execution_count": 32,
   "id": "dd3e4e5d",
   "metadata": {
    "ExecuteTime": {
     "end_time": "2022-11-18T05:59:34.924899Z",
     "start_time": "2022-11-18T05:59:34.911395Z"
    }
   },
   "outputs": [
    {
     "data": {
      "text/html": [
       "<div>\n",
       "<style scoped>\n",
       "    .dataframe tbody tr th:only-of-type {\n",
       "        vertical-align: middle;\n",
       "    }\n",
       "\n",
       "    .dataframe tbody tr th {\n",
       "        vertical-align: top;\n",
       "    }\n",
       "\n",
       "    .dataframe thead th {\n",
       "        text-align: right;\n",
       "    }\n",
       "</style>\n",
       "<table border=\"1\" class=\"dataframe\">\n",
       "  <thead>\n",
       "    <tr style=\"text-align: right;\">\n",
       "      <th></th>\n",
       "      <th>district</th>\n",
       "      <th>y_coordinate</th>\n",
       "      <th>latitude</th>\n",
       "      <th>x_coordinate</th>\n",
       "      <th>domestic</th>\n",
       "      <th>longitude</th>\n",
       "      <th>primary_type</th>\n",
       "      <th>month</th>\n",
       "    </tr>\n",
       "  </thead>\n",
       "  <tbody>\n",
       "    <tr>\n",
       "      <th>162990</th>\n",
       "      <td>0.154774</td>\n",
       "      <td>1829075.0</td>\n",
       "      <td>41.686268</td>\n",
       "      <td>1179150.0</td>\n",
       "      <td>-0.022535</td>\n",
       "      <td>-87.619792</td>\n",
       "      <td>-1.789562</td>\n",
       "      <td>0.084343</td>\n",
       "    </tr>\n",
       "    <tr>\n",
       "      <th>131887</th>\n",
       "      <td>-0.217632</td>\n",
       "      <td>1856157.0</td>\n",
       "      <td>41.760224</td>\n",
       "      <td>1194376.0</td>\n",
       "      <td>0.096103</td>\n",
       "      <td>-87.563166</td>\n",
       "      <td>0.093868</td>\n",
       "      <td>0.210273</td>\n",
       "    </tr>\n",
       "    <tr>\n",
       "      <th>55105</th>\n",
       "      <td>-0.076680</td>\n",
       "      <td>1847286.0</td>\n",
       "      <td>41.736277</td>\n",
       "      <td>1177549.0</td>\n",
       "      <td>0.096103</td>\n",
       "      <td>-87.625105</td>\n",
       "      <td>0.093868</td>\n",
       "      <td>-0.072244</td>\n",
       "    </tr>\n",
       "    <tr>\n",
       "      <th>24021</th>\n",
       "      <td>0.170013</td>\n",
       "      <td>1910694.0</td>\n",
       "      <td>41.910859</td>\n",
       "      <td>1149796.0</td>\n",
       "      <td>0.096103</td>\n",
       "      <td>-87.725138</td>\n",
       "      <td>-1.220955</td>\n",
       "      <td>-0.249691</td>\n",
       "    </tr>\n",
       "    <tr>\n",
       "      <th>198517</th>\n",
       "      <td>-0.335106</td>\n",
       "      <td>1904143.0</td>\n",
       "      <td>41.892518</td>\n",
       "      <td>1167598.0</td>\n",
       "      <td>-0.022535</td>\n",
       "      <td>-87.659929</td>\n",
       "      <td>0.093868</td>\n",
       "      <td>0.008653</td>\n",
       "    </tr>\n",
       "  </tbody>\n",
       "</table>\n",
       "</div>"
      ],
      "text/plain": [
       "        district  y_coordinate   latitude  x_coordinate  domestic  longitude  \\\n",
       "162990  0.154774     1829075.0  41.686268     1179150.0 -0.022535 -87.619792   \n",
       "131887 -0.217632     1856157.0  41.760224     1194376.0  0.096103 -87.563166   \n",
       "55105  -0.076680     1847286.0  41.736277     1177549.0  0.096103 -87.625105   \n",
       "24021   0.170013     1910694.0  41.910859     1149796.0  0.096103 -87.725138   \n",
       "198517 -0.335106     1904143.0  41.892518     1167598.0 -0.022535 -87.659929   \n",
       "\n",
       "        primary_type     month  \n",
       "162990     -1.789562  0.084343  \n",
       "131887      0.093868  0.210273  \n",
       "55105       0.093868 -0.072244  \n",
       "24021      -1.220955 -0.249691  \n",
       "198517      0.093868  0.008653  "
      ]
     },
     "execution_count": 32,
     "metadata": {},
     "output_type": "execute_result"
    }
   ],
   "source": [
    "train_woe.head()"
   ]
  },
  {
   "cell_type": "code",
   "execution_count": 33,
   "id": "85a477f1",
   "metadata": {
    "ExecuteTime": {
     "end_time": "2022-11-18T05:59:34.941272Z",
     "start_time": "2022-11-18T05:59:34.927648Z"
    }
   },
   "outputs": [
    {
     "data": {
      "text/html": [
       "<div>\n",
       "<style scoped>\n",
       "    .dataframe tbody tr th:only-of-type {\n",
       "        vertical-align: middle;\n",
       "    }\n",
       "\n",
       "    .dataframe tbody tr th {\n",
       "        vertical-align: top;\n",
       "    }\n",
       "\n",
       "    .dataframe thead th {\n",
       "        text-align: right;\n",
       "    }\n",
       "</style>\n",
       "<table border=\"1\" class=\"dataframe\">\n",
       "  <thead>\n",
       "    <tr style=\"text-align: right;\">\n",
       "      <th></th>\n",
       "      <th>district</th>\n",
       "      <th>y_coordinate</th>\n",
       "      <th>latitude</th>\n",
       "      <th>x_coordinate</th>\n",
       "      <th>domestic</th>\n",
       "      <th>longitude</th>\n",
       "      <th>primary_type</th>\n",
       "      <th>month</th>\n",
       "    </tr>\n",
       "  </thead>\n",
       "  <tbody>\n",
       "    <tr>\n",
       "      <th>90844</th>\n",
       "      <td>-0.469991</td>\n",
       "      <td>1929637.0</td>\n",
       "      <td>41.962399</td>\n",
       "      <td>1171098.0</td>\n",
       "      <td>-0.022535</td>\n",
       "      <td>-87.646325</td>\n",
       "      <td>-1.220955</td>\n",
       "      <td>-0.097975</td>\n",
       "    </tr>\n",
       "    <tr>\n",
       "      <th>84916</th>\n",
       "      <td>-0.066335</td>\n",
       "      <td>1908052.0</td>\n",
       "      <td>41.903304</td>\n",
       "      <td>1164808.0</td>\n",
       "      <td>-0.022535</td>\n",
       "      <td>-87.670065</td>\n",
       "      <td>-1.220955</td>\n",
       "      <td>-0.097975</td>\n",
       "    </tr>\n",
       "    <tr>\n",
       "      <th>185743</th>\n",
       "      <td>-0.054260</td>\n",
       "      <td>1877145.0</td>\n",
       "      <td>41.818571</td>\n",
       "      <td>1161057.0</td>\n",
       "      <td>-0.022535</td>\n",
       "      <td>-87.684701</td>\n",
       "      <td>0.093868</td>\n",
       "      <td>0.229167</td>\n",
       "    </tr>\n",
       "    <tr>\n",
       "      <th>194136</th>\n",
       "      <td>-0.227643</td>\n",
       "      <td>1849614.0</td>\n",
       "      <td>41.742197</td>\n",
       "      <td>1197283.0</td>\n",
       "      <td>-0.022535</td>\n",
       "      <td>-87.552730</td>\n",
       "      <td>2.506528</td>\n",
       "      <td>0.008653</td>\n",
       "    </tr>\n",
       "    <tr>\n",
       "      <th>89473</th>\n",
       "      <td>-0.076680</td>\n",
       "      <td>1851809.0</td>\n",
       "      <td>41.748667</td>\n",
       "      <td>1178545.0</td>\n",
       "      <td>-0.022535</td>\n",
       "      <td>-87.621318</td>\n",
       "      <td>-1.220955</td>\n",
       "      <td>-0.097975</td>\n",
       "    </tr>\n",
       "  </tbody>\n",
       "</table>\n",
       "</div>"
      ],
      "text/plain": [
       "        district  y_coordinate   latitude  x_coordinate  domestic  longitude  \\\n",
       "90844  -0.469991     1929637.0  41.962399     1171098.0 -0.022535 -87.646325   \n",
       "84916  -0.066335     1908052.0  41.903304     1164808.0 -0.022535 -87.670065   \n",
       "185743 -0.054260     1877145.0  41.818571     1161057.0 -0.022535 -87.684701   \n",
       "194136 -0.227643     1849614.0  41.742197     1197283.0 -0.022535 -87.552730   \n",
       "89473  -0.076680     1851809.0  41.748667     1178545.0 -0.022535 -87.621318   \n",
       "\n",
       "        primary_type     month  \n",
       "90844      -1.220955 -0.097975  \n",
       "84916      -1.220955 -0.097975  \n",
       "185743      0.093868  0.229167  \n",
       "194136      2.506528  0.008653  \n",
       "89473      -1.220955 -0.097975  "
      ]
     },
     "execution_count": 33,
     "metadata": {},
     "output_type": "execute_result"
    }
   ],
   "source": [
    "test_woe.head()"
   ]
  },
  {
   "cell_type": "markdown",
   "id": "8b48335a",
   "metadata": {},
   "source": [
    "# Univariate Screening\n",
    "#### Generating univariate models to see which are predictive on their own"
   ]
  },
  {
   "cell_type": "code",
   "execution_count": 34,
   "id": "d95d551d",
   "metadata": {
    "ExecuteTime": {
     "end_time": "2022-11-18T05:59:35.301801Z",
     "start_time": "2022-11-18T05:59:34.943474Z"
    }
   },
   "outputs": [],
   "source": [
    "variables = train_woe.columns\n",
    "import statsmodels.api as sm\n",
    "from sklearn import metrics"
   ]
  },
  {
   "cell_type": "code",
   "execution_count": 35,
   "id": "b22af383",
   "metadata": {
    "ExecuteTime": {
     "end_time": "2022-11-18T05:59:36.689860Z",
     "start_time": "2022-11-18T05:59:35.304054Z"
    }
   },
   "outputs": [],
   "source": [
    "#getting AUC for each individual variable\n",
    "AUC = []\n",
    "count = 0\n",
    "for i in variables:\n",
    "    mod = sm.GLM(y_train, train_woe[i], family=sm.families.Binomial()).fit()\n",
    "    pred = mod.predict(test_woe[i])\n",
    "    fpr, tpr, thresholds = metrics.roc_curve(y_test, pred)\n",
    "    AUC.append(metrics.auc(fpr, tpr))"
   ]
  },
  {
   "cell_type": "code",
   "execution_count": 36,
   "id": "9752a362",
   "metadata": {
    "ExecuteTime": {
     "end_time": "2022-11-18T05:59:36.703607Z",
     "start_time": "2022-11-18T05:59:36.693218Z"
    }
   },
   "outputs": [
    {
     "data": {
      "text/html": [
       "<div>\n",
       "<style scoped>\n",
       "    .dataframe tbody tr th:only-of-type {\n",
       "        vertical-align: middle;\n",
       "    }\n",
       "\n",
       "    .dataframe tbody tr th {\n",
       "        vertical-align: top;\n",
       "    }\n",
       "\n",
       "    .dataframe thead th {\n",
       "        text-align: right;\n",
       "    }\n",
       "</style>\n",
       "<table border=\"1\" class=\"dataframe\">\n",
       "  <thead>\n",
       "    <tr style=\"text-align: right;\">\n",
       "      <th></th>\n",
       "      <th>Predictor</th>\n",
       "      <th>AUC</th>\n",
       "    </tr>\n",
       "  </thead>\n",
       "  <tbody>\n",
       "    <tr>\n",
       "      <th>0</th>\n",
       "      <td>district</td>\n",
       "      <td>0.585758</td>\n",
       "    </tr>\n",
       "    <tr>\n",
       "      <th>1</th>\n",
       "      <td>y_coordinate</td>\n",
       "      <td>0.491982</td>\n",
       "    </tr>\n",
       "    <tr>\n",
       "      <th>2</th>\n",
       "      <td>latitude</td>\n",
       "      <td>0.491827</td>\n",
       "    </tr>\n",
       "    <tr>\n",
       "      <th>3</th>\n",
       "      <td>x_coordinate</td>\n",
       "      <td>0.544455</td>\n",
       "    </tr>\n",
       "    <tr>\n",
       "      <th>4</th>\n",
       "      <td>domestic</td>\n",
       "      <td>0.511064</td>\n",
       "    </tr>\n",
       "    <tr>\n",
       "      <th>5</th>\n",
       "      <td>longitude</td>\n",
       "      <td>0.455326</td>\n",
       "    </tr>\n",
       "    <tr>\n",
       "      <th>6</th>\n",
       "      <td>primary_type</td>\n",
       "      <td>0.817236</td>\n",
       "    </tr>\n",
       "    <tr>\n",
       "      <th>7</th>\n",
       "      <td>month</td>\n",
       "      <td>0.550729</td>\n",
       "    </tr>\n",
       "  </tbody>\n",
       "</table>\n",
       "</div>"
      ],
      "text/plain": [
       "      Predictor       AUC\n",
       "0      district  0.585758\n",
       "1  y_coordinate  0.491982\n",
       "2      latitude  0.491827\n",
       "3  x_coordinate  0.544455\n",
       "4      domestic  0.511064\n",
       "5     longitude  0.455326\n",
       "6  primary_type  0.817236\n",
       "7         month  0.550729"
      ]
     },
     "execution_count": 36,
     "metadata": {},
     "output_type": "execute_result"
    }
   ],
   "source": [
    "#displaying AUCs alongside their predictor\n",
    "pd.DataFrame({\"Predictor\": train_woe.columns, \"AUC\": AUC})"
   ]
  },
  {
   "cell_type": "markdown",
   "id": "a254c74d",
   "metadata": {},
   "source": [
    "#### All predictors above .5 (random guessing) will be kept in for consideration"
   ]
  },
  {
   "cell_type": "code",
   "execution_count": 37,
   "id": "1acab96d",
   "metadata": {
    "ExecuteTime": {
     "end_time": "2022-11-18T05:59:36.747097Z",
     "start_time": "2022-11-18T05:59:36.706831Z"
    }
   },
   "outputs": [],
   "source": [
    "train_woe = train_woe.drop([\"longitude\"], axis = 1)\n",
    "test_woe = test_woe.drop([\"longitude\"], axis = 1)\n",
    "# what about y_coordinate and latitude?\n",
    "train_woe = train_woe.drop([\"y_coordinate\"], axis = 1)\n",
    "test_woe = test_woe.drop([\"y_coordinate\"], axis = 1)\n",
    "train_woe = train_woe.drop([\"latitude\"], axis = 1)\n",
    "test_woe = test_woe.drop([\"latitude\"], axis = 1)"
   ]
  },
  {
   "cell_type": "code",
   "execution_count": 54,
   "id": "37d9a3af",
   "metadata": {
    "ExecuteTime": {
     "end_time": "2022-11-18T06:11:57.365214Z",
     "start_time": "2022-11-18T06:11:57.210762Z"
    }
   },
   "outputs": [
    {
     "name": "stdout",
     "output_type": "stream",
     "text": [
      "Accuracy of logistic regression classifier on test set: 0.89\n"
     ]
    }
   ],
   "source": [
    "from sklearn.linear_model import LogisticRegression\n",
    "logreg = LogisticRegression()\n",
    "logreg.fit(train_woe, y_train)\n",
    "y_pred = logreg.predict(test_woe)\n",
    "print('Accuracy of logistic regression classifier on test set: {:.2f}'.format(logreg.score(test_woe, y_test)))\n"
   ]
  },
  {
   "cell_type": "code",
   "execution_count": 55,
   "id": "4b7edf57",
   "metadata": {
    "ExecuteTime": {
     "end_time": "2022-11-18T06:12:00.714779Z",
     "start_time": "2022-11-18T06:12:00.697534Z"
    }
   },
   "outputs": [
    {
     "name": "stdout",
     "output_type": "stream",
     "text": [
      "[[44271     0]\n",
      " [ 5738     0]]\n"
     ]
    }
   ],
   "source": [
    "from sklearn.metrics import confusion_matrix\n",
    "confusion_matrix = confusion_matrix(y_test, y_pred)\n",
    "print(confusion_matrix)"
   ]
  },
  {
   "cell_type": "code",
   "execution_count": 63,
   "id": "90d9c6f9",
   "metadata": {
    "ExecuteTime": {
     "end_time": "2022-11-18T06:19:07.617664Z",
     "start_time": "2022-11-18T06:19:07.612750Z"
    }
   },
   "outputs": [
    {
     "name": "stdout",
     "output_type": "stream",
     "text": [
      "[0.88526065        nan]\n",
      "[1. 0.]\n"
     ]
    },
    {
     "name": "stderr",
     "output_type": "stream",
     "text": [
      "/var/folders/lr/7699q93j6dl98rr5ftmz6p7r0000gn/T/ipykernel_20112/3082475497.py:5: RuntimeWarning: invalid value encountered in divide\n",
      "  precision = tp / tp_and_fp\n"
     ]
    }
   ],
   "source": [
    "tp_and_fn = confusion_matrix.sum(1)\n",
    "tp_and_fp = confusion_matrix.sum(0)\n",
    "tp = confusion_matrix.diagonal()\n",
    "\n",
    "precision = tp / tp_and_fp\n",
    "recall = tp / tp_and_fn\n",
    "\n",
    "print(precision)\n",
    "print(recall)"
   ]
  },
  {
   "cell_type": "code",
   "execution_count": 52,
   "id": "0140abc9",
   "metadata": {
    "ExecuteTime": {
     "end_time": "2022-11-18T06:10:25.356926Z",
     "start_time": "2022-11-18T06:10:25.254232Z"
    }
   },
   "outputs": [
    {
     "name": "stdout",
     "output_type": "stream",
     "text": [
      "              precision    recall  f1-score   support\n",
      "\n",
      "           0       0.89      1.00      0.94     44271\n",
      "           1       0.00      0.00      0.00      5738\n",
      "\n",
      "    accuracy                           0.89     50009\n",
      "   macro avg       0.44      0.50      0.47     50009\n",
      "weighted avg       0.78      0.89      0.83     50009\n",
      "\n"
     ]
    },
    {
     "name": "stderr",
     "output_type": "stream",
     "text": [
      "/opt/anaconda3/envs/ds/lib/python3.10/site-packages/sklearn/metrics/_classification.py:1334: UndefinedMetricWarning: Precision and F-score are ill-defined and being set to 0.0 in labels with no predicted samples. Use `zero_division` parameter to control this behavior.\n",
      "  _warn_prf(average, modifier, msg_start, len(result))\n",
      "/opt/anaconda3/envs/ds/lib/python3.10/site-packages/sklearn/metrics/_classification.py:1334: UndefinedMetricWarning: Precision and F-score are ill-defined and being set to 0.0 in labels with no predicted samples. Use `zero_division` parameter to control this behavior.\n",
      "  _warn_prf(average, modifier, msg_start, len(result))\n",
      "/opt/anaconda3/envs/ds/lib/python3.10/site-packages/sklearn/metrics/_classification.py:1334: UndefinedMetricWarning: Precision and F-score are ill-defined and being set to 0.0 in labels with no predicted samples. Use `zero_division` parameter to control this behavior.\n",
      "  _warn_prf(average, modifier, msg_start, len(result))\n"
     ]
    }
   ],
   "source": [
    "from sklearn.metrics import classification_report\n",
    "print(classification_report(y_test, y_pred))"
   ]
  },
  {
   "cell_type": "code",
   "execution_count": 57,
   "id": "0d163ea9",
   "metadata": {
    "ExecuteTime": {
     "end_time": "2022-11-18T06:13:21.269458Z",
     "start_time": "2022-11-18T06:13:19.763498Z"
    }
   },
   "outputs": [
    {
     "data": {
      "image/png": "[encoded data removed]",
      "text/plain": [
       "<Figure size 640x480 with 1 Axes>"
      ]
     },
     "metadata": {},
     "output_type": "display_data"
    }
   ],
   "source": [
    "import matplotlib.pyplot as plt \n",
    "from sklearn.metrics import roc_auc_score\n",
    "from sklearn.metrics import roc_curve\n",
    "logit_roc_auc = roc_auc_score(y_test, logreg.predict(test_woe))\n",
    "fpr, tpr, thresholds = roc_curve(y_test, logreg.predict_proba(test_woe)[:,1])\n",
    "plt.figure()\n",
    "plt.plot(fpr, tpr, label='Logistic Regression (area = %0.2f)' % logit_roc_auc)\n",
    "plt.plot([0, 1], [0, 1],'r--')\n",
    "plt.xlim([0.0, 1.0])\n",
    "plt.ylim([0.0, 1.05])\n",
    "plt.xlabel('False Positive Rate')\n",
    "plt.ylabel('True Positive Rate')\n",
    "plt.title('Receiver operating characteristic')\n",
    "plt.legend(loc=\"lower right\")\n",
    "plt.savefig('Log_ROC')\n",
    "plt.show()"
   ]
  },
  {
   "cell_type": "markdown",
   "id": "c58da73b",
   "metadata": {},
   "source": [
    "Our ROC curve is very close to the ROC curve of a purely random classifier. Our curve is very bad."
   ]
  },
  {
   "cell_type": "markdown",
   "id": "395d8281",
   "metadata": {},
   "source": [
    "# Time Series (TO BE DONE)"
   ]
  },
  {
   "cell_type": "code",
   "execution_count": 38,
   "id": "1ffc6cc7",
   "metadata": {
    "ExecuteTime": {
     "end_time": "2022-11-18T05:59:37.205208Z",
     "start_time": "2022-11-18T05:59:36.751516Z"
    }
   },
   "outputs": [],
   "source": [
    "#creating data frames\n",
    "crime_agg = crime_df.groupby(by=month).size()\n",
    "crime_sum = crime_df.groupby(by=month).sum()"
   ]
  },
  {
   "cell_type": "code",
   "execution_count": 39,
   "id": "7a193f28",
   "metadata": {
    "ExecuteTime": {
     "end_time": "2022-11-18T05:59:37.216207Z",
     "start_time": "2022-11-18T05:59:37.207733Z"
    }
   },
   "outputs": [
    {
     "data": {
      "text/plain": [
       "2022-01    15449\n",
       "2022-02    15123\n",
       "2022-03    18201\n",
       "2022-04    17804\n",
       "2022-05    19956\n",
       "2022-06    20496\n",
       "2022-07    21993\n",
       "2022-08    21944\n",
       "2022-09    21885\n",
       "2022-10    22417\n",
       "2022-11     6164\n",
       "dtype: int64"
      ]
     },
     "execution_count": 39,
     "metadata": {},
     "output_type": "execute_result"
    }
   ],
   "source": [
    "#number of crimes per month\n",
    "crime_agg"
   ]
  }
 ],
 "metadata": {
  "kernelspec": {
   "display_name": "Python 3 (ipykernel)",
   "language": "python",
   "name": "python3"
  },
  "language_info": {
   "codemirror_mode": {
    "name": "ipython",
    "version": 3
   },
   "file_extension": ".py",
   "mimetype": "text/x-python",
   "name": "python",
   "nbconvert_exporter": "python",
   "pygments_lexer": "ipython3",
   "version": "3.10.6"
  },
  "toc": {
   "base_numbering": 1,
   "nav_menu": {},
   "number_sections": true,
   "sideBar": true,
   "skip_h1_title": false,
   "title_cell": "Table of Contents",
   "title_sidebar": "Contents",
   "toc_cell": false,
   "toc_position": {},
   "toc_section_display": true,
   "toc_window_display": false
  },
  "varInspector": {
   "cols": {
    "lenName": 16,
    "lenType": 16,
    "lenVar": 40
   },
   "kernels_config": {
    "python": {
     "delete_cmd_postfix": "",
     "delete_cmd_prefix": "del ",
     "library": "var_list.py",
     "varRefreshCmd": "print(var_dic_list())"
    },
    "r": {
     "delete_cmd_postfix": ") ",
     "delete_cmd_prefix": "rm(",
     "library": "var_list.r",
     "varRefreshCmd": "cat(var_dic_list()) "
    }
   },
   "types_to_exclude": [
    "module",
    "function",
    "builtin_function_or_method",
    "instance",
    "_Feature"
   ],
   "window_display": false
  }
 },
 "nbformat": 4,
 "nbformat_minor": 5
}
