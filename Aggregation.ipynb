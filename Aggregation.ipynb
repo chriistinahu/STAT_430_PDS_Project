{
 "cells": [
  {
   "cell_type": "code",
   "execution_count": 3,
   "id": "5000a2a5",
   "metadata": {
    "ExecuteTime": {
     "end_time": "2022-11-18T20:05:08.277188Z",
     "start_time": "2022-11-18T20:05:03.037478Z"
    }
   },
   "outputs": [
    {
     "name": "stdout",
     "output_type": "stream",
     "text": [
      "Requirement already satisfied: pandas in /opt/anaconda3/envs/ds/lib/python3.10/site-packages (1.4.4)\n",
      "Requirement already satisfied: python-dateutil>=2.8.1 in /opt/anaconda3/envs/ds/lib/python3.10/site-packages (from pandas) (2.8.2)\n",
      "Requirement already satisfied: pytz>=2020.1 in /opt/anaconda3/envs/ds/lib/python3.10/site-packages (from pandas) (2022.2.1)\n",
      "Requirement already satisfied: numpy>=1.21.0 in /opt/anaconda3/envs/ds/lib/python3.10/site-packages (from pandas) (1.23.2)\n",
      "Requirement already satisfied: six>=1.5 in /opt/anaconda3/envs/ds/lib/python3.10/site-packages (from python-dateutil>=2.8.1->pandas) (1.16.0)\n",
      "Requirement already satisfied: sodapy in /opt/anaconda3/envs/ds/lib/python3.10/site-packages (2.2.0)\n",
      "Requirement already satisfied: requests>=2.28.1 in /opt/anaconda3/envs/ds/lib/python3.10/site-packages (from sodapy) (2.28.1)\n",
      "Requirement already satisfied: urllib3<1.27,>=1.21.1 in /opt/anaconda3/envs/ds/lib/python3.10/site-packages (from requests>=2.28.1->sodapy) (1.26.11)\n",
      "Requirement already satisfied: idna<4,>=2.5 in /opt/anaconda3/envs/ds/lib/python3.10/site-packages (from requests>=2.28.1->sodapy) (3.3)\n",
      "Requirement already satisfied: charset-normalizer<3,>=2 in /opt/anaconda3/envs/ds/lib/python3.10/site-packages (from requests>=2.28.1->sodapy) (2.1.1)\n",
      "Requirement already satisfied: certifi>=2017.4.17 in /opt/anaconda3/envs/ds/lib/python3.10/site-packages (from requests>=2.28.1->sodapy) (2022.6.15)\n"
     ]
    }
   ],
   "source": [
    "# API key ID: otlwwfxero72fkms03hi49x2\n",
    "# API key secret: 5qbnpzqphl1y8bz6eggxraxlzlnbnhso49bro4925r1rpxj6sn\n",
    "# app token: 8y23ArYxg4pcvOMgWzMFSC0nB\n",
    "# secret app token: pZgwEL4lKm2r1s868Saz3EJ1ebpTKy-FzglU\n",
    "\n",
    "# crime data docs: https://dev.socrata.com/foundry/data.cityofchicago.org/9hwr-2zxp\n",
    "\n",
    "# make sure to install these packages before running:\n",
    "!pip install pandas\n",
    "!pip install sodapy"
   ]
  },
  {
   "cell_type": "code",
   "execution_count": 4,
   "id": "e46913bb",
   "metadata": {
    "ExecuteTime": {
     "end_time": "2022-11-18T20:05:11.800001Z",
     "start_time": "2022-11-18T20:05:11.276342Z"
    }
   },
   "outputs": [],
   "source": [
    "import pandas as pd\n",
    "import sodapy\n",
    "from sodapy import Socrata"
   ]
  },
  {
   "cell_type": "code",
   "execution_count": 5,
   "id": "ed501141",
   "metadata": {
    "ExecuteTime": {
     "end_time": "2022-11-18T20:05:15.585240Z",
     "start_time": "2022-11-18T20:05:12.745975Z"
    }
   },
   "outputs": [
    {
     "name": "stdout",
     "output_type": "stream",
     "text": [
      "(2000, 22)\n"
     ]
    }
   ],
   "source": [
    "# crime_url = \"https://data.cityofchicago.org/resource/9hwr-2zxp.json\"\n",
    "\n",
    "\n",
    "app_token = \"8y23ArYxg4pcvOMgWzMFSC0nB\"\n",
    "\n",
    "# Example authenticated client (needed for non-public datasets):\n",
    "client = Socrata(\"data.cityofchicago.org\",\n",
    "                 app_token, \n",
    "                 username=\"ch35@illinois.edu\",\n",
    "                 password=\"68M8rz3vF!StBjD\")\n",
    "\n",
    "\n",
    "# First 2000 results, returned as JSON from API / converted to Python list of\n",
    "# dictionaries by sodapy.\n",
    "results = client.get(\"9hwr-2zxp\", limit = 2000)\n",
    "\n",
    "# Convert to pandas DataFrame\n",
    "crime_df = pd.DataFrame.from_records(results)\n",
    "\n",
    "print(crime_df.shape)"
   ]
  },
  {
   "cell_type": "code",
   "execution_count": 6,
   "id": "594935a1",
   "metadata": {
    "ExecuteTime": {
     "end_time": "2022-11-18T20:05:17.376935Z",
     "start_time": "2022-11-18T20:05:17.348149Z"
    }
   },
   "outputs": [
    {
     "data": {
      "text/html": [
       "<div>\n",
       "<style scoped>\n",
       "    .dataframe tbody tr th:only-of-type {\n",
       "        vertical-align: middle;\n",
       "    }\n",
       "\n",
       "    .dataframe tbody tr th {\n",
       "        vertical-align: top;\n",
       "    }\n",
       "\n",
       "    .dataframe thead th {\n",
       "        text-align: right;\n",
       "    }\n",
       "</style>\n",
       "<table border=\"1\" class=\"dataframe\">\n",
       "  <thead>\n",
       "    <tr style=\"text-align: right;\">\n",
       "      <th></th>\n",
       "      <th>date</th>\n",
       "      <th>location</th>\n",
       "      <th>district</th>\n",
       "      <th>block</th>\n",
       "      <th>y_coordinate</th>\n",
       "      <th>latitude</th>\n",
       "      <th>description</th>\n",
       "      <th>location_description</th>\n",
       "      <th>updated_on</th>\n",
       "      <th>community_area</th>\n",
       "      <th>...</th>\n",
       "      <th>ward</th>\n",
       "      <th>case_number</th>\n",
       "      <th>year</th>\n",
       "      <th>domestic</th>\n",
       "      <th>fbi_code</th>\n",
       "      <th>longitude</th>\n",
       "      <th>beat</th>\n",
       "      <th>primary_type</th>\n",
       "      <th>arrest</th>\n",
       "      <th>id</th>\n",
       "    </tr>\n",
       "  </thead>\n",
       "  <tbody>\n",
       "    <tr>\n",
       "      <th>0</th>\n",
       "      <td>2022-11-10T23:52:00.000</td>\n",
       "      <td>{'latitude': '41.684789786', 'human_address': ...</td>\n",
       "      <td>022</td>\n",
       "      <td>016XX W 115TH ST</td>\n",
       "      <td>1828441</td>\n",
       "      <td>41.684789786</td>\n",
       "      <td>TO PROPERTY</td>\n",
       "      <td>BAR OR TAVERN</td>\n",
       "      <td>2022-11-17T15:49:42.000</td>\n",
       "      <td>75</td>\n",
       "      <td>...</td>\n",
       "      <td>34</td>\n",
       "      <td>JF470191</td>\n",
       "      <td>2022</td>\n",
       "      <td>False</td>\n",
       "      <td>14</td>\n",
       "      <td>-87.6633151</td>\n",
       "      <td>2234</td>\n",
       "      <td>CRIMINAL DAMAGE</td>\n",
       "      <td>False</td>\n",
       "      <td>12889112</td>\n",
       "    </tr>\n",
       "    <tr>\n",
       "      <th>1</th>\n",
       "      <td>2022-11-10T23:51:00.000</td>\n",
       "      <td>{'latitude': '41.927622911', 'human_address': ...</td>\n",
       "      <td>019</td>\n",
       "      <td>017XX W ALTGELD ST</td>\n",
       "      <td>1916912</td>\n",
       "      <td>41.927622911</td>\n",
       "      <td>POSSESS - CANNABIS MORE THAN 30 GRAMS</td>\n",
       "      <td>STREET</td>\n",
       "      <td>2022-11-17T15:49:42.000</td>\n",
       "      <td>7</td>\n",
       "      <td>...</td>\n",
       "      <td>32</td>\n",
       "      <td>JF470214</td>\n",
       "      <td>2022</td>\n",
       "      <td>False</td>\n",
       "      <td>18</td>\n",
       "      <td>-87.670885873</td>\n",
       "      <td>1931</td>\n",
       "      <td>NARCOTICS</td>\n",
       "      <td>True</td>\n",
       "      <td>12889088</td>\n",
       "    </tr>\n",
       "    <tr>\n",
       "      <th>2</th>\n",
       "      <td>2022-11-10T23:45:00.000</td>\n",
       "      <td>{'latitude': '41.903378801', 'human_address': ...</td>\n",
       "      <td>014</td>\n",
       "      <td>012XX N HOYNE AVE</td>\n",
       "      <td>1908059</td>\n",
       "      <td>41.903378801</td>\n",
       "      <td>AGGRAVATED - OTHER DANGEROUS WEAPON</td>\n",
       "      <td>STREET</td>\n",
       "      <td>2022-11-17T15:49:42.000</td>\n",
       "      <td>24</td>\n",
       "      <td>...</td>\n",
       "      <td>1</td>\n",
       "      <td>JF470208</td>\n",
       "      <td>2022</td>\n",
       "      <td>False</td>\n",
       "      <td>04B</td>\n",
       "      <td>-87.679706644</td>\n",
       "      <td>1424</td>\n",
       "      <td>BATTERY</td>\n",
       "      <td>False</td>\n",
       "      <td>12889085</td>\n",
       "    </tr>\n",
       "    <tr>\n",
       "      <th>3</th>\n",
       "      <td>2022-11-10T23:45:00.000</td>\n",
       "      <td>{'latitude': '41.751822096', 'human_address': ...</td>\n",
       "      <td>006</td>\n",
       "      <td>078XX S PEORIA ST</td>\n",
       "      <td>1852903</td>\n",
       "      <td>41.751822096</td>\n",
       "      <td>TO VEHICLE</td>\n",
       "      <td>ALLEY</td>\n",
       "      <td>2022-11-17T15:49:42.000</td>\n",
       "      <td>71</td>\n",
       "      <td>...</td>\n",
       "      <td>17</td>\n",
       "      <td>JF470206</td>\n",
       "      <td>2022</td>\n",
       "      <td>False</td>\n",
       "      <td>14</td>\n",
       "      <td>-87.646500811</td>\n",
       "      <td>0621</td>\n",
       "      <td>CRIMINAL DAMAGE</td>\n",
       "      <td>False</td>\n",
       "      <td>12889140</td>\n",
       "    </tr>\n",
       "    <tr>\n",
       "      <th>4</th>\n",
       "      <td>2022-11-10T23:45:00.000</td>\n",
       "      <td>{'latitude': '41.859767799', 'human_address': ...</td>\n",
       "      <td>010</td>\n",
       "      <td>015XX S HAMLIN AVE</td>\n",
       "      <td>1892086</td>\n",
       "      <td>41.859767799</td>\n",
       "      <td>AGG. DOMESTIC BATTERY - HANDS, FISTS, FEET, SE...</td>\n",
       "      <td>APARTMENT</td>\n",
       "      <td>2022-11-17T15:49:42.000</td>\n",
       "      <td>29</td>\n",
       "      <td>...</td>\n",
       "      <td>24</td>\n",
       "      <td>JF470478</td>\n",
       "      <td>2022</td>\n",
       "      <td>True</td>\n",
       "      <td>04B</td>\n",
       "      <td>-87.720109024</td>\n",
       "      <td>1014</td>\n",
       "      <td>BATTERY</td>\n",
       "      <td>False</td>\n",
       "      <td>12890167</td>\n",
       "    </tr>\n",
       "  </tbody>\n",
       "</table>\n",
       "<p>5 rows × 22 columns</p>\n",
       "</div>"
      ],
      "text/plain": [
       "                      date                                           location  \\\n",
       "0  2022-11-10T23:52:00.000  {'latitude': '41.684789786', 'human_address': ...   \n",
       "1  2022-11-10T23:51:00.000  {'latitude': '41.927622911', 'human_address': ...   \n",
       "2  2022-11-10T23:45:00.000  {'latitude': '41.903378801', 'human_address': ...   \n",
       "3  2022-11-10T23:45:00.000  {'latitude': '41.751822096', 'human_address': ...   \n",
       "4  2022-11-10T23:45:00.000  {'latitude': '41.859767799', 'human_address': ...   \n",
       "\n",
       "  district               block y_coordinate      latitude  \\\n",
       "0      022    016XX W 115TH ST      1828441  41.684789786   \n",
       "1      019  017XX W ALTGELD ST      1916912  41.927622911   \n",
       "2      014   012XX N HOYNE AVE      1908059  41.903378801   \n",
       "3      006   078XX S PEORIA ST      1852903  41.751822096   \n",
       "4      010  015XX S HAMLIN AVE      1892086  41.859767799   \n",
       "\n",
       "                                         description location_description  \\\n",
       "0                                        TO PROPERTY        BAR OR TAVERN   \n",
       "1              POSSESS - CANNABIS MORE THAN 30 GRAMS               STREET   \n",
       "2                AGGRAVATED - OTHER DANGEROUS WEAPON               STREET   \n",
       "3                                         TO VEHICLE                ALLEY   \n",
       "4  AGG. DOMESTIC BATTERY - HANDS, FISTS, FEET, SE...            APARTMENT   \n",
       "\n",
       "                updated_on community_area  ... ward case_number  year  \\\n",
       "0  2022-11-17T15:49:42.000             75  ...   34    JF470191  2022   \n",
       "1  2022-11-17T15:49:42.000              7  ...   32    JF470214  2022   \n",
       "2  2022-11-17T15:49:42.000             24  ...    1    JF470208  2022   \n",
       "3  2022-11-17T15:49:42.000             71  ...   17    JF470206  2022   \n",
       "4  2022-11-17T15:49:42.000             29  ...   24    JF470478  2022   \n",
       "\n",
       "  domestic fbi_code      longitude  beat     primary_type arrest        id  \n",
       "0    False       14    -87.6633151  2234  CRIMINAL DAMAGE  False  12889112  \n",
       "1    False       18  -87.670885873  1931        NARCOTICS   True  12889088  \n",
       "2    False      04B  -87.679706644  1424          BATTERY  False  12889085  \n",
       "3    False       14  -87.646500811  0621  CRIMINAL DAMAGE  False  12889140  \n",
       "4     True      04B  -87.720109024  1014          BATTERY  False  12890167  \n",
       "\n",
       "[5 rows x 22 columns]"
      ]
     },
     "execution_count": 6,
     "metadata": {},
     "output_type": "execute_result"
    }
   ],
   "source": [
    "crime_df.head()"
   ]
  },
  {
   "cell_type": "code",
   "execution_count": 7,
   "id": "3767d6c0",
   "metadata": {
    "ExecuteTime": {
     "end_time": "2022-11-18T20:05:20.389147Z",
     "start_time": "2022-11-18T20:05:20.385646Z"
    }
   },
   "outputs": [],
   "source": [
    "month = [i[0:7] for i in crime_df.date]"
   ]
  },
  {
   "cell_type": "code",
   "execution_count": 6,
   "id": "af0517b2",
   "metadata": {
    "ExecuteTime": {
     "end_time": "2022-11-18T05:59:10.319082Z",
     "start_time": "2022-11-18T05:59:10.315463Z"
    }
   },
   "outputs": [],
   "source": [
    "crime_df[\"month\"] = month"
   ]
  },
  {
   "cell_type": "code",
   "execution_count": 7,
   "id": "1ffc6cc7",
   "metadata": {
    "ExecuteTime": {
     "end_time": "2022-11-18T05:59:10.695318Z",
     "start_time": "2022-11-18T05:59:10.685901Z"
    }
   },
   "outputs": [],
   "source": [
    "crime_agg = crime_df.groupby(by=month).size()\n",
    "crime_sum = crime_df.groupby(by=month).sum()"
   ]
  },
  {
   "cell_type": "code",
   "execution_count": null,
   "id": "7a193f28",
   "metadata": {
    "ExecuteTime": {
     "start_time": "2022-11-18T05:54:21.374Z"
    }
   },
   "outputs": [],
   "source": [
    "crime_agg"
   ]
  },
  {
   "cell_type": "code",
   "execution_count": null,
   "id": "1acd7048",
   "metadata": {
    "ExecuteTime": {
     "start_time": "2022-11-18T05:54:21.702Z"
    }
   },
   "outputs": [],
   "source": [
    "crime_sum"
   ]
  },
  {
   "cell_type": "code",
   "execution_count": 8,
   "id": "46102db4",
   "metadata": {
    "ExecuteTime": {
     "end_time": "2022-11-18T05:59:18.605689Z",
     "start_time": "2022-11-18T05:59:18.601334Z"
    }
   },
   "outputs": [
    {
     "data": {
      "text/plain": [
       "Index(['date', 'location', 'district', 'block', 'y_coordinate', 'latitude',\n",
       "       'description', 'location_description', 'updated_on', 'community_area',\n",
       "       'iucr', 'x_coordinate', 'ward', 'case_number', 'year', 'domestic',\n",
       "       'fbi_code', 'longitude', 'beat', 'primary_type', 'arrest', 'id',\n",
       "       'month'],\n",
       "      dtype='object')"
      ]
     },
     "execution_count": 8,
     "metadata": {},
     "output_type": "execute_result"
    }
   ],
   "source": [
    "# temp\n",
    "crime_df.columns"
   ]
  },
  {
   "cell_type": "code",
   "execution_count": 10,
   "id": "a21ad6ab",
   "metadata": {
    "ExecuteTime": {
     "end_time": "2022-11-18T05:59:37.160441Z",
     "start_time": "2022-11-18T05:59:37.112999Z"
    }
   },
   "outputs": [
    {
     "name": "stdout",
     "output_type": "stream",
     "text": [
      "<class 'pandas.core.frame.DataFrame'>\n",
      "RangeIndex: 2000 entries, 0 to 1999\n",
      "Data columns (total 23 columns):\n",
      " #   Column                Non-Null Count  Dtype \n",
      "---  ------                --------------  ----- \n",
      " 0   date                  2000 non-null   object\n",
      " 1   location              1962 non-null   object\n",
      " 2   district              2000 non-null   object\n",
      " 3   block                 2000 non-null   object\n",
      " 4   y_coordinate          1962 non-null   object\n",
      " 5   latitude              1962 non-null   object\n",
      " 6   description           2000 non-null   object\n",
      " 7   location_description  1992 non-null   object\n",
      " 8   updated_on            2000 non-null   object\n",
      " 9   community_area        2000 non-null   object\n",
      " 10  iucr                  2000 non-null   object\n",
      " 11  x_coordinate          1962 non-null   object\n",
      " 12  ward                  2000 non-null   object\n",
      " 13  case_number           2000 non-null   object\n",
      " 14  year                  2000 non-null   object\n",
      " 15  domestic              2000 non-null   bool  \n",
      " 16  fbi_code              2000 non-null   object\n",
      " 17  longitude             1962 non-null   object\n",
      " 18  beat                  2000 non-null   object\n",
      " 19  primary_type          2000 non-null   object\n",
      " 20  arrest                2000 non-null   bool  \n",
      " 21  id                    2000 non-null   object\n",
      " 22  month                 2000 non-null   object\n",
      "dtypes: bool(2), object(21)\n",
      "memory usage: 332.2+ KB\n"
     ]
    },
    {
     "data": {
      "text/html": [
       "<div>\n",
       "<style scoped>\n",
       "    .dataframe tbody tr th:only-of-type {\n",
       "        vertical-align: middle;\n",
       "    }\n",
       "\n",
       "    .dataframe tbody tr th {\n",
       "        vertical-align: top;\n",
       "    }\n",
       "\n",
       "    .dataframe thead th {\n",
       "        text-align: right;\n",
       "    }\n",
       "</style>\n",
       "<table border=\"1\" class=\"dataframe\">\n",
       "  <thead>\n",
       "    <tr style=\"text-align: right;\">\n",
       "      <th></th>\n",
       "      <th>date</th>\n",
       "      <th>location</th>\n",
       "      <th>district</th>\n",
       "      <th>block</th>\n",
       "      <th>y_coordinate</th>\n",
       "      <th>latitude</th>\n",
       "      <th>description</th>\n",
       "      <th>location_description</th>\n",
       "      <th>updated_on</th>\n",
       "      <th>community_area</th>\n",
       "      <th>...</th>\n",
       "      <th>case_number</th>\n",
       "      <th>year</th>\n",
       "      <th>domestic</th>\n",
       "      <th>fbi_code</th>\n",
       "      <th>longitude</th>\n",
       "      <th>beat</th>\n",
       "      <th>primary_type</th>\n",
       "      <th>arrest</th>\n",
       "      <th>id</th>\n",
       "      <th>month</th>\n",
       "    </tr>\n",
       "  </thead>\n",
       "  <tbody>\n",
       "    <tr>\n",
       "      <th>0</th>\n",
       "      <td>2022-11-09T23:45:00.000</td>\n",
       "      <td>{'latitude': '41.965248711', 'human_address': ...</td>\n",
       "      <td>017</td>\n",
       "      <td>046XX N FRANCISCO AVE</td>\n",
       "      <td>1930561</td>\n",
       "      <td>41.965248711</td>\n",
       "      <td>OVER $500</td>\n",
       "      <td>STREET</td>\n",
       "      <td>2022-11-16T15:51:52.000</td>\n",
       "      <td>14</td>\n",
       "      <td>...</td>\n",
       "      <td>JF469910</td>\n",
       "      <td>2022</td>\n",
       "      <td>False</td>\n",
       "      <td>06</td>\n",
       "      <td>-87.701037211</td>\n",
       "      <td>1713</td>\n",
       "      <td>THEFT</td>\n",
       "      <td>False</td>\n",
       "      <td>12888758</td>\n",
       "      <td>2022-11</td>\n",
       "    </tr>\n",
       "    <tr>\n",
       "      <th>1</th>\n",
       "      <td>2022-11-09T23:45:00.000</td>\n",
       "      <td>{'latitude': '41.853718318', 'human_address': ...</td>\n",
       "      <td>012</td>\n",
       "      <td>021XX S WOOD ST</td>\n",
       "      <td>1889981</td>\n",
       "      <td>41.853718318</td>\n",
       "      <td>AGGRAVATED - HANDGUN</td>\n",
       "      <td>APARTMENT</td>\n",
       "      <td>2022-11-16T15:51:52.000</td>\n",
       "      <td>31</td>\n",
       "      <td>...</td>\n",
       "      <td>JF468923</td>\n",
       "      <td>2022</td>\n",
       "      <td>False</td>\n",
       "      <td>04B</td>\n",
       "      <td>-87.670980997</td>\n",
       "      <td>1234</td>\n",
       "      <td>BATTERY</td>\n",
       "      <td>False</td>\n",
       "      <td>12888055</td>\n",
       "      <td>2022-11</td>\n",
       "    </tr>\n",
       "    <tr>\n",
       "      <th>2</th>\n",
       "      <td>2022-11-09T23:30:00.000</td>\n",
       "      <td>{'latitude': '41.772532392', 'human_address': ...</td>\n",
       "      <td>003</td>\n",
       "      <td>067XX S JEFFERY BLVD</td>\n",
       "      <td>1860610</td>\n",
       "      <td>41.772532392</td>\n",
       "      <td>AUTOMOBILE</td>\n",
       "      <td>STREET</td>\n",
       "      <td>2022-11-16T15:51:52.000</td>\n",
       "      <td>43</td>\n",
       "      <td>...</td>\n",
       "      <td>JF469056</td>\n",
       "      <td>2022</td>\n",
       "      <td>False</td>\n",
       "      <td>07</td>\n",
       "      <td>-87.57646936</td>\n",
       "      <td>0331</td>\n",
       "      <td>MOTOR VEHICLE THEFT</td>\n",
       "      <td>False</td>\n",
       "      <td>12888163</td>\n",
       "      <td>2022-11</td>\n",
       "    </tr>\n",
       "    <tr>\n",
       "      <th>3</th>\n",
       "      <td>2022-11-09T23:30:00.000</td>\n",
       "      <td>{'latitude': '41.885325435', 'human_address': ...</td>\n",
       "      <td>001</td>\n",
       "      <td>001XX N STATE ST</td>\n",
       "      <td>1901592</td>\n",
       "      <td>41.885325435</td>\n",
       "      <td>SIMPLE</td>\n",
       "      <td>SIDEWALK</td>\n",
       "      <td>2022-11-16T15:51:52.000</td>\n",
       "      <td>32</td>\n",
       "      <td>...</td>\n",
       "      <td>JF468948</td>\n",
       "      <td>2022</td>\n",
       "      <td>False</td>\n",
       "      <td>08B</td>\n",
       "      <td>-87.627930066</td>\n",
       "      <td>0111</td>\n",
       "      <td>BATTERY</td>\n",
       "      <td>False</td>\n",
       "      <td>12888071</td>\n",
       "      <td>2022-11</td>\n",
       "    </tr>\n",
       "    <tr>\n",
       "      <th>4</th>\n",
       "      <td>2022-11-09T23:26:00.000</td>\n",
       "      <td>{'latitude': '41.93939819', 'human_address': '...</td>\n",
       "      <td>017</td>\n",
       "      <td>027XX W BELMONT AVE</td>\n",
       "      <td>1921150</td>\n",
       "      <td>41.93939819</td>\n",
       "      <td>DOMESTIC BATTERY SIMPLE</td>\n",
       "      <td>APARTMENT</td>\n",
       "      <td>2022-11-16T15:51:52.000</td>\n",
       "      <td>21</td>\n",
       "      <td>...</td>\n",
       "      <td>JF468940</td>\n",
       "      <td>2022</td>\n",
       "      <td>True</td>\n",
       "      <td>08B</td>\n",
       "      <td>-87.696562292</td>\n",
       "      <td>1733</td>\n",
       "      <td>BATTERY</td>\n",
       "      <td>True</td>\n",
       "      <td>12888129</td>\n",
       "      <td>2022-11</td>\n",
       "    </tr>\n",
       "  </tbody>\n",
       "</table>\n",
       "<p>5 rows × 23 columns</p>\n",
       "</div>"
      ],
      "text/plain": [
       "                      date                                           location  \\\n",
       "0  2022-11-09T23:45:00.000  {'latitude': '41.965248711', 'human_address': ...   \n",
       "1  2022-11-09T23:45:00.000  {'latitude': '41.853718318', 'human_address': ...   \n",
       "2  2022-11-09T23:30:00.000  {'latitude': '41.772532392', 'human_address': ...   \n",
       "3  2022-11-09T23:30:00.000  {'latitude': '41.885325435', 'human_address': ...   \n",
       "4  2022-11-09T23:26:00.000  {'latitude': '41.93939819', 'human_address': '...   \n",
       "\n",
       "  district                  block y_coordinate      latitude  \\\n",
       "0      017  046XX N FRANCISCO AVE      1930561  41.965248711   \n",
       "1      012        021XX S WOOD ST      1889981  41.853718318   \n",
       "2      003   067XX S JEFFERY BLVD      1860610  41.772532392   \n",
       "3      001       001XX N STATE ST      1901592  41.885325435   \n",
       "4      017    027XX W BELMONT AVE      1921150   41.93939819   \n",
       "\n",
       "               description location_description               updated_on  \\\n",
       "0                OVER $500               STREET  2022-11-16T15:51:52.000   \n",
       "1     AGGRAVATED - HANDGUN            APARTMENT  2022-11-16T15:51:52.000   \n",
       "2               AUTOMOBILE               STREET  2022-11-16T15:51:52.000   \n",
       "3                   SIMPLE             SIDEWALK  2022-11-16T15:51:52.000   \n",
       "4  DOMESTIC BATTERY SIMPLE            APARTMENT  2022-11-16T15:51:52.000   \n",
       "\n",
       "  community_area  ... case_number  year domestic fbi_code      longitude  \\\n",
       "0             14  ...    JF469910  2022    False       06  -87.701037211   \n",
       "1             31  ...    JF468923  2022    False      04B  -87.670980997   \n",
       "2             43  ...    JF469056  2022    False       07   -87.57646936   \n",
       "3             32  ...    JF468948  2022    False      08B  -87.627930066   \n",
       "4             21  ...    JF468940  2022     True      08B  -87.696562292   \n",
       "\n",
       "   beat         primary_type arrest        id    month  \n",
       "0  1713                THEFT  False  12888758  2022-11  \n",
       "1  1234              BATTERY  False  12888055  2022-11  \n",
       "2  0331  MOTOR VEHICLE THEFT  False  12888163  2022-11  \n",
       "3  0111              BATTERY  False  12888071  2022-11  \n",
       "4  1733              BATTERY   True  12888129  2022-11  \n",
       "\n",
       "[5 rows x 23 columns]"
      ]
     },
     "execution_count": 10,
     "metadata": {},
     "output_type": "execute_result"
    }
   ],
   "source": [
    "crime_df.info()\n",
    "crime_df.head()"
   ]
  },
  {
   "cell_type": "code",
   "execution_count": 8,
   "id": "348f5e8b",
   "metadata": {
    "ExecuteTime": {
     "end_time": "2022-11-18T20:05:24.335270Z",
     "start_time": "2022-11-18T20:05:24.280996Z"
    }
   },
   "outputs": [
    {
     "data": {
      "text/html": [
       "<div>\n",
       "<style scoped>\n",
       "    .dataframe tbody tr th:only-of-type {\n",
       "        vertical-align: middle;\n",
       "    }\n",
       "\n",
       "    .dataframe tbody tr th {\n",
       "        vertical-align: top;\n",
       "    }\n",
       "\n",
       "    .dataframe thead th {\n",
       "        text-align: right;\n",
       "    }\n",
       "</style>\n",
       "<table border=\"1\" class=\"dataframe\">\n",
       "  <thead>\n",
       "    <tr style=\"text-align: right;\">\n",
       "      <th></th>\n",
       "      <th>district</th>\n",
       "      <th>y_coordinate</th>\n",
       "      <th>latitude</th>\n",
       "      <th>community_area</th>\n",
       "      <th>x_coordinate</th>\n",
       "      <th>ward</th>\n",
       "      <th>longitude</th>\n",
       "      <th>beat</th>\n",
       "    </tr>\n",
       "  </thead>\n",
       "  <tbody>\n",
       "    <tr>\n",
       "      <th>count</th>\n",
       "      <td>2000.000000</td>\n",
       "      <td>1.957000e+03</td>\n",
       "      <td>1957.000000</td>\n",
       "      <td>2000.000000</td>\n",
       "      <td>1.957000e+03</td>\n",
       "      <td>2000.000000</td>\n",
       "      <td>1957.000000</td>\n",
       "      <td>2000.000000</td>\n",
       "    </tr>\n",
       "    <tr>\n",
       "      <th>mean</th>\n",
       "      <td>11.226500</td>\n",
       "      <td>1.885869e+06</td>\n",
       "      <td>41.842401</td>\n",
       "      <td>36.743000</td>\n",
       "      <td>1.165560e+06</td>\n",
       "      <td>22.460500</td>\n",
       "      <td>-87.667977</td>\n",
       "      <td>1145.564000</td>\n",
       "    </tr>\n",
       "    <tr>\n",
       "      <th>std</th>\n",
       "      <td>7.148689</td>\n",
       "      <td>3.179817e+04</td>\n",
       "      <td>0.087447</td>\n",
       "      <td>21.354272</td>\n",
       "      <td>1.609838e+04</td>\n",
       "      <td>14.090021</td>\n",
       "      <td>0.058581</td>\n",
       "      <td>714.852909</td>\n",
       "    </tr>\n",
       "    <tr>\n",
       "      <th>min</th>\n",
       "      <td>1.000000</td>\n",
       "      <td>1.817016e+06</td>\n",
       "      <td>41.652700</td>\n",
       "      <td>1.000000</td>\n",
       "      <td>1.100658e+06</td>\n",
       "      <td>1.000000</td>\n",
       "      <td>-87.905227</td>\n",
       "      <td>111.000000</td>\n",
       "    </tr>\n",
       "    <tr>\n",
       "      <th>25%</th>\n",
       "      <td>5.000000</td>\n",
       "      <td>1.858674e+06</td>\n",
       "      <td>41.767449</td>\n",
       "      <td>23.000000</td>\n",
       "      <td>1.154034e+06</td>\n",
       "      <td>9.000000</td>\n",
       "      <td>-87.709992</td>\n",
       "      <td>524.000000</td>\n",
       "    </tr>\n",
       "    <tr>\n",
       "      <th>50%</th>\n",
       "      <td>10.000000</td>\n",
       "      <td>1.890867e+06</td>\n",
       "      <td>41.856114</td>\n",
       "      <td>32.000000</td>\n",
       "      <td>1.167150e+06</td>\n",
       "      <td>22.000000</td>\n",
       "      <td>-87.661674</td>\n",
       "      <td>1031.000000</td>\n",
       "    </tr>\n",
       "    <tr>\n",
       "      <th>75%</th>\n",
       "      <td>17.000000</td>\n",
       "      <td>1.909405e+06</td>\n",
       "      <td>41.907079</td>\n",
       "      <td>53.000000</td>\n",
       "      <td>1.176989e+06</td>\n",
       "      <td>33.250000</td>\n",
       "      <td>-87.625817</td>\n",
       "      <td>1723.000000</td>\n",
       "    </tr>\n",
       "    <tr>\n",
       "      <th>max</th>\n",
       "      <td>25.000000</td>\n",
       "      <td>1.951220e+06</td>\n",
       "      <td>42.021747</td>\n",
       "      <td>77.000000</td>\n",
       "      <td>1.203517e+06</td>\n",
       "      <td>50.000000</td>\n",
       "      <td>-87.530452</td>\n",
       "      <td>2535.000000</td>\n",
       "    </tr>\n",
       "  </tbody>\n",
       "</table>\n",
       "</div>"
      ],
      "text/plain": [
       "          district  y_coordinate     latitude  community_area  x_coordinate  \\\n",
       "count  2000.000000  1.957000e+03  1957.000000     2000.000000  1.957000e+03   \n",
       "mean     11.226500  1.885869e+06    41.842401       36.743000  1.165560e+06   \n",
       "std       7.148689  3.179817e+04     0.087447       21.354272  1.609838e+04   \n",
       "min       1.000000  1.817016e+06    41.652700        1.000000  1.100658e+06   \n",
       "25%       5.000000  1.858674e+06    41.767449       23.000000  1.154034e+06   \n",
       "50%      10.000000  1.890867e+06    41.856114       32.000000  1.167150e+06   \n",
       "75%      17.000000  1.909405e+06    41.907079       53.000000  1.176989e+06   \n",
       "max      25.000000  1.951220e+06    42.021747       77.000000  1.203517e+06   \n",
       "\n",
       "              ward    longitude         beat  \n",
       "count  2000.000000  1957.000000  2000.000000  \n",
       "mean     22.460500   -87.667977  1145.564000  \n",
       "std      14.090021     0.058581   714.852909  \n",
       "min       1.000000   -87.905227   111.000000  \n",
       "25%       9.000000   -87.709992   524.000000  \n",
       "50%      22.000000   -87.661674  1031.000000  \n",
       "75%      33.250000   -87.625817  1723.000000  \n",
       "max      50.000000   -87.530452  2535.000000  "
      ]
     },
     "execution_count": 8,
     "metadata": {},
     "output_type": "execute_result"
    }
   ],
   "source": [
    "\n",
    "crime_df[[\"district\", \"y_coordinate\", \"latitude\", \"community_area\", \"x_coordinate\", \"ward\", \"longitude\", \"beat\"]] = crime_df[[\"district\", \"y_coordinate\", \"latitude\", \"community_area\", \"x_coordinate\", \"ward\", \"longitude\", \"beat\"]].apply(pd.to_numeric)\n",
    "crime_df[[\"district\", \"y_coordinate\", \"latitude\", \"community_area\", \"x_coordinate\", \"ward\", \"longitude\", \"beat\"]].describe()\n",
    "\n",
    "\n",
    "\n"
   ]
  },
  {
   "cell_type": "code",
   "execution_count": 12,
   "id": "af507b04",
   "metadata": {
    "ExecuteTime": {
     "end_time": "2022-11-18T20:06:01.531171Z",
     "start_time": "2022-11-18T20:06:01.296947Z"
    }
   },
   "outputs": [
    {
     "data": {
      "image/png": "[encoded data removed]",
      "text/plain": [
       "<Figure size 640x480 with 1 Axes>"
      ]
     },
     "metadata": {},
     "output_type": "display_data"
    }
   ],
   "source": [
    "import matplotlib.pyplot as plt\n",
    "\n",
    "x = crime_df[\"beat\"]\n",
    "\n",
    "plt.hist(x, density=True, bins=30)  # density=False would make counts\n",
    "plt.ylabel('Frequency')\n",
    "plt.xlabel('Beat Values');\n",
    " \n",
    "# Show plot\n",
    "plt.show()"
   ]
  },
  {
   "cell_type": "code",
   "execution_count": 14,
   "id": "fdffcfa8",
   "metadata": {
    "ExecuteTime": {
     "end_time": "2022-11-18T20:07:07.374296Z",
     "start_time": "2022-11-18T20:07:07.128527Z"
    }
   },
   "outputs": [
    {
     "data": {
      "image/png": "[encoded data removed]",
      "text/plain": [
       "<Figure size 640x480 with 1 Axes>"
      ]
     },
     "metadata": {},
     "output_type": "display_data"
    }
   ],
   "source": [
    "\n",
    "x = crime_df[\"community_area\"]\n",
    "\n",
    "plt.hist(x, density=True, bins=30)  # density=False would make counts\n",
    "plt.ylabel('Frequency')\n",
    "plt.xlabel('Community Area Values');\n",
    " \n",
    "# Show plot\n",
    "plt.show()"
   ]
  },
  {
   "cell_type": "code",
   "execution_count": null,
   "id": "57a5365a",
   "metadata": {},
   "outputs": [],
   "source": []
  }
 ],
 "metadata": {
  "kernelspec": {
   "display_name": "Python 3 (ipykernel)",
   "language": "python",
   "name": "python3"
  },
  "language_info": {
   "codemirror_mode": {
    "name": "ipython",
    "version": 3
   },
   "file_extension": ".py",
   "mimetype": "text/x-python",
   "name": "python",
   "nbconvert_exporter": "python",
   "pygments_lexer": "ipython3",
   "version": "3.10.6"
  },
  "toc": {
   "base_numbering": 1,
   "nav_menu": {},
   "number_sections": true,
   "sideBar": true,
   "skip_h1_title": false,
   "title_cell": "Table of Contents",
   "title_sidebar": "Contents",
   "toc_cell": false,
   "toc_position": {},
   "toc_section_display": true,
   "toc_window_display": false
  },
  "varInspector": {
   "cols": {
    "lenName": 16,
    "lenType": 16,
    "lenVar": 40
   },
   "kernels_config": {
    "python": {
     "delete_cmd_postfix": "",
     "delete_cmd_prefix": "del ",
     "library": "var_list.py",
     "varRefreshCmd": "print(var_dic_list())"
    },
    "r": {
     "delete_cmd_postfix": ") ",
     "delete_cmd_prefix": "rm(",
     "library": "var_list.r",
     "varRefreshCmd": "cat(var_dic_list()) "
    }
   },
   "types_to_exclude": [
    "module",
    "function",
    "builtin_function_or_method",
    "instance",
    "_Feature"
   ],
   "window_display": false
  }
 },
 "nbformat": 4,
 "nbformat_minor": 5
}
