{
 "cells": [
  {
   "cell_type": "code",
   "execution_count": 1,
   "id": "5000a2a5",
   "metadata": {
    "ExecuteTime": {
     "end_time": "2022-11-18T19:45:23.965696Z",
     "start_time": "2022-11-18T19:45:16.134961Z"
    }
   },
   "outputs": [
    {
     "name": "stdout",
     "output_type": "stream",
     "text": [
      "Requirement already satisfied: pandas in /opt/anaconda3/envs/ds/lib/python3.10/site-packages (1.4.4)\n",
      "Requirement already satisfied: python-dateutil>=2.8.1 in /opt/anaconda3/envs/ds/lib/python3.10/site-packages (from pandas) (2.8.2)\n",
      "Requirement already satisfied: pytz>=2020.1 in /opt/anaconda3/envs/ds/lib/python3.10/site-packages (from pandas) (2022.2.1)\n",
      "Requirement already satisfied: numpy>=1.21.0 in /opt/anaconda3/envs/ds/lib/python3.10/site-packages (from pandas) (1.23.2)\n",
      "Requirement already satisfied: six>=1.5 in /opt/anaconda3/envs/ds/lib/python3.10/site-packages (from python-dateutil>=2.8.1->pandas) (1.16.0)\n",
      "Requirement already satisfied: sodapy in /opt/anaconda3/envs/ds/lib/python3.10/site-packages (2.2.0)\n",
      "Requirement already satisfied: requests>=2.28.1 in /opt/anaconda3/envs/ds/lib/python3.10/site-packages (from sodapy) (2.28.1)\n",
      "Requirement already satisfied: idna<4,>=2.5 in /opt/anaconda3/envs/ds/lib/python3.10/site-packages (from requests>=2.28.1->sodapy) (3.3)\n",
      "Requirement already satisfied: urllib3<1.27,>=1.21.1 in /opt/anaconda3/envs/ds/lib/python3.10/site-packages (from requests>=2.28.1->sodapy) (1.26.11)\n",
      "Requirement already satisfied: certifi>=2017.4.17 in /opt/anaconda3/envs/ds/lib/python3.10/site-packages (from requests>=2.28.1->sodapy) (2022.6.15)\n",
      "Requirement already satisfied: charset-normalizer<3,>=2 in /opt/anaconda3/envs/ds/lib/python3.10/site-packages (from requests>=2.28.1->sodapy) (2.1.1)\n",
      "Requirement already satisfied: category_encoders in /opt/anaconda3/envs/ds/lib/python3.10/site-packages (2.5.1.post0)\n",
      "Requirement already satisfied: numpy>=1.14.0 in /opt/anaconda3/envs/ds/lib/python3.10/site-packages (from category_encoders) (1.23.2)\n",
      "Requirement already satisfied: statsmodels>=0.9.0 in /opt/anaconda3/envs/ds/lib/python3.10/site-packages (from category_encoders) (0.13.2)\n",
      "Requirement already satisfied: patsy>=0.5.1 in /opt/anaconda3/envs/ds/lib/python3.10/site-packages (from category_encoders) (0.5.2)\n",
      "Requirement already satisfied: scipy>=1.0.0 in /opt/anaconda3/envs/ds/lib/python3.10/site-packages (from category_encoders) (1.9.1)\n",
      "Requirement already satisfied: scikit-learn>=0.20.0 in /opt/anaconda3/envs/ds/lib/python3.10/site-packages (from category_encoders) (1.1.2)\n",
      "Requirement already satisfied: pandas>=1.0.5 in /opt/anaconda3/envs/ds/lib/python3.10/site-packages (from category_encoders) (1.4.4)\n",
      "Requirement already satisfied: python-dateutil>=2.8.1 in /opt/anaconda3/envs/ds/lib/python3.10/site-packages (from pandas>=1.0.5->category_encoders) (2.8.2)\n",
      "Requirement already satisfied: pytz>=2020.1 in /opt/anaconda3/envs/ds/lib/python3.10/site-packages (from pandas>=1.0.5->category_encoders) (2022.2.1)\n",
      "Requirement already satisfied: six in /opt/anaconda3/envs/ds/lib/python3.10/site-packages (from patsy>=0.5.1->category_encoders) (1.16.0)\n",
      "Requirement already satisfied: threadpoolctl>=2.0.0 in /opt/anaconda3/envs/ds/lib/python3.10/site-packages (from scikit-learn>=0.20.0->category_encoders) (3.1.0)\n",
      "Requirement already satisfied: joblib>=1.0.0 in /opt/anaconda3/envs/ds/lib/python3.10/site-packages (from scikit-learn>=0.20.0->category_encoders) (1.1.0)\n",
      "Requirement already satisfied: packaging>=21.3 in /opt/anaconda3/envs/ds/lib/python3.10/site-packages (from statsmodels>=0.9.0->category_encoders) (21.3)\n",
      "Requirement already satisfied: pyparsing!=3.0.5,>=2.0.2 in /opt/anaconda3/envs/ds/lib/python3.10/site-packages (from packaging>=21.3->statsmodels>=0.9.0->category_encoders) (3.0.9)\n"
     ]
    }
   ],
   "source": [
    "# API key ID: otlwwfxero72fkms03hi49x2\n",
    "# API key secret: 5qbnpzqphl1y8bz6eggxraxlzlnbnhso49bro4925r1rpxj6sn\n",
    "# app token: 8y23ArYxg4pcvOMgWzMFSC0nB\n",
    "# secret app token: pZgwEL4lKm2r1s868Saz3EJ1ebpTKy-FzglU\n",
    "\n",
    "# crime data docs: https://dev.socrata.com/foundry/data.cityofchicago.org/9hwr-2zxp\n",
    "\n",
    "# make sure to install these packages before running:\n",
    "!pip install pandas\n",
    "!pip install sodapy\n",
    "!pip install category_encoders"
   ]
  },
  {
   "cell_type": "code",
   "execution_count": 2,
   "id": "e46913bb",
   "metadata": {
    "ExecuteTime": {
     "end_time": "2022-11-18T19:45:24.652423Z",
     "start_time": "2022-11-18T19:45:23.970206Z"
    }
   },
   "outputs": [],
   "source": [
    "import pandas as pd\n",
    "import sodapy\n",
    "from sodapy import Socrata\n",
    "import statistics\n",
    "pd.set_option('display.max_columns', 500)"
   ]
  },
  {
   "cell_type": "code",
   "execution_count": 3,
   "id": "ed501141",
   "metadata": {
    "ExecuteTime": {
     "end_time": "2022-11-18T19:45:46.791217Z",
     "start_time": "2022-11-18T19:45:24.654859Z"
    }
   },
   "outputs": [
    {
     "name": "stdout",
     "output_type": "stream",
     "text": [
      "(202180, 22)\n"
     ]
    }
   ],
   "source": [
    "# crime_url = \"https://data.cityofchicago.org/resource/9hwr-2zxp.json\"\n",
    "\n",
    "\n",
    "app_token = \"8y23ArYxg4pcvOMgWzMFSC0nB\"\n",
    "\n",
    "# Example authenticated client (needed for non-public datasets):\n",
    "client = Socrata(\"data.cityofchicago.org\",\n",
    "                 app_token, \n",
    "                 username=\"ch35@illinois.edu\",\n",
    "                 password=\"68M8rz3vF!StBjD\")\n",
    "\n",
    "\n",
    "# First 2000 results, returned as JSON from API / converted to Python list of\n",
    "# dictionaries by sodapy.\n",
    "results = client.get(\"9hwr-2zxp\", limit = 250000)\n",
    "\n",
    "# Convert to pandas DataFrame\n",
    "crime_df = pd.DataFrame.from_records(results)\n",
    "\n",
    "print(crime_df.shape)"
   ]
  },
  {
   "cell_type": "markdown",
   "id": "3fc10b24",
   "metadata": {},
   "source": [
    "# Logistic Regression"
   ]
  },
  {
   "cell_type": "code",
   "execution_count": 4,
   "id": "ec8eda8d",
   "metadata": {
    "ExecuteTime": {
     "end_time": "2022-11-18T19:45:46.840267Z",
     "start_time": "2022-11-18T19:45:46.795362Z"
    }
   },
   "outputs": [
    {
     "data": {
      "text/html": [
       "<div>\n",
       "<style scoped>\n",
       "    .dataframe tbody tr th:only-of-type {\n",
       "        vertical-align: middle;\n",
       "    }\n",
       "\n",
       "    .dataframe tbody tr th {\n",
       "        vertical-align: top;\n",
       "    }\n",
       "\n",
       "    .dataframe thead th {\n",
       "        text-align: right;\n",
       "    }\n",
       "</style>\n",
       "<table border=\"1\" class=\"dataframe\">\n",
       "  <thead>\n",
       "    <tr style=\"text-align: right;\">\n",
       "      <th></th>\n",
       "      <th>date</th>\n",
       "      <th>location</th>\n",
       "      <th>district</th>\n",
       "      <th>block</th>\n",
       "      <th>y_coordinate</th>\n",
       "      <th>latitude</th>\n",
       "      <th>description</th>\n",
       "      <th>location_description</th>\n",
       "      <th>updated_on</th>\n",
       "      <th>community_area</th>\n",
       "      <th>iucr</th>\n",
       "      <th>x_coordinate</th>\n",
       "      <th>ward</th>\n",
       "      <th>case_number</th>\n",
       "      <th>year</th>\n",
       "      <th>domestic</th>\n",
       "      <th>fbi_code</th>\n",
       "      <th>longitude</th>\n",
       "      <th>beat</th>\n",
       "      <th>primary_type</th>\n",
       "      <th>arrest</th>\n",
       "      <th>id</th>\n",
       "    </tr>\n",
       "  </thead>\n",
       "  <tbody>\n",
       "    <tr>\n",
       "      <th>0</th>\n",
       "      <td>2022-11-10T23:52:00.000</td>\n",
       "      <td>{'latitude': '41.684789786', 'human_address': ...</td>\n",
       "      <td>022</td>\n",
       "      <td>016XX W 115TH ST</td>\n",
       "      <td>1828441</td>\n",
       "      <td>41.684789786</td>\n",
       "      <td>TO PROPERTY</td>\n",
       "      <td>BAR OR TAVERN</td>\n",
       "      <td>2022-11-17T15:49:42.000</td>\n",
       "      <td>75</td>\n",
       "      <td>1310</td>\n",
       "      <td>1167266</td>\n",
       "      <td>34</td>\n",
       "      <td>JF470191</td>\n",
       "      <td>2022</td>\n",
       "      <td>False</td>\n",
       "      <td>14</td>\n",
       "      <td>-87.6633151</td>\n",
       "      <td>2234</td>\n",
       "      <td>CRIMINAL DAMAGE</td>\n",
       "      <td>False</td>\n",
       "      <td>12889112</td>\n",
       "    </tr>\n",
       "    <tr>\n",
       "      <th>1</th>\n",
       "      <td>2022-11-10T23:51:00.000</td>\n",
       "      <td>{'latitude': '41.927622911', 'human_address': ...</td>\n",
       "      <td>019</td>\n",
       "      <td>017XX W ALTGELD ST</td>\n",
       "      <td>1916912</td>\n",
       "      <td>41.927622911</td>\n",
       "      <td>POSSESS - CANNABIS MORE THAN 30 GRAMS</td>\n",
       "      <td>STREET</td>\n",
       "      <td>2022-11-17T15:49:42.000</td>\n",
       "      <td>7</td>\n",
       "      <td>1812</td>\n",
       "      <td>1164516</td>\n",
       "      <td>32</td>\n",
       "      <td>JF470214</td>\n",
       "      <td>2022</td>\n",
       "      <td>False</td>\n",
       "      <td>18</td>\n",
       "      <td>-87.670885873</td>\n",
       "      <td>1931</td>\n",
       "      <td>NARCOTICS</td>\n",
       "      <td>True</td>\n",
       "      <td>12889088</td>\n",
       "    </tr>\n",
       "    <tr>\n",
       "      <th>2</th>\n",
       "      <td>2022-11-10T23:45:00.000</td>\n",
       "      <td>{'latitude': '41.751822096', 'human_address': ...</td>\n",
       "      <td>006</td>\n",
       "      <td>078XX S PEORIA ST</td>\n",
       "      <td>1852903</td>\n",
       "      <td>41.751822096</td>\n",
       "      <td>TO VEHICLE</td>\n",
       "      <td>ALLEY</td>\n",
       "      <td>2022-11-17T15:49:42.000</td>\n",
       "      <td>71</td>\n",
       "      <td>1320</td>\n",
       "      <td>1171664</td>\n",
       "      <td>17</td>\n",
       "      <td>JF470206</td>\n",
       "      <td>2022</td>\n",
       "      <td>False</td>\n",
       "      <td>14</td>\n",
       "      <td>-87.646500811</td>\n",
       "      <td>0621</td>\n",
       "      <td>CRIMINAL DAMAGE</td>\n",
       "      <td>False</td>\n",
       "      <td>12889140</td>\n",
       "    </tr>\n",
       "    <tr>\n",
       "      <th>3</th>\n",
       "      <td>2022-11-10T23:45:00.000</td>\n",
       "      <td>{'latitude': '41.903378801', 'human_address': ...</td>\n",
       "      <td>014</td>\n",
       "      <td>012XX N HOYNE AVE</td>\n",
       "      <td>1908059</td>\n",
       "      <td>41.903378801</td>\n",
       "      <td>AGGRAVATED - OTHER DANGEROUS WEAPON</td>\n",
       "      <td>STREET</td>\n",
       "      <td>2022-11-17T15:49:42.000</td>\n",
       "      <td>24</td>\n",
       "      <td>0430</td>\n",
       "      <td>1162183</td>\n",
       "      <td>1</td>\n",
       "      <td>JF470208</td>\n",
       "      <td>2022</td>\n",
       "      <td>False</td>\n",
       "      <td>04B</td>\n",
       "      <td>-87.679706644</td>\n",
       "      <td>1424</td>\n",
       "      <td>BATTERY</td>\n",
       "      <td>False</td>\n",
       "      <td>12889085</td>\n",
       "    </tr>\n",
       "    <tr>\n",
       "      <th>4</th>\n",
       "      <td>2022-11-10T23:45:00.000</td>\n",
       "      <td>{'latitude': '41.943056436', 'human_address': ...</td>\n",
       "      <td>019</td>\n",
       "      <td>033XX N HALSTED ST</td>\n",
       "      <td>1922582</td>\n",
       "      <td>41.943056436</td>\n",
       "      <td>POCKET-PICKING</td>\n",
       "      <td>BAR OR TAVERN</td>\n",
       "      <td>2022-11-17T15:49:42.000</td>\n",
       "      <td>6</td>\n",
       "      <td>0870</td>\n",
       "      <td>1170328</td>\n",
       "      <td>44</td>\n",
       "      <td>JF470652</td>\n",
       "      <td>2022</td>\n",
       "      <td>False</td>\n",
       "      <td>06</td>\n",
       "      <td>-87.649362967</td>\n",
       "      <td>1925</td>\n",
       "      <td>THEFT</td>\n",
       "      <td>False</td>\n",
       "      <td>12889992</td>\n",
       "    </tr>\n",
       "  </tbody>\n",
       "</table>\n",
       "</div>"
      ],
      "text/plain": [
       "                      date                                           location  \\\n",
       "0  2022-11-10T23:52:00.000  {'latitude': '41.684789786', 'human_address': ...   \n",
       "1  2022-11-10T23:51:00.000  {'latitude': '41.927622911', 'human_address': ...   \n",
       "2  2022-11-10T23:45:00.000  {'latitude': '41.751822096', 'human_address': ...   \n",
       "3  2022-11-10T23:45:00.000  {'latitude': '41.903378801', 'human_address': ...   \n",
       "4  2022-11-10T23:45:00.000  {'latitude': '41.943056436', 'human_address': ...   \n",
       "\n",
       "  district               block y_coordinate      latitude  \\\n",
       "0      022    016XX W 115TH ST      1828441  41.684789786   \n",
       "1      019  017XX W ALTGELD ST      1916912  41.927622911   \n",
       "2      006   078XX S PEORIA ST      1852903  41.751822096   \n",
       "3      014   012XX N HOYNE AVE      1908059  41.903378801   \n",
       "4      019  033XX N HALSTED ST      1922582  41.943056436   \n",
       "\n",
       "                             description location_description  \\\n",
       "0                            TO PROPERTY        BAR OR TAVERN   \n",
       "1  POSSESS - CANNABIS MORE THAN 30 GRAMS               STREET   \n",
       "2                             TO VEHICLE                ALLEY   \n",
       "3    AGGRAVATED - OTHER DANGEROUS WEAPON               STREET   \n",
       "4                         POCKET-PICKING        BAR OR TAVERN   \n",
       "\n",
       "                updated_on community_area  iucr x_coordinate ward case_number  \\\n",
       "0  2022-11-17T15:49:42.000             75  1310      1167266   34    JF470191   \n",
       "1  2022-11-17T15:49:42.000              7  1812      1164516   32    JF470214   \n",
       "2  2022-11-17T15:49:42.000             71  1320      1171664   17    JF470206   \n",
       "3  2022-11-17T15:49:42.000             24  0430      1162183    1    JF470208   \n",
       "4  2022-11-17T15:49:42.000              6  0870      1170328   44    JF470652   \n",
       "\n",
       "   year  domestic fbi_code      longitude  beat     primary_type  arrest  \\\n",
       "0  2022     False       14    -87.6633151  2234  CRIMINAL DAMAGE   False   \n",
       "1  2022     False       18  -87.670885873  1931        NARCOTICS    True   \n",
       "2  2022     False       14  -87.646500811  0621  CRIMINAL DAMAGE   False   \n",
       "3  2022     False      04B  -87.679706644  1424          BATTERY   False   \n",
       "4  2022     False       06  -87.649362967  1925            THEFT   False   \n",
       "\n",
       "         id  \n",
       "0  12889112  \n",
       "1  12889088  \n",
       "2  12889140  \n",
       "3  12889085  \n",
       "4  12889992  "
      ]
     },
     "execution_count": 4,
     "metadata": {},
     "output_type": "execute_result"
    }
   ],
   "source": [
    "crime_df.head()"
   ]
  },
  {
   "cell_type": "code",
   "execution_count": 5,
   "id": "6623cfc2",
   "metadata": {
    "ExecuteTime": {
     "end_time": "2022-11-18T19:45:46.896216Z",
     "start_time": "2022-11-18T19:45:46.844023Z"
    }
   },
   "outputs": [],
   "source": [
    "#creating variable for month\n",
    "month = [i[0:7] for i in crime_df.date]"
   ]
  },
  {
   "cell_type": "code",
   "execution_count": 6,
   "id": "f000e670",
   "metadata": {
    "ExecuteTime": {
     "end_time": "2022-11-18T19:45:46.914207Z",
     "start_time": "2022-11-18T19:45:46.898413Z"
    }
   },
   "outputs": [],
   "source": [
    "#adding to data frame\n",
    "crime_df[\"month\"] = month"
   ]
  },
  {
   "cell_type": "code",
   "execution_count": 7,
   "id": "15b8b1a9",
   "metadata": {
    "ExecuteTime": {
     "end_time": "2022-11-18T19:45:46.990731Z",
     "start_time": "2022-11-18T19:45:46.916408Z"
    }
   },
   "outputs": [
    {
     "data": {
      "text/html": [
       "<div>\n",
       "<style scoped>\n",
       "    .dataframe tbody tr th:only-of-type {\n",
       "        vertical-align: middle;\n",
       "    }\n",
       "\n",
       "    .dataframe tbody tr th {\n",
       "        vertical-align: top;\n",
       "    }\n",
       "\n",
       "    .dataframe thead th {\n",
       "        text-align: right;\n",
       "    }\n",
       "</style>\n",
       "<table border=\"1\" class=\"dataframe\">\n",
       "  <thead>\n",
       "    <tr style=\"text-align: right;\">\n",
       "      <th></th>\n",
       "      <th>district</th>\n",
       "      <th>y_coordinate</th>\n",
       "      <th>latitude</th>\n",
       "      <th>description</th>\n",
       "      <th>location_description</th>\n",
       "      <th>community_area</th>\n",
       "      <th>iucr</th>\n",
       "      <th>x_coordinate</th>\n",
       "      <th>ward</th>\n",
       "      <th>domestic</th>\n",
       "      <th>fbi_code</th>\n",
       "      <th>longitude</th>\n",
       "      <th>beat</th>\n",
       "      <th>primary_type</th>\n",
       "      <th>arrest</th>\n",
       "      <th>month</th>\n",
       "    </tr>\n",
       "  </thead>\n",
       "  <tbody>\n",
       "    <tr>\n",
       "      <th>0</th>\n",
       "      <td>022</td>\n",
       "      <td>1828441</td>\n",
       "      <td>41.684789786</td>\n",
       "      <td>TO PROPERTY</td>\n",
       "      <td>BAR OR TAVERN</td>\n",
       "      <td>75</td>\n",
       "      <td>1310</td>\n",
       "      <td>1167266</td>\n",
       "      <td>34</td>\n",
       "      <td>False</td>\n",
       "      <td>14</td>\n",
       "      <td>-87.6633151</td>\n",
       "      <td>2234</td>\n",
       "      <td>CRIMINAL DAMAGE</td>\n",
       "      <td>False</td>\n",
       "      <td>2022-11</td>\n",
       "    </tr>\n",
       "    <tr>\n",
       "      <th>1</th>\n",
       "      <td>019</td>\n",
       "      <td>1916912</td>\n",
       "      <td>41.927622911</td>\n",
       "      <td>POSSESS - CANNABIS MORE THAN 30 GRAMS</td>\n",
       "      <td>STREET</td>\n",
       "      <td>7</td>\n",
       "      <td>1812</td>\n",
       "      <td>1164516</td>\n",
       "      <td>32</td>\n",
       "      <td>False</td>\n",
       "      <td>18</td>\n",
       "      <td>-87.670885873</td>\n",
       "      <td>1931</td>\n",
       "      <td>NARCOTICS</td>\n",
       "      <td>True</td>\n",
       "      <td>2022-11</td>\n",
       "    </tr>\n",
       "    <tr>\n",
       "      <th>2</th>\n",
       "      <td>006</td>\n",
       "      <td>1852903</td>\n",
       "      <td>41.751822096</td>\n",
       "      <td>TO VEHICLE</td>\n",
       "      <td>ALLEY</td>\n",
       "      <td>71</td>\n",
       "      <td>1320</td>\n",
       "      <td>1171664</td>\n",
       "      <td>17</td>\n",
       "      <td>False</td>\n",
       "      <td>14</td>\n",
       "      <td>-87.646500811</td>\n",
       "      <td>0621</td>\n",
       "      <td>CRIMINAL DAMAGE</td>\n",
       "      <td>False</td>\n",
       "      <td>2022-11</td>\n",
       "    </tr>\n",
       "    <tr>\n",
       "      <th>3</th>\n",
       "      <td>014</td>\n",
       "      <td>1908059</td>\n",
       "      <td>41.903378801</td>\n",
       "      <td>AGGRAVATED - OTHER DANGEROUS WEAPON</td>\n",
       "      <td>STREET</td>\n",
       "      <td>24</td>\n",
       "      <td>0430</td>\n",
       "      <td>1162183</td>\n",
       "      <td>1</td>\n",
       "      <td>False</td>\n",
       "      <td>04B</td>\n",
       "      <td>-87.679706644</td>\n",
       "      <td>1424</td>\n",
       "      <td>BATTERY</td>\n",
       "      <td>False</td>\n",
       "      <td>2022-11</td>\n",
       "    </tr>\n",
       "    <tr>\n",
       "      <th>4</th>\n",
       "      <td>019</td>\n",
       "      <td>1922582</td>\n",
       "      <td>41.943056436</td>\n",
       "      <td>POCKET-PICKING</td>\n",
       "      <td>BAR OR TAVERN</td>\n",
       "      <td>6</td>\n",
       "      <td>0870</td>\n",
       "      <td>1170328</td>\n",
       "      <td>44</td>\n",
       "      <td>False</td>\n",
       "      <td>06</td>\n",
       "      <td>-87.649362967</td>\n",
       "      <td>1925</td>\n",
       "      <td>THEFT</td>\n",
       "      <td>False</td>\n",
       "      <td>2022-11</td>\n",
       "    </tr>\n",
       "  </tbody>\n",
       "</table>\n",
       "</div>"
      ],
      "text/plain": [
       "  district y_coordinate      latitude                            description  \\\n",
       "0      022      1828441  41.684789786                            TO PROPERTY   \n",
       "1      019      1916912  41.927622911  POSSESS - CANNABIS MORE THAN 30 GRAMS   \n",
       "2      006      1852903  41.751822096                             TO VEHICLE   \n",
       "3      014      1908059  41.903378801    AGGRAVATED - OTHER DANGEROUS WEAPON   \n",
       "4      019      1922582  41.943056436                         POCKET-PICKING   \n",
       "\n",
       "  location_description community_area  iucr x_coordinate ward  domestic  \\\n",
       "0        BAR OR TAVERN             75  1310      1167266   34     False   \n",
       "1               STREET              7  1812      1164516   32     False   \n",
       "2                ALLEY             71  1320      1171664   17     False   \n",
       "3               STREET             24  0430      1162183    1     False   \n",
       "4        BAR OR TAVERN              6  0870      1170328   44     False   \n",
       "\n",
       "  fbi_code      longitude  beat     primary_type  arrest    month  \n",
       "0       14    -87.6633151  2234  CRIMINAL DAMAGE   False  2022-11  \n",
       "1       18  -87.670885873  1931        NARCOTICS    True  2022-11  \n",
       "2       14  -87.646500811  0621  CRIMINAL DAMAGE   False  2022-11  \n",
       "3      04B  -87.679706644  1424          BATTERY   False  2022-11  \n",
       "4       06  -87.649362967  1925            THEFT   False  2022-11  "
      ]
     },
     "execution_count": 7,
     "metadata": {},
     "output_type": "execute_result"
    }
   ],
   "source": [
    "#dropping irrelevant variables\n",
    "crime_df_clean = crime_df.drop([\"date\", \"location\", \"block\", \"updated_on\", \"case_number\", \"year\", \"id\"], axis = 1)\n",
    "crime_df_clean.head()"
   ]
  },
  {
   "cell_type": "markdown",
   "id": "90da1e53",
   "metadata": {},
   "source": [
    "## Removing Categorical Variables with High Cardinality (50+ Levels)"
   ]
  },
  {
   "cell_type": "code",
   "execution_count": 8,
   "id": "2cb347bc",
   "metadata": {
    "ExecuteTime": {
     "end_time": "2022-11-18T19:45:46.998693Z",
     "start_time": "2022-11-18T19:45:46.993041Z"
    }
   },
   "outputs": [
    {
     "data": {
      "text/plain": [
       "district                object\n",
       "y_coordinate            object\n",
       "latitude                object\n",
       "description             object\n",
       "location_description    object\n",
       "community_area          object\n",
       "iucr                    object\n",
       "x_coordinate            object\n",
       "ward                    object\n",
       "domestic                  bool\n",
       "fbi_code                object\n",
       "longitude               object\n",
       "beat                    object\n",
       "primary_type            object\n",
       "arrest                    bool\n",
       "month                   object\n",
       "dtype: object"
      ]
     },
     "execution_count": 8,
     "metadata": {},
     "output_type": "execute_result"
    }
   ],
   "source": [
    "crime_df_clean.dtypes"
   ]
  },
  {
   "cell_type": "code",
   "execution_count": 9,
   "id": "d7eac971",
   "metadata": {
    "ExecuteTime": {
     "end_time": "2022-11-18T19:45:47.439292Z",
     "start_time": "2022-11-18T19:45:47.001127Z"
    }
   },
   "outputs": [
    {
     "data": {
      "text/plain": [
       "district                 object\n",
       "y_coordinate            float64\n",
       "latitude                float64\n",
       "description              object\n",
       "location_description     object\n",
       "community_area           object\n",
       "iucr                     object\n",
       "x_coordinate            float64\n",
       "ward                     object\n",
       "domestic                   bool\n",
       "fbi_code                 object\n",
       "longitude               float64\n",
       "beat                     object\n",
       "primary_type             object\n",
       "arrest                     bool\n",
       "month                    object\n",
       "dtype: object"
      ]
     },
     "execution_count": 9,
     "metadata": {},
     "output_type": "execute_result"
    }
   ],
   "source": [
    "#converting variables to numeric\n",
    "num_vars = [\"y_coordinate\", \"x_coordinate\", \"latitude\", \"longitude\"]\n",
    "for i in num_vars:\n",
    "    crime_df_clean[i] = crime_df_clean[i].astype(\"float\")\n",
    "crime_df_clean.dtypes"
   ]
  },
  {
   "cell_type": "code",
   "execution_count": 10,
   "id": "f1763ab1",
   "metadata": {
    "ExecuteTime": {
     "end_time": "2022-11-18T19:45:47.458098Z",
     "start_time": "2022-11-18T19:45:47.448754Z"
    }
   },
   "outputs": [
    {
     "data": {
      "text/plain": [
       "district                 object\n",
       "y_coordinate            float64\n",
       "latitude                float64\n",
       "description              object\n",
       "location_description     object\n",
       "community_area           object\n",
       "iucr                     object\n",
       "x_coordinate            float64\n",
       "ward                     object\n",
       "domestic                  int64\n",
       "fbi_code                 object\n",
       "longitude               float64\n",
       "beat                     object\n",
       "primary_type             object\n",
       "arrest                    int64\n",
       "month                    object\n",
       "dtype: object"
      ]
     },
     "execution_count": 10,
     "metadata": {},
     "output_type": "execute_result"
    }
   ],
   "source": [
    "#converting boolean variables to binary categorical variables\n",
    "crime_df_clean[\"domestic\"] = crime_df_clean[\"domestic\"].astype(int)\n",
    "crime_df_clean[\"arrest\"] = crime_df_clean[\"arrest\"].astype(int)\n",
    "crime_df_clean.dtypes"
   ]
  },
  {
   "cell_type": "code",
   "execution_count": 11,
   "id": "6a4101e5",
   "metadata": {
    "ExecuteTime": {
     "end_time": "2022-11-18T19:45:47.465989Z",
     "start_time": "2022-11-18T19:45:47.460464Z"
    }
   },
   "outputs": [
    {
     "data": {
      "text/plain": [
       "False"
      ]
     },
     "execution_count": 11,
     "metadata": {},
     "output_type": "execute_result"
    }
   ],
   "source": [
    "crime_df_clean[\"arrest\"].dtypes == \"O\""
   ]
  },
  {
   "cell_type": "code",
   "execution_count": 12,
   "id": "1c46efaf",
   "metadata": {
    "ExecuteTime": {
     "end_time": "2022-11-18T19:45:47.871546Z",
     "start_time": "2022-11-18T19:45:47.468610Z"
    }
   },
   "outputs": [
    {
     "data": {
      "text/plain": [
       "['description',\n",
       " 'location_description',\n",
       " 'community_area',\n",
       " 'iucr',\n",
       " 'ward',\n",
       " 'beat']"
      ]
     },
     "execution_count": 12,
     "metadata": {},
     "output_type": "execute_result"
    }
   ],
   "source": [
    "#storing list of cateogorical variables with high cardinality\n",
    "high_card = [var for var in crime_df_clean.columns if len(crime_df_clean[var].value_counts()) >= 50 and crime_df_clean[var].dtypes == \"O\"]\n",
    "high_card"
   ]
  },
  {
   "cell_type": "code",
   "execution_count": 13,
   "id": "5eca91d8",
   "metadata": {
    "ExecuteTime": {
     "end_time": "2022-11-18T19:45:47.913408Z",
     "start_time": "2022-11-18T19:45:47.873974Z"
    }
   },
   "outputs": [
    {
     "data": {
      "text/html": [
       "<div>\n",
       "<style scoped>\n",
       "    .dataframe tbody tr th:only-of-type {\n",
       "        vertical-align: middle;\n",
       "    }\n",
       "\n",
       "    .dataframe tbody tr th {\n",
       "        vertical-align: top;\n",
       "    }\n",
       "\n",
       "    .dataframe thead th {\n",
       "        text-align: right;\n",
       "    }\n",
       "</style>\n",
       "<table border=\"1\" class=\"dataframe\">\n",
       "  <thead>\n",
       "    <tr style=\"text-align: right;\">\n",
       "      <th></th>\n",
       "      <th>district</th>\n",
       "      <th>y_coordinate</th>\n",
       "      <th>latitude</th>\n",
       "      <th>x_coordinate</th>\n",
       "      <th>domestic</th>\n",
       "      <th>fbi_code</th>\n",
       "      <th>longitude</th>\n",
       "      <th>primary_type</th>\n",
       "      <th>arrest</th>\n",
       "      <th>month</th>\n",
       "    </tr>\n",
       "  </thead>\n",
       "  <tbody>\n",
       "    <tr>\n",
       "      <th>0</th>\n",
       "      <td>022</td>\n",
       "      <td>1828441.0</td>\n",
       "      <td>41.684790</td>\n",
       "      <td>1167266.0</td>\n",
       "      <td>0</td>\n",
       "      <td>14</td>\n",
       "      <td>-87.663315</td>\n",
       "      <td>CRIMINAL DAMAGE</td>\n",
       "      <td>0</td>\n",
       "      <td>2022-11</td>\n",
       "    </tr>\n",
       "    <tr>\n",
       "      <th>1</th>\n",
       "      <td>019</td>\n",
       "      <td>1916912.0</td>\n",
       "      <td>41.927623</td>\n",
       "      <td>1164516.0</td>\n",
       "      <td>0</td>\n",
       "      <td>18</td>\n",
       "      <td>-87.670886</td>\n",
       "      <td>NARCOTICS</td>\n",
       "      <td>1</td>\n",
       "      <td>2022-11</td>\n",
       "    </tr>\n",
       "    <tr>\n",
       "      <th>2</th>\n",
       "      <td>006</td>\n",
       "      <td>1852903.0</td>\n",
       "      <td>41.751822</td>\n",
       "      <td>1171664.0</td>\n",
       "      <td>0</td>\n",
       "      <td>14</td>\n",
       "      <td>-87.646501</td>\n",
       "      <td>CRIMINAL DAMAGE</td>\n",
       "      <td>0</td>\n",
       "      <td>2022-11</td>\n",
       "    </tr>\n",
       "    <tr>\n",
       "      <th>3</th>\n",
       "      <td>014</td>\n",
       "      <td>1908059.0</td>\n",
       "      <td>41.903379</td>\n",
       "      <td>1162183.0</td>\n",
       "      <td>0</td>\n",
       "      <td>04B</td>\n",
       "      <td>-87.679707</td>\n",
       "      <td>BATTERY</td>\n",
       "      <td>0</td>\n",
       "      <td>2022-11</td>\n",
       "    </tr>\n",
       "    <tr>\n",
       "      <th>4</th>\n",
       "      <td>019</td>\n",
       "      <td>1922582.0</td>\n",
       "      <td>41.943056</td>\n",
       "      <td>1170328.0</td>\n",
       "      <td>0</td>\n",
       "      <td>06</td>\n",
       "      <td>-87.649363</td>\n",
       "      <td>THEFT</td>\n",
       "      <td>0</td>\n",
       "      <td>2022-11</td>\n",
       "    </tr>\n",
       "  </tbody>\n",
       "</table>\n",
       "</div>"
      ],
      "text/plain": [
       "  district  y_coordinate   latitude  x_coordinate  domestic fbi_code  \\\n",
       "0      022     1828441.0  41.684790     1167266.0         0       14   \n",
       "1      019     1916912.0  41.927623     1164516.0         0       18   \n",
       "2      006     1852903.0  41.751822     1171664.0         0       14   \n",
       "3      014     1908059.0  41.903379     1162183.0         0      04B   \n",
       "4      019     1922582.0  41.943056     1170328.0         0       06   \n",
       "\n",
       "   longitude     primary_type  arrest    month  \n",
       "0 -87.663315  CRIMINAL DAMAGE       0  2022-11  \n",
       "1 -87.670886        NARCOTICS       1  2022-11  \n",
       "2 -87.646501  CRIMINAL DAMAGE       0  2022-11  \n",
       "3 -87.679707          BATTERY       0  2022-11  \n",
       "4 -87.649363            THEFT       0  2022-11  "
      ]
     },
     "execution_count": 13,
     "metadata": {},
     "output_type": "execute_result"
    }
   ],
   "source": [
    "#dropping from set\n",
    "crime_df_new = crime_df_clean.drop(high_card, axis = 1)\n",
    "crime_df_new.head()"
   ]
  },
  {
   "cell_type": "markdown",
   "id": "3b7d079d",
   "metadata": {},
   "source": [
    "## Binning Categorical Variables\n",
    "#### Goal is to group levels together if they share a similar target rate to establish bin credibility (at least 1% of observations in each bin)"
   ]
  },
  {
   "cell_type": "code",
   "execution_count": 14,
   "id": "5bd3fed9",
   "metadata": {
    "ExecuteTime": {
     "end_time": "2022-11-18T19:45:47.921021Z",
     "start_time": "2022-11-18T19:45:47.915591Z"
    }
   },
   "outputs": [
    {
     "data": {
      "text/plain": [
       "['district', 'fbi_code', 'primary_type', 'month']"
      ]
     },
     "execution_count": 14,
     "metadata": {},
     "output_type": "execute_result"
    }
   ],
   "source": [
    "cat_vars = [var for var in crime_df_new.columns if crime_df_new[var].dtypes == \"O\"]\n",
    "cat_vars"
   ]
  },
  {
   "cell_type": "code",
   "execution_count": 15,
   "id": "a9496e03",
   "metadata": {
    "ExecuteTime": {
     "end_time": "2022-11-18T19:45:49.628188Z",
     "start_time": "2022-11-18T19:45:47.923821Z"
    }
   },
   "outputs": [
    {
     "data": {
      "text/html": [
       "<div>\n",
       "<style scoped>\n",
       "    .dataframe tbody tr th:only-of-type {\n",
       "        vertical-align: middle;\n",
       "    }\n",
       "\n",
       "    .dataframe tbody tr th {\n",
       "        vertical-align: top;\n",
       "    }\n",
       "\n",
       "    .dataframe thead th {\n",
       "        text-align: right;\n",
       "    }\n",
       "</style>\n",
       "<table border=\"1\" class=\"dataframe\">\n",
       "  <thead>\n",
       "    <tr style=\"text-align: right;\">\n",
       "      <th></th>\n",
       "      <th>District</th>\n",
       "      <th>Target Rate</th>\n",
       "      <th>Proportion</th>\n",
       "    </tr>\n",
       "  </thead>\n",
       "  <tbody>\n",
       "    <tr>\n",
       "      <th>22</th>\n",
       "      <td>16</td>\n",
       "      <td>0.000</td>\n",
       "      <td>0.000</td>\n",
       "    </tr>\n",
       "    <tr>\n",
       "      <th>7</th>\n",
       "      <td>019</td>\n",
       "      <td>0.072</td>\n",
       "      <td>0.051</td>\n",
       "    </tr>\n",
       "    <tr>\n",
       "      <th>2</th>\n",
       "      <td>012</td>\n",
       "      <td>0.082</td>\n",
       "      <td>0.059</td>\n",
       "    </tr>\n",
       "    <tr>\n",
       "      <th>10</th>\n",
       "      <td>002</td>\n",
       "      <td>0.086</td>\n",
       "      <td>0.049</td>\n",
       "    </tr>\n",
       "    <tr>\n",
       "      <th>21</th>\n",
       "      <td>020</td>\n",
       "      <td>0.087</td>\n",
       "      <td>0.021</td>\n",
       "    </tr>\n",
       "    <tr>\n",
       "      <th>1</th>\n",
       "      <td>008</td>\n",
       "      <td>0.091</td>\n",
       "      <td>0.062</td>\n",
       "    </tr>\n",
       "    <tr>\n",
       "      <th>8</th>\n",
       "      <td>003</td>\n",
       "      <td>0.092</td>\n",
       "      <td>0.050</td>\n",
       "    </tr>\n",
       "    <tr>\n",
       "      <th>3</th>\n",
       "      <td>004</td>\n",
       "      <td>0.093</td>\n",
       "      <td>0.059</td>\n",
       "    </tr>\n",
       "    <tr>\n",
       "      <th>19</th>\n",
       "      <td>022</td>\n",
       "      <td>0.099</td>\n",
       "      <td>0.032</td>\n",
       "    </tr>\n",
       "    <tr>\n",
       "      <th>17</th>\n",
       "      <td>024</td>\n",
       "      <td>0.099</td>\n",
       "      <td>0.036</td>\n",
       "    </tr>\n",
       "    <tr>\n",
       "      <th>0</th>\n",
       "      <td>006</td>\n",
       "      <td>0.104</td>\n",
       "      <td>0.062</td>\n",
       "    </tr>\n",
       "    <tr>\n",
       "      <th>18</th>\n",
       "      <td>014</td>\n",
       "      <td>0.104</td>\n",
       "      <td>0.034</td>\n",
       "    </tr>\n",
       "    <tr>\n",
       "      <th>12</th>\n",
       "      <td>009</td>\n",
       "      <td>0.106</td>\n",
       "      <td>0.044</td>\n",
       "    </tr>\n",
       "    <tr>\n",
       "      <th>20</th>\n",
       "      <td>017</td>\n",
       "      <td>0.107</td>\n",
       "      <td>0.029</td>\n",
       "    </tr>\n",
       "    <tr>\n",
       "      <th>6</th>\n",
       "      <td>018</td>\n",
       "      <td>0.113</td>\n",
       "      <td>0.053</td>\n",
       "    </tr>\n",
       "    <tr>\n",
       "      <th>11</th>\n",
       "      <td>007</td>\n",
       "      <td>0.117</td>\n",
       "      <td>0.044</td>\n",
       "    </tr>\n",
       "    <tr>\n",
       "      <th>4</th>\n",
       "      <td>001</td>\n",
       "      <td>0.119</td>\n",
       "      <td>0.055</td>\n",
       "    </tr>\n",
       "    <tr>\n",
       "      <th>15</th>\n",
       "      <td>016</td>\n",
       "      <td>0.121</td>\n",
       "      <td>0.037</td>\n",
       "    </tr>\n",
       "    <tr>\n",
       "      <th>14</th>\n",
       "      <td>005</td>\n",
       "      <td>0.131</td>\n",
       "      <td>0.041</td>\n",
       "    </tr>\n",
       "    <tr>\n",
       "      <th>9</th>\n",
       "      <td>025</td>\n",
       "      <td>0.136</td>\n",
       "      <td>0.050</td>\n",
       "    </tr>\n",
       "    <tr>\n",
       "      <th>16</th>\n",
       "      <td>015</td>\n",
       "      <td>0.150</td>\n",
       "      <td>0.036</td>\n",
       "    </tr>\n",
       "    <tr>\n",
       "      <th>13</th>\n",
       "      <td>010</td>\n",
       "      <td>0.170</td>\n",
       "      <td>0.042</td>\n",
       "    </tr>\n",
       "    <tr>\n",
       "      <th>5</th>\n",
       "      <td>011</td>\n",
       "      <td>0.207</td>\n",
       "      <td>0.055</td>\n",
       "    </tr>\n",
       "    <tr>\n",
       "      <th>23</th>\n",
       "      <td>031</td>\n",
       "      <td>0.250</td>\n",
       "      <td>0.000</td>\n",
       "    </tr>\n",
       "  </tbody>\n",
       "</table>\n",
       "</div>"
      ],
      "text/plain": [
       "   District  Target Rate  Proportion\n",
       "22       16        0.000       0.000\n",
       "7       019        0.072       0.051\n",
       "2       012        0.082       0.059\n",
       "10      002        0.086       0.049\n",
       "21      020        0.087       0.021\n",
       "1       008        0.091       0.062\n",
       "8       003        0.092       0.050\n",
       "3       004        0.093       0.059\n",
       "19      022        0.099       0.032\n",
       "17      024        0.099       0.036\n",
       "0       006        0.104       0.062\n",
       "18      014        0.104       0.034\n",
       "12      009        0.106       0.044\n",
       "20      017        0.107       0.029\n",
       "6       018        0.113       0.053\n",
       "11      007        0.117       0.044\n",
       "4       001        0.119       0.055\n",
       "15      016        0.121       0.037\n",
       "14      005        0.131       0.041\n",
       "9       025        0.136       0.050\n",
       "16      015        0.150       0.036\n",
       "13      010        0.170       0.042\n",
       "5       011        0.207       0.055\n",
       "23      031        0.250       0.000"
      ]
     },
     "execution_count": 15,
     "metadata": {},
     "output_type": "execute_result"
    }
   ],
   "source": [
    "#district\n",
    "pd.DataFrame({\"District\": crime_df_new[\"district\"].value_counts().index, \"Target Rate\": [round(statistics.mean(crime_df_new[\"arrest\"].loc[crime_df_new[\"district\"] == i]), 3) for i in crime_df_new[\"district\"].value_counts().index], \"Proportion\": [round(crime_df_new.loc[crime_df_new[\"district\"] == i].shape[0] / crime_df_new.shape[0], 3) for i in crime_df_new[\"district\"].value_counts().index]}).sort_values(by = \"Target Rate\")\n",
    "                                                                                                                                                                                                                               "
   ]
  },
  {
   "cell_type": "markdown",
   "id": "87ab0faf",
   "metadata": {},
   "source": [
    "##### Decision: 16 + 019, 011 + 031, all others can remain on their own"
   ]
  },
  {
   "cell_type": "code",
   "execution_count": 16,
   "id": "a2d36bf3",
   "metadata": {
    "ExecuteTime": {
     "end_time": "2022-11-18T19:45:51.349069Z",
     "start_time": "2022-11-18T19:45:49.632550Z"
    }
   },
   "outputs": [
    {
     "data": {
      "text/html": [
       "<div>\n",
       "<style scoped>\n",
       "    .dataframe tbody tr th:only-of-type {\n",
       "        vertical-align: middle;\n",
       "    }\n",
       "\n",
       "    .dataframe tbody tr th {\n",
       "        vertical-align: top;\n",
       "    }\n",
       "\n",
       "    .dataframe thead th {\n",
       "        text-align: right;\n",
       "    }\n",
       "</style>\n",
       "<table border=\"1\" class=\"dataframe\">\n",
       "  <thead>\n",
       "    <tr style=\"text-align: right;\">\n",
       "      <th></th>\n",
       "      <th>FBI Code</th>\n",
       "      <th>Target Rate</th>\n",
       "      <th>Proportion</th>\n",
       "    </tr>\n",
       "  </thead>\n",
       "  <tbody>\n",
       "    <tr>\n",
       "      <th>23</th>\n",
       "      <td>12</td>\n",
       "      <td>0.000</td>\n",
       "      <td>0.000</td>\n",
       "    </tr>\n",
       "    <tr>\n",
       "      <th>13</th>\n",
       "      <td>10</td>\n",
       "      <td>0.007</td>\n",
       "      <td>0.009</td>\n",
       "    </tr>\n",
       "    <tr>\n",
       "      <th>6</th>\n",
       "      <td>11</td>\n",
       "      <td>0.013</td>\n",
       "      <td>0.053</td>\n",
       "    </tr>\n",
       "    <tr>\n",
       "      <th>14</th>\n",
       "      <td>02</td>\n",
       "      <td>0.024</td>\n",
       "      <td>0.007</td>\n",
       "    </tr>\n",
       "    <tr>\n",
       "      <th>3</th>\n",
       "      <td>07</td>\n",
       "      <td>0.025</td>\n",
       "      <td>0.083</td>\n",
       "    </tr>\n",
       "    <tr>\n",
       "      <th>2</th>\n",
       "      <td>14</td>\n",
       "      <td>0.032</td>\n",
       "      <td>0.115</td>\n",
       "    </tr>\n",
       "    <tr>\n",
       "      <th>0</th>\n",
       "      <td>06</td>\n",
       "      <td>0.035</td>\n",
       "      <td>0.232</td>\n",
       "    </tr>\n",
       "    <tr>\n",
       "      <th>10</th>\n",
       "      <td>05</td>\n",
       "      <td>0.038</td>\n",
       "      <td>0.032</td>\n",
       "    </tr>\n",
       "    <tr>\n",
       "      <th>8</th>\n",
       "      <td>03</td>\n",
       "      <td>0.048</td>\n",
       "      <td>0.037</td>\n",
       "    </tr>\n",
       "    <tr>\n",
       "      <th>15</th>\n",
       "      <td>17</td>\n",
       "      <td>0.052</td>\n",
       "      <td>0.007</td>\n",
       "    </tr>\n",
       "    <tr>\n",
       "      <th>4</th>\n",
       "      <td>08A</td>\n",
       "      <td>0.055</td>\n",
       "      <td>0.076</td>\n",
       "    </tr>\n",
       "    <tr>\n",
       "      <th>19</th>\n",
       "      <td>09</td>\n",
       "      <td>0.062</td>\n",
       "      <td>0.002</td>\n",
       "    </tr>\n",
       "    <tr>\n",
       "      <th>18</th>\n",
       "      <td>20</td>\n",
       "      <td>0.080</td>\n",
       "      <td>0.003</td>\n",
       "    </tr>\n",
       "    <tr>\n",
       "      <th>9</th>\n",
       "      <td>04B</td>\n",
       "      <td>0.112</td>\n",
       "      <td>0.033</td>\n",
       "    </tr>\n",
       "    <tr>\n",
       "      <th>1</th>\n",
       "      <td>08B</td>\n",
       "      <td>0.141</td>\n",
       "      <td>0.147</td>\n",
       "    </tr>\n",
       "    <tr>\n",
       "      <th>11</th>\n",
       "      <td>04A</td>\n",
       "      <td>0.142</td>\n",
       "      <td>0.031</td>\n",
       "    </tr>\n",
       "    <tr>\n",
       "      <th>5</th>\n",
       "      <td>26</td>\n",
       "      <td>0.218</td>\n",
       "      <td>0.066</td>\n",
       "    </tr>\n",
       "    <tr>\n",
       "      <th>17</th>\n",
       "      <td>01A</td>\n",
       "      <td>0.266</td>\n",
       "      <td>0.003</td>\n",
       "    </tr>\n",
       "    <tr>\n",
       "      <th>22</th>\n",
       "      <td>13</td>\n",
       "      <td>0.516</td>\n",
       "      <td>0.000</td>\n",
       "    </tr>\n",
       "    <tr>\n",
       "      <th>16</th>\n",
       "      <td>24</td>\n",
       "      <td>0.611</td>\n",
       "      <td>0.005</td>\n",
       "    </tr>\n",
       "    <tr>\n",
       "      <th>7</th>\n",
       "      <td>15</td>\n",
       "      <td>0.632</td>\n",
       "      <td>0.039</td>\n",
       "    </tr>\n",
       "    <tr>\n",
       "      <th>25</th>\n",
       "      <td>01B</td>\n",
       "      <td>0.750</td>\n",
       "      <td>0.000</td>\n",
       "    </tr>\n",
       "    <tr>\n",
       "      <th>24</th>\n",
       "      <td>19</td>\n",
       "      <td>0.800</td>\n",
       "      <td>0.000</td>\n",
       "    </tr>\n",
       "    <tr>\n",
       "      <th>12</th>\n",
       "      <td>18</td>\n",
       "      <td>0.951</td>\n",
       "      <td>0.017</td>\n",
       "    </tr>\n",
       "    <tr>\n",
       "      <th>21</th>\n",
       "      <td>22</td>\n",
       "      <td>0.983</td>\n",
       "      <td>0.001</td>\n",
       "    </tr>\n",
       "    <tr>\n",
       "      <th>20</th>\n",
       "      <td>16</td>\n",
       "      <td>0.989</td>\n",
       "      <td>0.001</td>\n",
       "    </tr>\n",
       "  </tbody>\n",
       "</table>\n",
       "</div>"
      ],
      "text/plain": [
       "   FBI Code  Target Rate  Proportion\n",
       "23       12        0.000       0.000\n",
       "13       10        0.007       0.009\n",
       "6        11        0.013       0.053\n",
       "14       02        0.024       0.007\n",
       "3        07        0.025       0.083\n",
       "2        14        0.032       0.115\n",
       "0        06        0.035       0.232\n",
       "10       05        0.038       0.032\n",
       "8        03        0.048       0.037\n",
       "15       17        0.052       0.007\n",
       "4       08A        0.055       0.076\n",
       "19       09        0.062       0.002\n",
       "18       20        0.080       0.003\n",
       "9       04B        0.112       0.033\n",
       "1       08B        0.141       0.147\n",
       "11      04A        0.142       0.031\n",
       "5        26        0.218       0.066\n",
       "17      01A        0.266       0.003\n",
       "22       13        0.516       0.000\n",
       "16       24        0.611       0.005\n",
       "7        15        0.632       0.039\n",
       "25      01B        0.750       0.000\n",
       "24       19        0.800       0.000\n",
       "12       18        0.951       0.017\n",
       "21       22        0.983       0.001\n",
       "20       16        0.989       0.001"
      ]
     },
     "execution_count": 16,
     "metadata": {},
     "output_type": "execute_result"
    }
   ],
   "source": [
    "#FBI Code\n",
    "pd.DataFrame({\"FBI Code\": crime_df_new[\"fbi_code\"].value_counts().index, \"Target Rate\": [round(statistics.mean(crime_df_new[\"arrest\"].loc[crime_df_new[\"fbi_code\"] == i]), 3) for i in crime_df_new[\"fbi_code\"].value_counts().index], \"Proportion\": [round(crime_df_new.loc[crime_df_new[\"fbi_code\"] == i].shape[0] / crime_df_new.shape[0], 3) for i in crime_df_new[\"fbi_code\"].value_counts().index]}).sort_values(by = \"Target Rate\")\n",
    "                                                                                                                                                                                                                               "
   ]
  },
  {
   "cell_type": "markdown",
   "id": "ef892082",
   "metadata": {},
   "source": [
    "##### Decision: Variable incredibly similar to the variable below, we'll drop this one"
   ]
  },
  {
   "cell_type": "code",
   "execution_count": 17,
   "id": "af12ab35",
   "metadata": {
    "ExecuteTime": {
     "end_time": "2022-11-18T19:45:51.401844Z",
     "start_time": "2022-11-18T19:45:51.351574Z"
    }
   },
   "outputs": [
    {
     "data": {
      "text/html": [
       "<div>\n",
       "<style scoped>\n",
       "    .dataframe tbody tr th:only-of-type {\n",
       "        vertical-align: middle;\n",
       "    }\n",
       "\n",
       "    .dataframe tbody tr th {\n",
       "        vertical-align: top;\n",
       "    }\n",
       "\n",
       "    .dataframe thead th {\n",
       "        text-align: right;\n",
       "    }\n",
       "</style>\n",
       "<table border=\"1\" class=\"dataframe\">\n",
       "  <thead>\n",
       "    <tr style=\"text-align: right;\">\n",
       "      <th></th>\n",
       "      <th>district</th>\n",
       "      <th>y_coordinate</th>\n",
       "      <th>latitude</th>\n",
       "      <th>x_coordinate</th>\n",
       "      <th>domestic</th>\n",
       "      <th>longitude</th>\n",
       "      <th>primary_type</th>\n",
       "      <th>arrest</th>\n",
       "      <th>month</th>\n",
       "    </tr>\n",
       "  </thead>\n",
       "  <tbody>\n",
       "    <tr>\n",
       "      <th>0</th>\n",
       "      <td>022</td>\n",
       "      <td>1828441.0</td>\n",
       "      <td>41.684790</td>\n",
       "      <td>1167266.0</td>\n",
       "      <td>0</td>\n",
       "      <td>-87.663315</td>\n",
       "      <td>CRIMINAL DAMAGE</td>\n",
       "      <td>0</td>\n",
       "      <td>2022-11</td>\n",
       "    </tr>\n",
       "    <tr>\n",
       "      <th>1</th>\n",
       "      <td>019</td>\n",
       "      <td>1916912.0</td>\n",
       "      <td>41.927623</td>\n",
       "      <td>1164516.0</td>\n",
       "      <td>0</td>\n",
       "      <td>-87.670886</td>\n",
       "      <td>NARCOTICS</td>\n",
       "      <td>1</td>\n",
       "      <td>2022-11</td>\n",
       "    </tr>\n",
       "    <tr>\n",
       "      <th>2</th>\n",
       "      <td>006</td>\n",
       "      <td>1852903.0</td>\n",
       "      <td>41.751822</td>\n",
       "      <td>1171664.0</td>\n",
       "      <td>0</td>\n",
       "      <td>-87.646501</td>\n",
       "      <td>CRIMINAL DAMAGE</td>\n",
       "      <td>0</td>\n",
       "      <td>2022-11</td>\n",
       "    </tr>\n",
       "    <tr>\n",
       "      <th>3</th>\n",
       "      <td>014</td>\n",
       "      <td>1908059.0</td>\n",
       "      <td>41.903379</td>\n",
       "      <td>1162183.0</td>\n",
       "      <td>0</td>\n",
       "      <td>-87.679707</td>\n",
       "      <td>BATTERY</td>\n",
       "      <td>0</td>\n",
       "      <td>2022-11</td>\n",
       "    </tr>\n",
       "    <tr>\n",
       "      <th>4</th>\n",
       "      <td>019</td>\n",
       "      <td>1922582.0</td>\n",
       "      <td>41.943056</td>\n",
       "      <td>1170328.0</td>\n",
       "      <td>0</td>\n",
       "      <td>-87.649363</td>\n",
       "      <td>THEFT</td>\n",
       "      <td>0</td>\n",
       "      <td>2022-11</td>\n",
       "    </tr>\n",
       "  </tbody>\n",
       "</table>\n",
       "</div>"
      ],
      "text/plain": [
       "  district  y_coordinate   latitude  x_coordinate  domestic  longitude  \\\n",
       "0      022     1828441.0  41.684790     1167266.0         0 -87.663315   \n",
       "1      019     1916912.0  41.927623     1164516.0         0 -87.670886   \n",
       "2      006     1852903.0  41.751822     1171664.0         0 -87.646501   \n",
       "3      014     1908059.0  41.903379     1162183.0         0 -87.679707   \n",
       "4      019     1922582.0  41.943056     1170328.0         0 -87.649363   \n",
       "\n",
       "      primary_type  arrest    month  \n",
       "0  CRIMINAL DAMAGE       0  2022-11  \n",
       "1        NARCOTICS       1  2022-11  \n",
       "2  CRIMINAL DAMAGE       0  2022-11  \n",
       "3          BATTERY       0  2022-11  \n",
       "4            THEFT       0  2022-11  "
      ]
     },
     "execution_count": 17,
     "metadata": {},
     "output_type": "execute_result"
    }
   ],
   "source": [
    "crime_df_new = crime_df_new.drop([\"fbi_code\"], axis = 1)\n",
    "crime_df_new.head()"
   ]
  },
  {
   "cell_type": "code",
   "execution_count": 18,
   "id": "7e22c5bf",
   "metadata": {
    "ExecuteTime": {
     "end_time": "2022-11-18T19:45:53.341283Z",
     "start_time": "2022-11-18T19:45:51.404541Z"
    }
   },
   "outputs": [
    {
     "data": {
      "text/html": [
       "<div>\n",
       "<style scoped>\n",
       "    .dataframe tbody tr th:only-of-type {\n",
       "        vertical-align: middle;\n",
       "    }\n",
       "\n",
       "    .dataframe tbody tr th {\n",
       "        vertical-align: top;\n",
       "    }\n",
       "\n",
       "    .dataframe thead th {\n",
       "        text-align: right;\n",
       "    }\n",
       "</style>\n",
       "<table border=\"1\" class=\"dataframe\">\n",
       "  <thead>\n",
       "    <tr style=\"text-align: right;\">\n",
       "      <th></th>\n",
       "      <th>Primary Type</th>\n",
       "      <th>Target Rate</th>\n",
       "      <th>Proportion</th>\n",
       "    </tr>\n",
       "  </thead>\n",
       "  <tbody>\n",
       "    <tr>\n",
       "      <th>26</th>\n",
       "      <td>HUMAN TRAFFICKING</td>\n",
       "      <td>0.000</td>\n",
       "      <td>0.000</td>\n",
       "    </tr>\n",
       "    <tr>\n",
       "      <th>23</th>\n",
       "      <td>INTIMIDATION</td>\n",
       "      <td>0.007</td>\n",
       "      <td>0.001</td>\n",
       "    </tr>\n",
       "    <tr>\n",
       "      <th>5</th>\n",
       "      <td>DECEPTIVE PRACTICE</td>\n",
       "      <td>0.015</td>\n",
       "      <td>0.063</td>\n",
       "    </tr>\n",
       "    <tr>\n",
       "      <th>13</th>\n",
       "      <td>CRIMINAL SEXUAL ASSAULT</td>\n",
       "      <td>0.023</td>\n",
       "      <td>0.007</td>\n",
       "    </tr>\n",
       "    <tr>\n",
       "      <th>4</th>\n",
       "      <td>MOTOR VEHICLE THEFT</td>\n",
       "      <td>0.025</td>\n",
       "      <td>0.083</td>\n",
       "    </tr>\n",
       "    <tr>\n",
       "      <th>2</th>\n",
       "      <td>CRIMINAL DAMAGE</td>\n",
       "      <td>0.032</td>\n",
       "      <td>0.115</td>\n",
       "    </tr>\n",
       "    <tr>\n",
       "      <th>0</th>\n",
       "      <td>THEFT</td>\n",
       "      <td>0.035</td>\n",
       "      <td>0.232</td>\n",
       "    </tr>\n",
       "    <tr>\n",
       "      <th>9</th>\n",
       "      <td>BURGLARY</td>\n",
       "      <td>0.038</td>\n",
       "      <td>0.032</td>\n",
       "    </tr>\n",
       "    <tr>\n",
       "      <th>18</th>\n",
       "      <td>STALKING</td>\n",
       "      <td>0.044</td>\n",
       "      <td>0.002</td>\n",
       "    </tr>\n",
       "    <tr>\n",
       "      <th>8</th>\n",
       "      <td>ROBBERY</td>\n",
       "      <td>0.048</td>\n",
       "      <td>0.037</td>\n",
       "    </tr>\n",
       "    <tr>\n",
       "      <th>12</th>\n",
       "      <td>OFFENSE INVOLVING CHILDREN</td>\n",
       "      <td>0.052</td>\n",
       "      <td>0.008</td>\n",
       "    </tr>\n",
       "    <tr>\n",
       "      <th>14</th>\n",
       "      <td>SEX OFFENSE</td>\n",
       "      <td>0.057</td>\n",
       "      <td>0.005</td>\n",
       "    </tr>\n",
       "    <tr>\n",
       "      <th>17</th>\n",
       "      <td>ARSON</td>\n",
       "      <td>0.062</td>\n",
       "      <td>0.002</td>\n",
       "    </tr>\n",
       "    <tr>\n",
       "      <th>24</th>\n",
       "      <td>KIDNAPPING</td>\n",
       "      <td>0.068</td>\n",
       "      <td>0.001</td>\n",
       "    </tr>\n",
       "    <tr>\n",
       "      <th>3</th>\n",
       "      <td>ASSAULT</td>\n",
       "      <td>0.095</td>\n",
       "      <td>0.090</td>\n",
       "    </tr>\n",
       "    <tr>\n",
       "      <th>1</th>\n",
       "      <td>BATTERY</td>\n",
       "      <td>0.137</td>\n",
       "      <td>0.177</td>\n",
       "    </tr>\n",
       "    <tr>\n",
       "      <th>6</th>\n",
       "      <td>OTHER OFFENSE</td>\n",
       "      <td>0.145</td>\n",
       "      <td>0.062</td>\n",
       "    </tr>\n",
       "    <tr>\n",
       "      <th>16</th>\n",
       "      <td>HOMICIDE</td>\n",
       "      <td>0.269</td>\n",
       "      <td>0.003</td>\n",
       "    </tr>\n",
       "    <tr>\n",
       "      <th>10</th>\n",
       "      <td>CRIMINAL TRESPASS</td>\n",
       "      <td>0.293</td>\n",
       "      <td>0.018</td>\n",
       "    </tr>\n",
       "    <tr>\n",
       "      <th>29</th>\n",
       "      <td>OTHER NARCOTIC VIOLATION</td>\n",
       "      <td>0.400</td>\n",
       "      <td>0.000</td>\n",
       "    </tr>\n",
       "    <tr>\n",
       "      <th>15</th>\n",
       "      <td>PUBLIC PEACE VIOLATION</td>\n",
       "      <td>0.444</td>\n",
       "      <td>0.003</td>\n",
       "    </tr>\n",
       "    <tr>\n",
       "      <th>30</th>\n",
       "      <td>NON-CRIMINAL</td>\n",
       "      <td>0.500</td>\n",
       "      <td>0.000</td>\n",
       "    </tr>\n",
       "    <tr>\n",
       "      <th>7</th>\n",
       "      <td>WEAPONS VIOLATION</td>\n",
       "      <td>0.625</td>\n",
       "      <td>0.038</td>\n",
       "    </tr>\n",
       "    <tr>\n",
       "      <th>25</th>\n",
       "      <td>OBSCENITY</td>\n",
       "      <td>0.649</td>\n",
       "      <td>0.000</td>\n",
       "    </tr>\n",
       "    <tr>\n",
       "      <th>28</th>\n",
       "      <td>PUBLIC INDECENCY</td>\n",
       "      <td>0.800</td>\n",
       "      <td>0.000</td>\n",
       "    </tr>\n",
       "    <tr>\n",
       "      <th>27</th>\n",
       "      <td>GAMBLING</td>\n",
       "      <td>0.889</td>\n",
       "      <td>0.000</td>\n",
       "    </tr>\n",
       "    <tr>\n",
       "      <th>19</th>\n",
       "      <td>INTERFERENCE WITH PUBLIC OFFICER</td>\n",
       "      <td>0.892</td>\n",
       "      <td>0.002</td>\n",
       "    </tr>\n",
       "    <tr>\n",
       "      <th>11</th>\n",
       "      <td>NARCOTICS</td>\n",
       "      <td>0.952</td>\n",
       "      <td>0.017</td>\n",
       "    </tr>\n",
       "    <tr>\n",
       "      <th>22</th>\n",
       "      <td>CONCEALED CARRY LICENSE VIOLATION</td>\n",
       "      <td>0.961</td>\n",
       "      <td>0.001</td>\n",
       "    </tr>\n",
       "    <tr>\n",
       "      <th>21</th>\n",
       "      <td>LIQUOR LAW VIOLATION</td>\n",
       "      <td>0.983</td>\n",
       "      <td>0.001</td>\n",
       "    </tr>\n",
       "    <tr>\n",
       "      <th>20</th>\n",
       "      <td>PROSTITUTION</td>\n",
       "      <td>0.989</td>\n",
       "      <td>0.001</td>\n",
       "    </tr>\n",
       "  </tbody>\n",
       "</table>\n",
       "</div>"
      ],
      "text/plain": [
       "                         Primary Type  Target Rate  Proportion\n",
       "26                  HUMAN TRAFFICKING        0.000       0.000\n",
       "23                       INTIMIDATION        0.007       0.001\n",
       "5                  DECEPTIVE PRACTICE        0.015       0.063\n",
       "13            CRIMINAL SEXUAL ASSAULT        0.023       0.007\n",
       "4                 MOTOR VEHICLE THEFT        0.025       0.083\n",
       "2                     CRIMINAL DAMAGE        0.032       0.115\n",
       "0                               THEFT        0.035       0.232\n",
       "9                            BURGLARY        0.038       0.032\n",
       "18                           STALKING        0.044       0.002\n",
       "8                             ROBBERY        0.048       0.037\n",
       "12         OFFENSE INVOLVING CHILDREN        0.052       0.008\n",
       "14                        SEX OFFENSE        0.057       0.005\n",
       "17                              ARSON        0.062       0.002\n",
       "24                         KIDNAPPING        0.068       0.001\n",
       "3                             ASSAULT        0.095       0.090\n",
       "1                             BATTERY        0.137       0.177\n",
       "6                       OTHER OFFENSE        0.145       0.062\n",
       "16                           HOMICIDE        0.269       0.003\n",
       "10                  CRIMINAL TRESPASS        0.293       0.018\n",
       "29           OTHER NARCOTIC VIOLATION        0.400       0.000\n",
       "15             PUBLIC PEACE VIOLATION        0.444       0.003\n",
       "30                       NON-CRIMINAL        0.500       0.000\n",
       "7                   WEAPONS VIOLATION        0.625       0.038\n",
       "25                          OBSCENITY        0.649       0.000\n",
       "28                   PUBLIC INDECENCY        0.800       0.000\n",
       "27                           GAMBLING        0.889       0.000\n",
       "19   INTERFERENCE WITH PUBLIC OFFICER        0.892       0.002\n",
       "11                          NARCOTICS        0.952       0.017\n",
       "22  CONCEALED CARRY LICENSE VIOLATION        0.961       0.001\n",
       "21               LIQUOR LAW VIOLATION        0.983       0.001\n",
       "20                       PROSTITUTION        0.989       0.001"
      ]
     },
     "execution_count": 18,
     "metadata": {},
     "output_type": "execute_result"
    }
   ],
   "source": [
    "#Primary Type\n",
    "pd.DataFrame({\"Primary Type\": crime_df_new[\"primary_type\"].value_counts().index, \"Target Rate\": [round(statistics.mean(crime_df_new[\"arrest\"].loc[crime_df_new[\"primary_type\"] == i]), 3) for i in crime_df_new[\"primary_type\"].value_counts().index], \"Proportion\": [round(crime_df_new.loc[crime_df_new[\"primary_type\"] == i].shape[0] / crime_df_new.shape[0], 3) for i in crime_df_new[\"primary_type\"].value_counts().index]}).sort_values(by = \"Target Rate\")\n",
    "                                                                                                                                                                                                                               "
   ]
  },
  {
   "cell_type": "markdown",
   "id": "f1843b85",
   "metadata": {},
   "source": [
    "##### Decision: Bottom 5, Next 5, Next 7, Next 2, Next 5, Last 7"
   ]
  },
  {
   "cell_type": "code",
   "execution_count": 19,
   "id": "4654d0fb",
   "metadata": {
    "ExecuteTime": {
     "end_time": "2022-11-18T19:45:53.853274Z",
     "start_time": "2022-11-18T19:45:53.343424Z"
    }
   },
   "outputs": [
    {
     "data": {
      "text/html": [
       "<div>\n",
       "<style scoped>\n",
       "    .dataframe tbody tr th:only-of-type {\n",
       "        vertical-align: middle;\n",
       "    }\n",
       "\n",
       "    .dataframe tbody tr th {\n",
       "        vertical-align: top;\n",
       "    }\n",
       "\n",
       "    .dataframe thead th {\n",
       "        text-align: right;\n",
       "    }\n",
       "</style>\n",
       "<table border=\"1\" class=\"dataframe\">\n",
       "  <thead>\n",
       "    <tr style=\"text-align: right;\">\n",
       "      <th></th>\n",
       "      <th>Month</th>\n",
       "      <th>Target Rate</th>\n",
       "      <th>Proportion</th>\n",
       "    </tr>\n",
       "  </thead>\n",
       "  <tbody>\n",
       "    <tr>\n",
       "      <th>10</th>\n",
       "      <td>2022-11</td>\n",
       "      <td>0.080</td>\n",
       "      <td>0.034</td>\n",
       "    </tr>\n",
       "    <tr>\n",
       "      <th>0</th>\n",
       "      <td>2022-10</td>\n",
       "      <td>0.089</td>\n",
       "      <td>0.111</td>\n",
       "    </tr>\n",
       "    <tr>\n",
       "      <th>3</th>\n",
       "      <td>2022-09</td>\n",
       "      <td>0.101</td>\n",
       "      <td>0.108</td>\n",
       "    </tr>\n",
       "    <tr>\n",
       "      <th>1</th>\n",
       "      <td>2022-07</td>\n",
       "      <td>0.104</td>\n",
       "      <td>0.109</td>\n",
       "    </tr>\n",
       "    <tr>\n",
       "      <th>2</th>\n",
       "      <td>2022-08</td>\n",
       "      <td>0.105</td>\n",
       "      <td>0.109</td>\n",
       "    </tr>\n",
       "    <tr>\n",
       "      <th>8</th>\n",
       "      <td>2022-01</td>\n",
       "      <td>0.111</td>\n",
       "      <td>0.076</td>\n",
       "    </tr>\n",
       "    <tr>\n",
       "      <th>4</th>\n",
       "      <td>2022-06</td>\n",
       "      <td>0.118</td>\n",
       "      <td>0.101</td>\n",
       "    </tr>\n",
       "    <tr>\n",
       "      <th>6</th>\n",
       "      <td>2022-03</td>\n",
       "      <td>0.121</td>\n",
       "      <td>0.090</td>\n",
       "    </tr>\n",
       "    <tr>\n",
       "      <th>7</th>\n",
       "      <td>2022-04</td>\n",
       "      <td>0.130</td>\n",
       "      <td>0.088</td>\n",
       "    </tr>\n",
       "    <tr>\n",
       "      <th>5</th>\n",
       "      <td>2022-05</td>\n",
       "      <td>0.138</td>\n",
       "      <td>0.099</td>\n",
       "    </tr>\n",
       "    <tr>\n",
       "      <th>9</th>\n",
       "      <td>2022-02</td>\n",
       "      <td>0.138</td>\n",
       "      <td>0.075</td>\n",
       "    </tr>\n",
       "  </tbody>\n",
       "</table>\n",
       "</div>"
      ],
      "text/plain": [
       "      Month  Target Rate  Proportion\n",
       "10  2022-11        0.080       0.034\n",
       "0   2022-10        0.089       0.111\n",
       "3   2022-09        0.101       0.108\n",
       "1   2022-07        0.104       0.109\n",
       "2   2022-08        0.105       0.109\n",
       "8   2022-01        0.111       0.076\n",
       "4   2022-06        0.118       0.101\n",
       "6   2022-03        0.121       0.090\n",
       "7   2022-04        0.130       0.088\n",
       "5   2022-05        0.138       0.099\n",
       "9   2022-02        0.138       0.075"
      ]
     },
     "execution_count": 19,
     "metadata": {},
     "output_type": "execute_result"
    }
   ],
   "source": [
    "#Month\n",
    "pd.DataFrame({\"Month\": crime_df_new[\"month\"].value_counts().index, \"Target Rate\": [round(statistics.mean(crime_df_new[\"arrest\"].loc[crime_df_new[\"month\"] == i]), 3) for i in crime_df_new[\"month\"].value_counts().index], \"Proportion\": [round(crime_df_new.loc[crime_df_new[\"month\"] == i].shape[0] / crime_df_new.shape[0], 3) for i in crime_df_new[\"month\"].value_counts().index]}).sort_values(by = \"Target Rate\")\n",
    "                                                                                                                                                                                                                               "
   ]
  },
  {
   "cell_type": "markdown",
   "id": "d9ffac32",
   "metadata": {},
   "source": [
    "##### Decision: Bins good to remain on their own, may consider seasonal binning later"
   ]
  },
  {
   "cell_type": "markdown",
   "id": "1d5c9505",
   "metadata": {},
   "source": [
    "### Implementing Bins"
   ]
  },
  {
   "cell_type": "code",
   "execution_count": 20,
   "id": "865504da",
   "metadata": {
    "ExecuteTime": {
     "end_time": "2022-11-18T19:45:53.898225Z",
     "start_time": "2022-11-18T19:45:53.855852Z"
    }
   },
   "outputs": [],
   "source": [
    "#district\n",
    "crime_df_new.loc[crime_df_new[\"district\"].isin([\"16\", \"019\"]), \"district\"] = \"16/019\"\n",
    "crime_df_new.loc[crime_df_new[\"district\"].isin([\"011\", \"031\"]), \"district\"] = \"011/031\""
   ]
  },
  {
   "cell_type": "code",
   "execution_count": 21,
   "id": "bf58331b",
   "metadata": {
    "ExecuteTime": {
     "end_time": "2022-11-18T19:45:55.337379Z",
     "start_time": "2022-11-18T19:45:53.900797Z"
    }
   },
   "outputs": [
    {
     "data": {
      "text/html": [
       "<div>\n",
       "<style scoped>\n",
       "    .dataframe tbody tr th:only-of-type {\n",
       "        vertical-align: middle;\n",
       "    }\n",
       "\n",
       "    .dataframe tbody tr th {\n",
       "        vertical-align: top;\n",
       "    }\n",
       "\n",
       "    .dataframe thead th {\n",
       "        text-align: right;\n",
       "    }\n",
       "</style>\n",
       "<table border=\"1\" class=\"dataframe\">\n",
       "  <thead>\n",
       "    <tr style=\"text-align: right;\">\n",
       "      <th></th>\n",
       "      <th>District</th>\n",
       "      <th>Target Rate</th>\n",
       "      <th>Proportion</th>\n",
       "    </tr>\n",
       "  </thead>\n",
       "  <tbody>\n",
       "    <tr>\n",
       "      <th>7</th>\n",
       "      <td>16/019</td>\n",
       "      <td>0.072</td>\n",
       "      <td>0.051</td>\n",
       "    </tr>\n",
       "    <tr>\n",
       "      <th>2</th>\n",
       "      <td>012</td>\n",
       "      <td>0.082</td>\n",
       "      <td>0.059</td>\n",
       "    </tr>\n",
       "    <tr>\n",
       "      <th>10</th>\n",
       "      <td>002</td>\n",
       "      <td>0.086</td>\n",
       "      <td>0.049</td>\n",
       "    </tr>\n",
       "    <tr>\n",
       "      <th>21</th>\n",
       "      <td>020</td>\n",
       "      <td>0.087</td>\n",
       "      <td>0.021</td>\n",
       "    </tr>\n",
       "    <tr>\n",
       "      <th>1</th>\n",
       "      <td>008</td>\n",
       "      <td>0.091</td>\n",
       "      <td>0.062</td>\n",
       "    </tr>\n",
       "    <tr>\n",
       "      <th>8</th>\n",
       "      <td>003</td>\n",
       "      <td>0.092</td>\n",
       "      <td>0.050</td>\n",
       "    </tr>\n",
       "    <tr>\n",
       "      <th>3</th>\n",
       "      <td>004</td>\n",
       "      <td>0.093</td>\n",
       "      <td>0.059</td>\n",
       "    </tr>\n",
       "    <tr>\n",
       "      <th>19</th>\n",
       "      <td>022</td>\n",
       "      <td>0.099</td>\n",
       "      <td>0.032</td>\n",
       "    </tr>\n",
       "    <tr>\n",
       "      <th>17</th>\n",
       "      <td>024</td>\n",
       "      <td>0.099</td>\n",
       "      <td>0.036</td>\n",
       "    </tr>\n",
       "    <tr>\n",
       "      <th>0</th>\n",
       "      <td>006</td>\n",
       "      <td>0.104</td>\n",
       "      <td>0.062</td>\n",
       "    </tr>\n",
       "    <tr>\n",
       "      <th>18</th>\n",
       "      <td>014</td>\n",
       "      <td>0.104</td>\n",
       "      <td>0.034</td>\n",
       "    </tr>\n",
       "    <tr>\n",
       "      <th>12</th>\n",
       "      <td>009</td>\n",
       "      <td>0.106</td>\n",
       "      <td>0.044</td>\n",
       "    </tr>\n",
       "    <tr>\n",
       "      <th>20</th>\n",
       "      <td>017</td>\n",
       "      <td>0.107</td>\n",
       "      <td>0.029</td>\n",
       "    </tr>\n",
       "    <tr>\n",
       "      <th>6</th>\n",
       "      <td>018</td>\n",
       "      <td>0.113</td>\n",
       "      <td>0.053</td>\n",
       "    </tr>\n",
       "    <tr>\n",
       "      <th>11</th>\n",
       "      <td>007</td>\n",
       "      <td>0.117</td>\n",
       "      <td>0.044</td>\n",
       "    </tr>\n",
       "    <tr>\n",
       "      <th>4</th>\n",
       "      <td>001</td>\n",
       "      <td>0.119</td>\n",
       "      <td>0.055</td>\n",
       "    </tr>\n",
       "    <tr>\n",
       "      <th>15</th>\n",
       "      <td>016</td>\n",
       "      <td>0.121</td>\n",
       "      <td>0.037</td>\n",
       "    </tr>\n",
       "    <tr>\n",
       "      <th>14</th>\n",
       "      <td>005</td>\n",
       "      <td>0.131</td>\n",
       "      <td>0.041</td>\n",
       "    </tr>\n",
       "    <tr>\n",
       "      <th>9</th>\n",
       "      <td>025</td>\n",
       "      <td>0.136</td>\n",
       "      <td>0.050</td>\n",
       "    </tr>\n",
       "    <tr>\n",
       "      <th>16</th>\n",
       "      <td>015</td>\n",
       "      <td>0.150</td>\n",
       "      <td>0.036</td>\n",
       "    </tr>\n",
       "    <tr>\n",
       "      <th>13</th>\n",
       "      <td>010</td>\n",
       "      <td>0.170</td>\n",
       "      <td>0.042</td>\n",
       "    </tr>\n",
       "    <tr>\n",
       "      <th>5</th>\n",
       "      <td>011/031</td>\n",
       "      <td>0.207</td>\n",
       "      <td>0.055</td>\n",
       "    </tr>\n",
       "  </tbody>\n",
       "</table>\n",
       "</div>"
      ],
      "text/plain": [
       "   District  Target Rate  Proportion\n",
       "7    16/019        0.072       0.051\n",
       "2       012        0.082       0.059\n",
       "10      002        0.086       0.049\n",
       "21      020        0.087       0.021\n",
       "1       008        0.091       0.062\n",
       "8       003        0.092       0.050\n",
       "3       004        0.093       0.059\n",
       "19      022        0.099       0.032\n",
       "17      024        0.099       0.036\n",
       "0       006        0.104       0.062\n",
       "18      014        0.104       0.034\n",
       "12      009        0.106       0.044\n",
       "20      017        0.107       0.029\n",
       "6       018        0.113       0.053\n",
       "11      007        0.117       0.044\n",
       "4       001        0.119       0.055\n",
       "15      016        0.121       0.037\n",
       "14      005        0.131       0.041\n",
       "9       025        0.136       0.050\n",
       "16      015        0.150       0.036\n",
       "13      010        0.170       0.042\n",
       "5   011/031        0.207       0.055"
      ]
     },
     "execution_count": 21,
     "metadata": {},
     "output_type": "execute_result"
    }
   ],
   "source": [
    "#checking new values\n",
    "pd.DataFrame({\"District\": crime_df_new[\"district\"].value_counts().index, \"Target Rate\": [round(statistics.mean(crime_df_new[\"arrest\"].loc[crime_df_new[\"district\"] == i]), 3) for i in crime_df_new[\"district\"].value_counts().index], \"Proportion\": [round(crime_df_new.loc[crime_df_new[\"district\"] == i].shape[0] / crime_df_new.shape[0], 3) for i in crime_df_new[\"district\"].value_counts().index]}).sort_values(by = \"Target Rate\")\n",
    "                                                                                                                                                                                                                               "
   ]
  },
  {
   "cell_type": "code",
   "execution_count": 22,
   "id": "a452143a",
   "metadata": {
    "ExecuteTime": {
     "end_time": "2022-11-18T19:45:55.460848Z",
     "start_time": "2022-11-18T19:45:55.340331Z"
    }
   },
   "outputs": [],
   "source": [
    "#Primary Type\n",
    "crime_df_new.loc[crime_df_new[\"primary_type\"].isin([\"HUMAN TRAFFICKING\", \"INTIMIDATION\", \"DECEPTIVE PRACTICE\", \"CRIMINAL SEXUAL ASSAULT\", \"MOTOR VEHICLE THEFT\"]), \"primary_type\"] = \"bin1\"\n",
    "crime_df_new.loc[crime_df_new[\"primary_type\"].isin([\"CRIMINAL DAMAGE\", \"THEFT\", \"BURGLARY\", \"STALKING\", \"ROBBERY\"]), \"primary_type\"] = \"bin2\"\n",
    "crime_df_new.loc[crime_df_new[\"primary_type\"].isin([\"OFFENSE INVOLVING CHILDREN\", \"SEX OFFENSE\", \"ARSON\", \"KIDNAPPING\", \"ASSAULT\", \"BATTERY\", \"OTHER OFFENSE\"]), \"primary_type\"] = \"bin3\"\n",
    "crime_df_new.loc[crime_df_new[\"primary_type\"].isin([\"HOMICIDE\", \"CRIMINAL TRESPASS\"]), \"primary_type\"] = \"bin4\"\n",
    "crime_df_new.loc[crime_df_new[\"primary_type\"].isin([\"OTHER NARCOTIC VIOLATION\", \"PUBLIC PEACE VIOLATION\", \"NON-CRIMINAL\", \"WEAPONS VIOLATION\", \"OBSCENITY\"]), \"primary_type\"] = \"bin5\"\n",
    "crime_df_new.loc[crime_df_new[\"primary_type\"].isin([\"PUBLIC INDECENCY\", \"GAMBLING\", \"INTERFERENCE WITH PUBLIC OFFICER\", \"NARCOTICS\", \"CONCEALED CARRY LICENSE VIOLATION\", \"LIQUOR LAW VIOLATION\", \"PROSTITUTION\"]), \"primary_type\"] = \"bin6\"\n"
   ]
  },
  {
   "cell_type": "code",
   "execution_count": 23,
   "id": "4f4341ce",
   "metadata": {
    "ExecuteTime": {
     "end_time": "2022-11-18T19:45:55.792418Z",
     "start_time": "2022-11-18T19:45:55.463014Z"
    }
   },
   "outputs": [
    {
     "data": {
      "text/html": [
       "<div>\n",
       "<style scoped>\n",
       "    .dataframe tbody tr th:only-of-type {\n",
       "        vertical-align: middle;\n",
       "    }\n",
       "\n",
       "    .dataframe tbody tr th {\n",
       "        vertical-align: top;\n",
       "    }\n",
       "\n",
       "    .dataframe thead th {\n",
       "        text-align: right;\n",
       "    }\n",
       "</style>\n",
       "<table border=\"1\" class=\"dataframe\">\n",
       "  <thead>\n",
       "    <tr style=\"text-align: right;\">\n",
       "      <th></th>\n",
       "      <th>Primary Type</th>\n",
       "      <th>Target Rate</th>\n",
       "      <th>Proportion</th>\n",
       "    </tr>\n",
       "  </thead>\n",
       "  <tbody>\n",
       "    <tr>\n",
       "      <th>2</th>\n",
       "      <td>bin1</td>\n",
       "      <td>0.020</td>\n",
       "      <td>0.153</td>\n",
       "    </tr>\n",
       "    <tr>\n",
       "      <th>0</th>\n",
       "      <td>bin2</td>\n",
       "      <td>0.036</td>\n",
       "      <td>0.418</td>\n",
       "    </tr>\n",
       "    <tr>\n",
       "      <th>1</th>\n",
       "      <td>bin3</td>\n",
       "      <td>0.124</td>\n",
       "      <td>0.345</td>\n",
       "    </tr>\n",
       "    <tr>\n",
       "      <th>5</th>\n",
       "      <td>bin4</td>\n",
       "      <td>0.289</td>\n",
       "      <td>0.021</td>\n",
       "    </tr>\n",
       "    <tr>\n",
       "      <th>3</th>\n",
       "      <td>bin5</td>\n",
       "      <td>0.612</td>\n",
       "      <td>0.042</td>\n",
       "    </tr>\n",
       "    <tr>\n",
       "      <th>4</th>\n",
       "      <td>bin6</td>\n",
       "      <td>0.951</td>\n",
       "      <td>0.022</td>\n",
       "    </tr>\n",
       "  </tbody>\n",
       "</table>\n",
       "</div>"
      ],
      "text/plain": [
       "  Primary Type  Target Rate  Proportion\n",
       "2         bin1        0.020       0.153\n",
       "0         bin2        0.036       0.418\n",
       "1         bin3        0.124       0.345\n",
       "5         bin4        0.289       0.021\n",
       "3         bin5        0.612       0.042\n",
       "4         bin6        0.951       0.022"
      ]
     },
     "execution_count": 23,
     "metadata": {},
     "output_type": "execute_result"
    }
   ],
   "source": [
    "#checking new values\n",
    "pd.DataFrame({\"Primary Type\": crime_df_new[\"primary_type\"].value_counts().index, \"Target Rate\": [round(statistics.mean(crime_df_new[\"arrest\"].loc[crime_df_new[\"primary_type\"] == i]), 3) for i in crime_df_new[\"primary_type\"].value_counts().index], \"Proportion\": [round(crime_df_new.loc[crime_df_new[\"primary_type\"] == i].shape[0] / crime_df_new.shape[0], 3) for i in crime_df_new[\"primary_type\"].value_counts().index]}).sort_values(by = \"Target Rate\")\n",
    "                                                                                                                                                                                                                               "
   ]
  },
  {
   "cell_type": "markdown",
   "id": "7456bdd7",
   "metadata": {},
   "source": [
    "# WoE (Weight of Evidence) Coding Categorical Variables\n",
    "### Converts categoricals to numerics to allow their use in the model"
   ]
  },
  {
   "cell_type": "code",
   "execution_count": 24,
   "id": "21b40917",
   "metadata": {
    "ExecuteTime": {
     "end_time": "2022-11-18T19:45:55.924523Z",
     "start_time": "2022-11-18T19:45:55.795378Z"
    }
   },
   "outputs": [],
   "source": [
    "#dropping na values\n",
    "crime_df_new = crime_df_new.dropna()"
   ]
  },
  {
   "cell_type": "code",
   "execution_count": 25,
   "id": "45a5d3e1",
   "metadata": {
    "ExecuteTime": {
     "end_time": "2022-11-18T19:45:57.127169Z",
     "start_time": "2022-11-18T19:45:55.927592Z"
    }
   },
   "outputs": [],
   "source": [
    "#train / test split\n",
    "from sklearn.model_selection import train_test_split\n",
    "X_train, X_test, y_train, y_test = train_test_split(crime_df_new.drop([\"arrest\"], axis = 1), crime_df_new[\"arrest\"], shuffle=True)"
   ]
  },
  {
   "cell_type": "code",
   "execution_count": 26,
   "id": "aa178dce",
   "metadata": {
    "ExecuteTime": {
     "end_time": "2022-11-18T19:45:57.133139Z",
     "start_time": "2022-11-18T19:45:57.129637Z"
    }
   },
   "outputs": [
    {
     "name": "stdout",
     "output_type": "stream",
     "text": [
      "(150574, 8)\n",
      "(50192, 8)\n",
      "(150574,)\n",
      "(50192,)\n"
     ]
    }
   ],
   "source": [
    "print(X_train.shape)\n",
    "print(X_test.shape)\n",
    "print(y_train.shape)\n",
    "print(y_test.shape)"
   ]
  },
  {
   "cell_type": "code",
   "execution_count": 27,
   "id": "eb2404c2",
   "metadata": {
    "ExecuteTime": {
     "end_time": "2022-11-18T19:45:57.223733Z",
     "start_time": "2022-11-18T19:45:57.135837Z"
    }
   },
   "outputs": [
    {
     "name": "stdout",
     "output_type": "stream",
     "text": [
      "0.11261572383014332\n",
      "0.11631335671023271\n"
     ]
    }
   ],
   "source": [
    "#making sure overall target rates are the same\n",
    "print(statistics.mean(y_train.astype(int)))\n",
    "print(statistics.mean(y_test.astype(int)))"
   ]
  },
  {
   "cell_type": "code",
   "execution_count": 28,
   "id": "f9b4c2b9",
   "metadata": {
    "ExecuteTime": {
     "end_time": "2022-11-18T19:45:57.454863Z",
     "start_time": "2022-11-18T19:45:57.448717Z"
    }
   },
   "outputs": [
    {
     "data": {
      "text/plain": [
       "['district', 'domestic', 'primary_type', 'month']"
      ]
     },
     "execution_count": 28,
     "metadata": {},
     "output_type": "execute_result"
    }
   ],
   "source": [
    "#variables to be woe coded\n",
    "cat_vars_new = [var for var in crime_df_new if crime_df_new[var].dtypes == \"O\" or var == \"domestic\"]\n",
    "cat_vars_new"
   ]
  },
  {
   "cell_type": "code",
   "execution_count": 29,
   "id": "956f3a2f",
   "metadata": {
    "ExecuteTime": {
     "end_time": "2022-11-18T19:45:57.656211Z",
     "start_time": "2022-11-18T19:45:57.458034Z"
    }
   },
   "outputs": [],
   "source": [
    "import category_encoders as ce"
   ]
  },
  {
   "cell_type": "code",
   "execution_count": 30,
   "id": "d22c5d8e",
   "metadata": {
    "ExecuteTime": {
     "end_time": "2022-11-18T19:45:59.188515Z",
     "start_time": "2022-11-18T19:45:57.658296Z"
    }
   },
   "outputs": [],
   "source": [
    "#implementing woe coding\n",
    "woe = ce.WOEEncoder(cols = cat_vars_new)\n",
    "woe.fit(X_train, y_train)\n",
    "train_woe = woe.transform(X_train, y_train)\n",
    "test_woe = woe.transform(X_test)"
   ]
  },
  {
   "cell_type": "code",
   "execution_count": 31,
   "id": "dd3e4e5d",
   "metadata": {
    "ExecuteTime": {
     "end_time": "2022-11-18T19:45:59.212091Z",
     "start_time": "2022-11-18T19:45:59.190979Z"
    }
   },
   "outputs": [
    {
     "data": {
      "text/html": [
       "<div>\n",
       "<style scoped>\n",
       "    .dataframe tbody tr th:only-of-type {\n",
       "        vertical-align: middle;\n",
       "    }\n",
       "\n",
       "    .dataframe tbody tr th {\n",
       "        vertical-align: top;\n",
       "    }\n",
       "\n",
       "    .dataframe thead th {\n",
       "        text-align: right;\n",
       "    }\n",
       "</style>\n",
       "<table border=\"1\" class=\"dataframe\">\n",
       "  <thead>\n",
       "    <tr style=\"text-align: right;\">\n",
       "      <th></th>\n",
       "      <th>district</th>\n",
       "      <th>y_coordinate</th>\n",
       "      <th>latitude</th>\n",
       "      <th>x_coordinate</th>\n",
       "      <th>domestic</th>\n",
       "      <th>longitude</th>\n",
       "      <th>primary_type</th>\n",
       "      <th>month</th>\n",
       "    </tr>\n",
       "  </thead>\n",
       "  <tbody>\n",
       "    <tr>\n",
       "      <th>27314</th>\n",
       "      <td>-0.109762</td>\n",
       "      <td>1874271.0</td>\n",
       "      <td>41.810785</td>\n",
       "      <td>1156133.0</td>\n",
       "      <td>-0.024032</td>\n",
       "      <td>-87.702841</td>\n",
       "      <td>-1.239577</td>\n",
       "      <td>-0.271443</td>\n",
       "    </tr>\n",
       "    <tr>\n",
       "      <th>188120</th>\n",
       "      <td>-0.301641</td>\n",
       "      <td>1873627.0</td>\n",
       "      <td>41.808541</td>\n",
       "      <td>1178398.0</td>\n",
       "      <td>-0.024032</td>\n",
       "      <td>-87.621195</td>\n",
       "      <td>-1.777611</td>\n",
       "      <td>-0.011429</td>\n",
       "    </tr>\n",
       "    <tr>\n",
       "      <th>96502</th>\n",
       "      <td>-0.108569</td>\n",
       "      <td>1853029.0</td>\n",
       "      <td>41.751967</td>\n",
       "      <td>1180605.0</td>\n",
       "      <td>-0.024032</td>\n",
       "      <td>-87.613733</td>\n",
       "      <td>-1.777611</td>\n",
       "      <td>0.036947</td>\n",
       "    </tr>\n",
       "    <tr>\n",
       "      <th>111846</th>\n",
       "      <td>-0.220858</td>\n",
       "      <td>1855006.0</td>\n",
       "      <td>41.757014</td>\n",
       "      <td>1196440.0</td>\n",
       "      <td>-0.024032</td>\n",
       "      <td>-87.555640</td>\n",
       "      <td>-1.777611</td>\n",
       "      <td>0.036947</td>\n",
       "    </tr>\n",
       "    <tr>\n",
       "      <th>92099</th>\n",
       "      <td>-0.457583</td>\n",
       "      <td>1920428.0</td>\n",
       "      <td>41.937140</td>\n",
       "      <td>1170608.0</td>\n",
       "      <td>-0.024032</td>\n",
       "      <td>-87.648397</td>\n",
       "      <td>-1.777611</td>\n",
       "      <td>-0.102124</td>\n",
       "    </tr>\n",
       "  </tbody>\n",
       "</table>\n",
       "</div>"
      ],
      "text/plain": [
       "        district  y_coordinate   latitude  x_coordinate  domestic  longitude  \\\n",
       "27314  -0.109762     1874271.0  41.810785     1156133.0 -0.024032 -87.702841   \n",
       "188120 -0.301641     1873627.0  41.808541     1178398.0 -0.024032 -87.621195   \n",
       "96502  -0.108569     1853029.0  41.751967     1180605.0 -0.024032 -87.613733   \n",
       "111846 -0.220858     1855006.0  41.757014     1196440.0 -0.024032 -87.555640   \n",
       "92099  -0.457583     1920428.0  41.937140     1170608.0 -0.024032 -87.648397   \n",
       "\n",
       "        primary_type     month  \n",
       "27314      -1.239577 -0.271443  \n",
       "188120     -1.777611 -0.011429  \n",
       "96502      -1.777611  0.036947  \n",
       "111846     -1.777611  0.036947  \n",
       "92099      -1.777611 -0.102124  "
      ]
     },
     "execution_count": 31,
     "metadata": {},
     "output_type": "execute_result"
    }
   ],
   "source": [
    "train_woe.head()"
   ]
  },
  {
   "cell_type": "code",
   "execution_count": 32,
   "id": "85a477f1",
   "metadata": {
    "ExecuteTime": {
     "end_time": "2022-11-18T19:45:59.229309Z",
     "start_time": "2022-11-18T19:45:59.215592Z"
    }
   },
   "outputs": [
    {
     "data": {
      "text/html": [
       "<div>\n",
       "<style scoped>\n",
       "    .dataframe tbody tr th:only-of-type {\n",
       "        vertical-align: middle;\n",
       "    }\n",
       "\n",
       "    .dataframe tbody tr th {\n",
       "        vertical-align: top;\n",
       "    }\n",
       "\n",
       "    .dataframe thead th {\n",
       "        text-align: right;\n",
       "    }\n",
       "</style>\n",
       "<table border=\"1\" class=\"dataframe\">\n",
       "  <thead>\n",
       "    <tr style=\"text-align: right;\">\n",
       "      <th></th>\n",
       "      <th>district</th>\n",
       "      <th>y_coordinate</th>\n",
       "      <th>latitude</th>\n",
       "      <th>x_coordinate</th>\n",
       "      <th>domestic</th>\n",
       "      <th>longitude</th>\n",
       "      <th>primary_type</th>\n",
       "      <th>month</th>\n",
       "    </tr>\n",
       "  </thead>\n",
       "  <tbody>\n",
       "    <tr>\n",
       "      <th>180735</th>\n",
       "      <td>0.074210</td>\n",
       "      <td>1897911.0</td>\n",
       "      <td>41.875212</td>\n",
       "      <td>1176884.0</td>\n",
       "      <td>0.102030</td>\n",
       "      <td>-87.626014</td>\n",
       "      <td>0.105908</td>\n",
       "      <td>0.252105</td>\n",
       "    </tr>\n",
       "    <tr>\n",
       "      <th>82822</th>\n",
       "      <td>-0.457583</td>\n",
       "      <td>1917861.0</td>\n",
       "      <td>41.930023</td>\n",
       "      <td>1173915.0</td>\n",
       "      <td>-0.024032</td>\n",
       "      <td>-87.636320</td>\n",
       "      <td>0.105908</td>\n",
       "      <td>-0.102124</td>\n",
       "    </tr>\n",
       "    <tr>\n",
       "      <th>34606</th>\n",
       "      <td>-0.040162</td>\n",
       "      <td>1915884.0</td>\n",
       "      <td>41.924899</td>\n",
       "      <td>1159880.0</td>\n",
       "      <td>-0.024032</td>\n",
       "      <td>-87.687950</td>\n",
       "      <td>-1.777611</td>\n",
       "      <td>-0.123328</td>\n",
       "    </tr>\n",
       "    <tr>\n",
       "      <th>100955</th>\n",
       "      <td>-0.457583</td>\n",
       "      <td>1931169.0</td>\n",
       "      <td>41.966653</td>\n",
       "      <td>1168782.0</td>\n",
       "      <td>-0.024032</td>\n",
       "      <td>-87.654795</td>\n",
       "      <td>-1.239577</td>\n",
       "      <td>0.036947</td>\n",
       "    </tr>\n",
       "    <tr>\n",
       "      <th>124463</th>\n",
       "      <td>0.011964</td>\n",
       "      <td>1865614.0</td>\n",
       "      <td>41.786659</td>\n",
       "      <td>1173643.0</td>\n",
       "      <td>-0.024032</td>\n",
       "      <td>-87.638873</td>\n",
       "      <td>-1.239577</td>\n",
       "      <td>0.229296</td>\n",
       "    </tr>\n",
       "  </tbody>\n",
       "</table>\n",
       "</div>"
      ],
      "text/plain": [
       "        district  y_coordinate   latitude  x_coordinate  domestic  longitude  \\\n",
       "180735  0.074210     1897911.0  41.875212     1176884.0  0.102030 -87.626014   \n",
       "82822  -0.457583     1917861.0  41.930023     1173915.0 -0.024032 -87.636320   \n",
       "34606  -0.040162     1915884.0  41.924899     1159880.0 -0.024032 -87.687950   \n",
       "100955 -0.457583     1931169.0  41.966653     1168782.0 -0.024032 -87.654795   \n",
       "124463  0.011964     1865614.0  41.786659     1173643.0 -0.024032 -87.638873   \n",
       "\n",
       "        primary_type     month  \n",
       "180735      0.105908  0.252105  \n",
       "82822       0.105908 -0.102124  \n",
       "34606      -1.777611 -0.123328  \n",
       "100955     -1.239577  0.036947  \n",
       "124463     -1.239577  0.229296  "
      ]
     },
     "execution_count": 32,
     "metadata": {},
     "output_type": "execute_result"
    }
   ],
   "source": [
    "test_woe.head()"
   ]
  },
  {
   "cell_type": "markdown",
   "id": "8b48335a",
   "metadata": {},
   "source": [
    "# Univariate Screening\n",
    "#### Generating univariate models to see which are predictive on their own"
   ]
  },
  {
   "cell_type": "code",
   "execution_count": 33,
   "id": "d95d551d",
   "metadata": {
    "ExecuteTime": {
     "end_time": "2022-11-18T19:45:59.665846Z",
     "start_time": "2022-11-18T19:45:59.232129Z"
    }
   },
   "outputs": [],
   "source": [
    "variables = train_woe.columns\n",
    "import statsmodels.api as sm\n",
    "from sklearn import metrics"
   ]
  },
  {
   "cell_type": "code",
   "execution_count": 34,
   "id": "b22af383",
   "metadata": {
    "ExecuteTime": {
     "end_time": "2022-11-18T19:46:01.305349Z",
     "start_time": "2022-11-18T19:45:59.668880Z"
    }
   },
   "outputs": [],
   "source": [
    "#getting AUC for each individual variable\n",
    "AUC = []\n",
    "count = 0\n",
    "for i in variables:\n",
    "    mod = sm.GLM(y_train, train_woe[i], family=sm.families.Binomial()).fit()\n",
    "    pred = mod.predict(test_woe[i])\n",
    "    fpr, tpr, thresholds = metrics.roc_curve(y_test, pred)\n",
    "    AUC.append(metrics.auc(fpr, tpr))"
   ]
  },
  {
   "cell_type": "code",
   "execution_count": 35,
   "id": "9752a362",
   "metadata": {
    "ExecuteTime": {
     "end_time": "2022-11-18T19:46:01.325672Z",
     "start_time": "2022-11-18T19:46:01.309729Z"
    }
   },
   "outputs": [
    {
     "data": {
      "text/html": [
       "<div>\n",
       "<style scoped>\n",
       "    .dataframe tbody tr th:only-of-type {\n",
       "        vertical-align: middle;\n",
       "    }\n",
       "\n",
       "    .dataframe tbody tr th {\n",
       "        vertical-align: top;\n",
       "    }\n",
       "\n",
       "    .dataframe thead th {\n",
       "        text-align: right;\n",
       "    }\n",
       "</style>\n",
       "<table border=\"1\" class=\"dataframe\">\n",
       "  <thead>\n",
       "    <tr style=\"text-align: right;\">\n",
       "      <th></th>\n",
       "      <th>Predictor</th>\n",
       "      <th>AUC</th>\n",
       "    </tr>\n",
       "  </thead>\n",
       "  <tbody>\n",
       "    <tr>\n",
       "      <th>0</th>\n",
       "      <td>district</td>\n",
       "      <td>0.578000</td>\n",
       "    </tr>\n",
       "    <tr>\n",
       "      <th>1</th>\n",
       "      <td>y_coordinate</td>\n",
       "      <td>0.500355</td>\n",
       "    </tr>\n",
       "    <tr>\n",
       "      <th>2</th>\n",
       "      <td>latitude</td>\n",
       "      <td>0.500213</td>\n",
       "    </tr>\n",
       "    <tr>\n",
       "      <th>3</th>\n",
       "      <td>x_coordinate</td>\n",
       "      <td>0.535105</td>\n",
       "    </tr>\n",
       "    <tr>\n",
       "      <th>4</th>\n",
       "      <td>domestic</td>\n",
       "      <td>0.509889</td>\n",
       "    </tr>\n",
       "    <tr>\n",
       "      <th>5</th>\n",
       "      <td>longitude</td>\n",
       "      <td>0.464626</td>\n",
       "    </tr>\n",
       "    <tr>\n",
       "      <th>6</th>\n",
       "      <td>primary_type</td>\n",
       "      <td>0.814979</td>\n",
       "    </tr>\n",
       "    <tr>\n",
       "      <th>7</th>\n",
       "      <td>month</td>\n",
       "      <td>0.543159</td>\n",
       "    </tr>\n",
       "  </tbody>\n",
       "</table>\n",
       "</div>"
      ],
      "text/plain": [
       "      Predictor       AUC\n",
       "0      district  0.578000\n",
       "1  y_coordinate  0.500355\n",
       "2      latitude  0.500213\n",
       "3  x_coordinate  0.535105\n",
       "4      domestic  0.509889\n",
       "5     longitude  0.464626\n",
       "6  primary_type  0.814979\n",
       "7         month  0.543159"
      ]
     },
     "execution_count": 35,
     "metadata": {},
     "output_type": "execute_result"
    }
   ],
   "source": [
    "#displaying AUCs alongside their predictor\n",
    "pd.DataFrame({\"Predictor\": train_woe.columns, \"AUC\": AUC})"
   ]
  },
  {
   "cell_type": "markdown",
   "id": "a254c74d",
   "metadata": {},
   "source": [
    "#### All predictors above .5 (random guessing) will be kept in for consideration"
   ]
  },
  {
   "cell_type": "code",
   "execution_count": 36,
   "id": "1acab96d",
   "metadata": {
    "ExecuteTime": {
     "end_time": "2022-11-18T19:46:01.376728Z",
     "start_time": "2022-11-18T19:46:01.333907Z"
    }
   },
   "outputs": [],
   "source": [
    "train_woe = train_woe.drop([\"longitude\"], axis = 1)\n",
    "test_woe = test_woe.drop([\"longitude\"], axis = 1)\n",
    "# what about y_coordinate and latitude?\n",
    "train_woe = train_woe.drop([\"y_coordinate\"], axis = 1)\n",
    "test_woe = test_woe.drop([\"y_coordinate\"], axis = 1)\n",
    "train_woe = train_woe.drop([\"latitude\"], axis = 1)\n",
    "test_woe = test_woe.drop([\"latitude\"], axis = 1)"
   ]
  },
  {
   "cell_type": "code",
   "execution_count": 37,
   "id": "37d9a3af",
   "metadata": {
    "ExecuteTime": {
     "end_time": "2022-11-18T19:46:01.623423Z",
     "start_time": "2022-11-18T19:46:01.380119Z"
    }
   },
   "outputs": [
    {
     "name": "stdout",
     "output_type": "stream",
     "text": [
      "Accuracy of logistic regression classifier on test set: 0.88\n"
     ]
    }
   ],
   "source": [
    "from sklearn.linear_model import LogisticRegression\n",
    "logreg = LogisticRegression()\n",
    "logreg.fit(train_woe, y_train)\n",
    "y_pred = logreg.predict(test_woe)\n",
    "print('Accuracy of logistic regression classifier on test set: {:.2f}'.format(logreg.score(test_woe, y_test)))\n"
   ]
  },
  {
   "cell_type": "code",
   "execution_count": 38,
   "id": "fe377473",
   "metadata": {
    "ExecuteTime": {
     "end_time": "2022-11-18T19:46:01.648542Z",
     "start_time": "2022-11-18T19:46:01.627432Z"
    }
   },
   "outputs": [
    {
     "name": "stdout",
     "output_type": "stream",
     "text": [
      "[[44354     0]\n",
      " [ 5838     0]]\n"
     ]
    }
   ],
   "source": [
    "from sklearn.metrics import confusion_matrix\n",
    "confusion_matrix = confusion_matrix(y_test, y_pred)\n",
    "print(confusion_matrix)"
   ]
  },
  {
   "cell_type": "code",
   "execution_count": 39,
   "id": "56d0e998",
   "metadata": {
    "ExecuteTime": {
     "end_time": "2022-11-18T19:46:01.661133Z",
     "start_time": "2022-11-18T19:46:01.653325Z"
    }
   },
   "outputs": [
    {
     "name": "stdout",
     "output_type": "stream",
     "text": [
      "[0.88368664        nan]\n",
      "[1. 0.]\n"
     ]
    },
    {
     "name": "stderr",
     "output_type": "stream",
     "text": [
      "/var/folders/lr/7699q93j6dl98rr5ftmz6p7r0000gn/T/ipykernel_23265/3082475497.py:5: RuntimeWarning: invalid value encountered in divide\n",
      "  precision = tp / tp_and_fp\n"
     ]
    }
   ],
   "source": [
    "tp_and_fn = confusion_matrix.sum(1)\n",
    "tp_and_fp = confusion_matrix.sum(0)\n",
    "tp = confusion_matrix.diagonal()\n",
    "\n",
    "precision = tp / tp_and_fp\n",
    "recall = tp / tp_and_fn\n",
    "\n",
    "print(precision)\n",
    "print(recall)"
   ]
  },
  {
   "cell_type": "code",
   "execution_count": 40,
   "id": "ccf7763b",
   "metadata": {
    "ExecuteTime": {
     "end_time": "2022-11-18T19:46:01.838253Z",
     "start_time": "2022-11-18T19:46:01.665523Z"
    }
   },
   "outputs": [
    {
     "name": "stdout",
     "output_type": "stream",
     "text": [
      "              precision    recall  f1-score   support\n",
      "\n",
      "           0       0.88      1.00      0.94     44354\n",
      "           1       0.00      0.00      0.00      5838\n",
      "\n",
      "    accuracy                           0.88     50192\n",
      "   macro avg       0.44      0.50      0.47     50192\n",
      "weighted avg       0.78      0.88      0.83     50192\n",
      "\n"
     ]
    },
    {
     "name": "stderr",
     "output_type": "stream",
     "text": [
      "/opt/anaconda3/envs/ds/lib/python3.10/site-packages/sklearn/metrics/_classification.py:1334: UndefinedMetricWarning: Precision and F-score are ill-defined and being set to 0.0 in labels with no predicted samples. Use `zero_division` parameter to control this behavior.\n",
      "  _warn_prf(average, modifier, msg_start, len(result))\n",
      "/opt/anaconda3/envs/ds/lib/python3.10/site-packages/sklearn/metrics/_classification.py:1334: UndefinedMetricWarning: Precision and F-score are ill-defined and being set to 0.0 in labels with no predicted samples. Use `zero_division` parameter to control this behavior.\n",
      "  _warn_prf(average, modifier, msg_start, len(result))\n",
      "/opt/anaconda3/envs/ds/lib/python3.10/site-packages/sklearn/metrics/_classification.py:1334: UndefinedMetricWarning: Precision and F-score are ill-defined and being set to 0.0 in labels with no predicted samples. Use `zero_division` parameter to control this behavior.\n",
      "  _warn_prf(average, modifier, msg_start, len(result))\n"
     ]
    }
   ],
   "source": [
    "from sklearn.metrics import classification_report\n",
    "print(classification_report(y_test, y_pred))"
   ]
  },
  {
   "cell_type": "code",
   "execution_count": 41,
   "id": "a96b5aad",
   "metadata": {
    "ExecuteTime": {
     "end_time": "2022-11-18T19:46:03.318113Z",
     "start_time": "2022-11-18T19:46:01.843346Z"
    }
   },
   "outputs": [
    {
     "data": {
      "image/png": "[encoded data removed]",
      "text/plain": [
       "<Figure size 640x480 with 1 Axes>"
      ]
     },
     "metadata": {},
     "output_type": "display_data"
    }
   ],
   "source": [
    "import matplotlib.pyplot as plt \n",
    "from sklearn.metrics import roc_auc_score\n",
    "from sklearn.metrics import roc_curve\n",
    "logit_roc_auc = roc_auc_score(y_test, logreg.predict(test_woe))\n",
    "fpr, tpr, thresholds = roc_curve(y_test, logreg.predict_proba(test_woe)[:,1])\n",
    "plt.figure()\n",
    "plt.plot(fpr, tpr, label='Logistic Regression (area = %0.2f)' % logit_roc_auc)\n",
    "plt.plot([0, 1], [0, 1],'r--')\n",
    "plt.xlim([0.0, 1.0])\n",
    "plt.ylim([0.0, 1.05])\n",
    "plt.xlabel('False Positive Rate')\n",
    "plt.ylabel('True Positive Rate')\n",
    "plt.title('Receiver operating characteristic')\n",
    "plt.legend(loc=\"lower right\")\n",
    "plt.savefig('Log_ROC')\n",
    "plt.show()"
   ]
  },
  {
   "cell_type": "markdown",
   "id": "a18d8efd",
   "metadata": {},
   "source": [
    "Our ROC curve is very close to the ROC curve of a purely random classifier. Our curve is very bad."
   ]
  },
  {
   "cell_type": "code",
   "execution_count": 62,
   "id": "c4d8317c",
   "metadata": {
    "ExecuteTime": {
     "end_time": "2022-11-18T19:52:52.743923Z",
     "start_time": "2022-11-18T19:52:52.737404Z"
    }
   },
   "outputs": [
    {
     "name": "stdout",
     "output_type": "stream",
     "text": [
      "        district  x_coordinate  domestic  primary_type     month\n",
      "180735   0.07421     1176884.0   0.10203      0.105908  0.252105\n",
      "0\n"
     ]
    }
   ],
   "source": [
    "# get random observation and prediction\n",
    "\n",
    "print(test_woe.iloc[:1])\n",
    "print(y_pred[0])"
   ]
  },
  {
   "cell_type": "markdown",
   "id": "395d8281",
   "metadata": {},
   "source": [
    "# Time Series (TO BE DONE)"
   ]
  },
  {
   "cell_type": "code",
   "execution_count": 42,
   "id": "1ffc6cc7",
   "metadata": {
    "ExecuteTime": {
     "end_time": "2022-11-18T19:46:03.718268Z",
     "start_time": "2022-11-18T19:46:03.320839Z"
    }
   },
   "outputs": [],
   "source": [
    "#creating data frames\n",
    "crime_agg = crime_df.groupby(by=month).size()\n",
    "crime_sum = crime_df.groupby(by=month).sum()"
   ]
  },
  {
   "cell_type": "code",
   "execution_count": 43,
   "id": "7a193f28",
   "metadata": {
    "ExecuteTime": {
     "end_time": "2022-11-18T19:46:03.726105Z",
     "start_time": "2022-11-18T19:46:03.720566Z"
    }
   },
   "outputs": [
    {
     "data": {
      "text/plain": [
       "2022-01    15449\n",
       "2022-02    15123\n",
       "2022-03    18202\n",
       "2022-04    17805\n",
       "2022-05    19956\n",
       "2022-06    20497\n",
       "2022-07    21996\n",
       "2022-08    21945\n",
       "2022-09    21891\n",
       "2022-10    22444\n",
       "2022-11     6872\n",
       "dtype: int64"
      ]
     },
     "execution_count": 43,
     "metadata": {},
     "output_type": "execute_result"
    }
   ],
   "source": [
    "#number of crimes per month\n",
    "crime_agg"
   ]
  }
 ],
 "metadata": {
  "kernelspec": {
   "display_name": "Python 3 (ipykernel)",
   "language": "python",
   "name": "python3"
  },
  "language_info": {
   "codemirror_mode": {
    "name": "ipython",
    "version": 3
   },
   "file_extension": ".py",
   "mimetype": "text/x-python",
   "name": "python",
   "nbconvert_exporter": "python",
   "pygments_lexer": "ipython3",
   "version": "3.10.6"
  },
  "toc": {
   "base_numbering": 1,
   "nav_menu": {},
   "number_sections": true,
   "sideBar": true,
   "skip_h1_title": false,
   "title_cell": "Table of Contents",
   "title_sidebar": "Contents",
   "toc_cell": false,
   "toc_position": {},
   "toc_section_display": true,
   "toc_window_display": false
  },
  "varInspector": {
   "cols": {
    "lenName": 16,
    "lenType": 16,
    "lenVar": 40
   },
   "kernels_config": {
    "python": {
     "delete_cmd_postfix": "",
     "delete_cmd_prefix": "del ",
     "library": "var_list.py",
     "varRefreshCmd": "print(var_dic_list())"
    },
    "r": {
     "delete_cmd_postfix": ") ",
     "delete_cmd_prefix": "rm(",
     "library": "var_list.r",
     "varRefreshCmd": "cat(var_dic_list()) "
    }
   },
   "types_to_exclude": [
    "module",
    "function",
    "builtin_function_or_method",
    "instance",
    "_Feature"
   ],
   "window_display": false
  }
 },
 "nbformat": 4,
 "nbformat_minor": 5
}
