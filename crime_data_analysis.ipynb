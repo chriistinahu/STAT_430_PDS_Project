{
 "cells": [
  {
   "cell_type": "code",
   "execution_count": 10,
   "id": "586fbc91",
   "metadata": {
    "ExecuteTime": {
     "end_time": "2022-11-15T16:20:46.635459Z",
     "start_time": "2022-11-15T16:20:46.625679Z"
    }
   },
   "outputs": [],
   "source": [
    "import pandas as pd\n",
    "import sodapy\n",
    "from sodapy import Socrata"
   ]
  },
  {
   "cell_type": "code",
   "execution_count": null,
   "id": "018a2465",
   "metadata": {
    "ExecuteTime": {
     "start_time": "2022-11-15T02:56:59.464Z"
    }
   },
   "outputs": [],
   "source": [
    "# crime_url = \"https://data.cityofchicago.org/resource/9hwr-2zxp.json\"\n",
    "\n",
    "\n",
    "app_token = \"8y23ArYxg4pcvOMgWzMFSC0nB\"\n",
    "\n",
    "# Example authenticated client (needed for non-public datasets):\n",
    "client = Socrata(\"data.cityofchicago.org\",\n",
    "                 app_token, \n",
    "                 username=\"ch35@illinois.edu\",\n",
    "                 password=\"68M8rz3vF!StBjD\")\n",
    "\n",
    "\n",
    "# First 2000 results, returned as JSON from API / converted to Python list of\n",
    "# dictionaries by sodapy.\n",
    "results = client.get(\"9hwr-2zxp\", limit = 200000)\n",
    "\n",
    "# Convert to pandas DataFrame\n",
    "crime_df = pd.DataFrame.from_records(results)"
   ]
  },
  {
   "cell_type": "code",
   "execution_count": null,
   "id": "e7a5a0dd",
   "metadata": {
    "ExecuteTime": {
     "start_time": "2022-11-15T02:57:00.207Z"
    }
   },
   "outputs": [],
   "source": [
    "crime_df.head()"
   ]
  },
  {
   "cell_type": "code",
   "execution_count": null,
   "id": "971a0f71",
   "metadata": {
    "ExecuteTime": {
     "start_time": "2022-11-15T02:57:00.808Z"
    }
   },
   "outputs": [],
   "source": [
    "crime_df.describe()"
   ]
  },
  {
   "cell_type": "code",
   "execution_count": null,
   "id": "f1850cce",
   "metadata": {},
   "outputs": [],
   "source": []
  }
 ],
 "metadata": {
  "kernelspec": {
   "display_name": "Python 3 (ipykernel)",
   "language": "python",
   "name": "python3"
  },
  "language_info": {
   "codemirror_mode": {
    "name": "ipython",
    "version": 3
   },
   "file_extension": ".py",
   "mimetype": "text/x-python",
   "name": "python",
   "nbconvert_exporter": "python",
   "pygments_lexer": "ipython3",
   "version": "3.10.6"
  },
  "toc": {
   "base_numbering": 1,
   "nav_menu": {},
   "number_sections": true,
   "sideBar": true,
   "skip_h1_title": false,
   "title_cell": "Table of Contents",
   "title_sidebar": "Contents",
   "toc_cell": false,
   "toc_position": {},
   "toc_section_display": true,
   "toc_window_display": false
  },
  "varInspector": {
   "cols": {
    "lenName": 16,
    "lenType": 16,
    "lenVar": 40
   },
   "kernels_config": {
    "python": {
     "delete_cmd_postfix": "",
     "delete_cmd_prefix": "del ",
     "library": "var_list.py",
     "varRefreshCmd": "print(var_dic_list())"
    },
    "r": {
     "delete_cmd_postfix": ") ",
     "delete_cmd_prefix": "rm(",
     "library": "var_list.r",
     "varRefreshCmd": "cat(var_dic_list()) "
    }
   },
   "types_to_exclude": [
    "module",
    "function",
    "builtin_function_or_method",
    "instance",
    "_Feature"
   ],
   "window_display": false
  }
 },
 "nbformat": 4,
 "nbformat_minor": 5
}
